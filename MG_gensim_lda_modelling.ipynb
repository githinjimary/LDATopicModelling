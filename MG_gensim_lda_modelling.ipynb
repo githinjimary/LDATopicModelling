{
  "nbformat": 4,
  "nbformat_minor": 0,
  "metadata": {
    "colab": {
      "name": "MG_gensim_lda_modelling.ipynb",
      "provenance": [],
      "collapsed_sections": [],
      "include_colab_link": true
    },
    "kernelspec": {
      "name": "python3",
      "display_name": "Python 3"
    },
    "language_info": {
      "name": "python"
    }
  },
  "cells": [
    {
      "cell_type": "markdown",
      "metadata": {
        "id": "view-in-github",
        "colab_type": "text"
      },
      "source": [
        "<a href=\"https://colab.research.google.com/github/githinjimary/LDATopicModelling/blob/main/MG_gensim_lda_modelling.ipynb\" target=\"_parent\"><img src=\"https://colab.research.google.com/assets/colab-badge.svg\" alt=\"Open In Colab\"/></a>"
      ]
    },
    {
      "cell_type": "code",
      "source": [
        "# import libraries\n",
        "\n",
        "import pandas as pd\n",
        "import numpy as np\n",
        "import matplotlib.pyplot as plt\n",
        "import seaborn as sns\n",
        "import sklearn\n",
        "import numpy as np\n",
        "import re\n",
        "import nltk\n",
        "from nltk.tokenize import RegexpTokenizer\n",
        "from nltk.corpus import stopwords\n",
        "from nltk.stem.wordnet import WordNetLemmatizer\n",
        "from sklearn.feature_extraction.text import CountVectorizer\n",
        "from sklearn.feature_extraction.text import TfidfVectorizer\n",
        "from sklearn.decomposition import LatentDirichletAllocation"
      ],
      "metadata": {
        "id": "uG4Y9Lovuzei"
      },
      "execution_count": 1,
      "outputs": []
    },
    {
      "cell_type": "code",
      "source": [
        "# download stopwords\n",
        "\n",
        "!python -m nltk.downloader stopwords"
      ],
      "metadata": {
        "colab": {
          "base_uri": "https://localhost:8080/"
        },
        "id": "W61zBNzGwlJT",
        "outputId": "d8f8d9c5-e9fe-4dac-a964-e5ab70ebb61d"
      },
      "execution_count": 2,
      "outputs": [
        {
          "output_type": "stream",
          "name": "stdout",
          "text": [
            "/usr/lib/python3.7/runpy.py:125: RuntimeWarning: 'nltk.downloader' found in sys.modules after import of package 'nltk', but prior to execution of 'nltk.downloader'; this may result in unpredictable behaviour\n",
            "  warn(RuntimeWarning(msg))\n",
            "[nltk_data] Downloading package stopwords to /root/nltk_data...\n",
            "[nltk_data]   Unzipping corpora/stopwords.zip.\n"
          ]
        }
      ]
    },
    {
      "cell_type": "code",
      "execution_count": 3,
      "metadata": {
        "id": "pyIWGg9OuL3w"
      },
      "outputs": [],
      "source": [
        "# utility functions from -- https://ourcodingclub.github.io/tutorials/topic-modelling-python/\n",
        "\n",
        "\n",
        "def remove_links(tweet):\n",
        "    '''Takes a string and removes web links from it'''\n",
        "    tweet = re.sub(r'http\\S+', '', tweet) # remove http links\n",
        "    tweet = re.sub(r'bit.ly/\\S+', '', tweet) # rempve bitly links\n",
        "    tweet = tweet.strip('[link]') # remove [links]\n",
        "    return tweet\n",
        "\n",
        "def remove_users(tweet):\n",
        "    '''Takes a string and removes retweet and @user information'''\n",
        "    tweet = re.sub('(RT\\s@[A-Za-z]+[A-Za-z0-9-_]+)', '', tweet) # remove retweet\n",
        "    tweet=re.sub(r'^b\\s([RT]+)?','',tweet)  #replace RT-tags\n",
        "    tweet = re.sub('(@[A-Za-z]+[A-Za-z0-9-_]+)', '', tweet) # remove tweeted at\n",
        "    return tweet\n",
        "\n",
        "my_stopwords = nltk.corpus.stopwords.words('english')\n",
        "word_rooter = nltk.stem.snowball.PorterStemmer(ignore_stopwords=False).stem\n",
        "my_punctuation = '!\"$%&\\'()*+,-./:;<=>?[\\\\]^_`{|}~•@'\n",
        "\n",
        "# cleaning master function\n",
        "def clean_tweet(tweet, bigrams=False):\n",
        "    tweet = remove_users(tweet)\n",
        "    tweet = remove_links(tweet)\n",
        "    tweet = tweet.lower() # lower case\n",
        "    tweet = re.sub('['+my_punctuation + ']+', ' ', tweet) # strip punctuation\n",
        "    tweet = re.sub('\\s+', ' ', tweet) #remove double spacing\n",
        "    tweet = re.sub(\"b'\", '', tweet) # remove the b'\n",
        "    tweet = re.sub('([0-9]+)', '', tweet) # remove numbers\n",
        "    tweet_token_list = [word for word in tweet.split(' ')\n",
        "                            if word not in my_stopwords] # remove stopwords\n",
        "\n",
        "    tweet_token_list = [word_rooter(word) if '#' not in word else word\n",
        "                        for word in tweet_token_list] # apply word rooter\n",
        "    if bigrams:\n",
        "        tweet_token_list = tweet_token_list+[tweet_token_list[i]+'_'+tweet_token_list[i+1]\n",
        "                                            for i in range(len(tweet_token_list)-1)]\n",
        "    tweet = ' '.join(tweet_token_list)\n",
        "    return tweet"
      ]
    },
    {
      "cell_type": "code",
      "source": [
        "def clean2(text):\n",
        "    text = str(text).lower()\n",
        "    text = re.sub(r'@\\w+', ' ', text)\n",
        "    text = re.sub('https?://\\S+|www\\.\\S+', '', text)\n",
        "    text = re.sub(r'[^a-z A-Z]', ' ',text)\n",
        "    text = re.sub(r'\\b\\w{1,2}\\b', '', text)\n",
        "    text = re.sub(r'[^\\w\\s]','',text)\n",
        "    text = re.sub(r'^RT[\\s]+', '', text)\n",
        "    text = re.sub('\\[.*?\\]', '', text)\n",
        "    text = re.sub('<.*?>+', '', text)\n",
        "    text = re.sub('\\n', '', text)\n",
        "    text = re.sub('\\w*\\d\\w*', '', text)\n",
        "    text = re.sub(r'#', '', text)\n",
        "    text = re.sub(r'[^\\w\\s]','',text)\n",
        "    text = re.sub(r'@[A-Za-z0–9]+', '', text) \n",
        "    text = re.sub(r' +', ' ', text)\n",
        "    return text"
      ],
      "metadata": {
        "id": "n1KoZxIg411k"
      },
      "execution_count": 4,
      "outputs": []
    },
    {
      "cell_type": "code",
      "source": [
        "# download the tweet dataset \n",
        "\n",
        "!wget https://dsiwork.s3.amazonaws.com/dataset.csv"
      ],
      "metadata": {
        "colab": {
          "base_uri": "https://localhost:8080/"
        },
        "id": "WbuWF9xewjnz",
        "outputId": "bf6ecacf-77f1-4a56-9f4d-78fb0d461995"
      },
      "execution_count": 5,
      "outputs": [
        {
          "output_type": "stream",
          "name": "stdout",
          "text": [
            "--2022-04-13 07:41:51--  https://dsiwork.s3.amazonaws.com/dataset.csv\n",
            "Resolving dsiwork.s3.amazonaws.com (dsiwork.s3.amazonaws.com)... 54.231.128.97\n",
            "Connecting to dsiwork.s3.amazonaws.com (dsiwork.s3.amazonaws.com)|54.231.128.97|:443... connected.\n",
            "HTTP request sent, awaiting response... 200 OK\n",
            "Length: 496370 (485K) [text/csv]\n",
            "Saving to: ‘dataset.csv’\n",
            "\n",
            "dataset.csv         100%[===================>] 484.74K   671KB/s    in 0.7s    \n",
            "\n",
            "2022-04-13 07:41:53 (671 KB/s) - ‘dataset.csv’ saved [496370/496370]\n",
            "\n"
          ]
        }
      ]
    },
    {
      "cell_type": "code",
      "source": [
        "data = pd.read_csv(\"dataset.csv\", parse_dates=[\"date_created\"],   encoding=\"ISO-8859-1\")"
      ],
      "metadata": {
        "id": "IW8-k8vUxgtq"
      },
      "execution_count": 6,
      "outputs": []
    },
    {
      "cell_type": "code",
      "source": [
        "data.head()"
      ],
      "metadata": {
        "colab": {
          "base_uri": "https://localhost:8080/",
          "height": 206
        },
        "id": "EbS1l-ZTxyay",
        "outputId": "9800f8b5-36cc-4b0f-c0f9-df4d25626067"
      },
      "execution_count": 7,
      "outputs": [
        {
          "output_type": "execute_result",
          "data": {
            "text/plain": [
              "                    id  retweet_count              date_created  \\\n",
              "0  1508758968482635778           1092 2022-03-29 10:52:24+00:00   \n",
              "1  1508661904192913410           2275 2022-03-29 04:26:42+00:00   \n",
              "2  1508815292578816015            563 2022-03-29 14:36:12+00:00   \n",
              "3  1509067192888926208              9 2022-03-30 07:17:10+00:00   \n",
              "4  1509067189827026945              0 2022-03-30 07:17:09+00:00   \n",
              "\n",
              "                                               tweet  \n",
              "0  b'A 31-year-old Ugandan traditional healer liv...  \n",
              "1  b'Date mein kya rakha hai?\\nMarch 29th, a very...  \n",
              "2  b'Moeletsi Mbeki has accused South Africa\\xe2\\...  \n",
              "3  b\"RT @ThamiMasemola: Isuzu Motors South Africa...  \n",
              "4  b'SAFA President, ANC Dr Danny Jordaan \\n\\nIs ...  "
            ],
            "text/html": [
              "\n",
              "  <div id=\"df-2b2c6884-83a5-4325-9b5f-76f64b520794\">\n",
              "    <div class=\"colab-df-container\">\n",
              "      <div>\n",
              "<style scoped>\n",
              "    .dataframe tbody tr th:only-of-type {\n",
              "        vertical-align: middle;\n",
              "    }\n",
              "\n",
              "    .dataframe tbody tr th {\n",
              "        vertical-align: top;\n",
              "    }\n",
              "\n",
              "    .dataframe thead th {\n",
              "        text-align: right;\n",
              "    }\n",
              "</style>\n",
              "<table border=\"1\" class=\"dataframe\">\n",
              "  <thead>\n",
              "    <tr style=\"text-align: right;\">\n",
              "      <th></th>\n",
              "      <th>id</th>\n",
              "      <th>retweet_count</th>\n",
              "      <th>date_created</th>\n",
              "      <th>tweet</th>\n",
              "    </tr>\n",
              "  </thead>\n",
              "  <tbody>\n",
              "    <tr>\n",
              "      <th>0</th>\n",
              "      <td>1508758968482635778</td>\n",
              "      <td>1092</td>\n",
              "      <td>2022-03-29 10:52:24+00:00</td>\n",
              "      <td>b'A 31-year-old Ugandan traditional healer liv...</td>\n",
              "    </tr>\n",
              "    <tr>\n",
              "      <th>1</th>\n",
              "      <td>1508661904192913410</td>\n",
              "      <td>2275</td>\n",
              "      <td>2022-03-29 04:26:42+00:00</td>\n",
              "      <td>b'Date mein kya rakha hai?\\nMarch 29th, a very...</td>\n",
              "    </tr>\n",
              "    <tr>\n",
              "      <th>2</th>\n",
              "      <td>1508815292578816015</td>\n",
              "      <td>563</td>\n",
              "      <td>2022-03-29 14:36:12+00:00</td>\n",
              "      <td>b'Moeletsi Mbeki has accused South Africa\\xe2\\...</td>\n",
              "    </tr>\n",
              "    <tr>\n",
              "      <th>3</th>\n",
              "      <td>1509067192888926208</td>\n",
              "      <td>9</td>\n",
              "      <td>2022-03-30 07:17:10+00:00</td>\n",
              "      <td>b\"RT @ThamiMasemola: Isuzu Motors South Africa...</td>\n",
              "    </tr>\n",
              "    <tr>\n",
              "      <th>4</th>\n",
              "      <td>1509067189827026945</td>\n",
              "      <td>0</td>\n",
              "      <td>2022-03-30 07:17:09+00:00</td>\n",
              "      <td>b'SAFA President, ANC Dr Danny Jordaan \\n\\nIs ...</td>\n",
              "    </tr>\n",
              "  </tbody>\n",
              "</table>\n",
              "</div>\n",
              "      <button class=\"colab-df-convert\" onclick=\"convertToInteractive('df-2b2c6884-83a5-4325-9b5f-76f64b520794')\"\n",
              "              title=\"Convert this dataframe to an interactive table.\"\n",
              "              style=\"display:none;\">\n",
              "        \n",
              "  <svg xmlns=\"http://www.w3.org/2000/svg\" height=\"24px\"viewBox=\"0 0 24 24\"\n",
              "       width=\"24px\">\n",
              "    <path d=\"M0 0h24v24H0V0z\" fill=\"none\"/>\n",
              "    <path d=\"M18.56 5.44l.94 2.06.94-2.06 2.06-.94-2.06-.94-.94-2.06-.94 2.06-2.06.94zm-11 1L8.5 8.5l.94-2.06 2.06-.94-2.06-.94L8.5 2.5l-.94 2.06-2.06.94zm10 10l.94 2.06.94-2.06 2.06-.94-2.06-.94-.94-2.06-.94 2.06-2.06.94z\"/><path d=\"M17.41 7.96l-1.37-1.37c-.4-.4-.92-.59-1.43-.59-.52 0-1.04.2-1.43.59L10.3 9.45l-7.72 7.72c-.78.78-.78 2.05 0 2.83L4 21.41c.39.39.9.59 1.41.59.51 0 1.02-.2 1.41-.59l7.78-7.78 2.81-2.81c.8-.78.8-2.07 0-2.86zM5.41 20L4 18.59l7.72-7.72 1.47 1.35L5.41 20z\"/>\n",
              "  </svg>\n",
              "      </button>\n",
              "      \n",
              "  <style>\n",
              "    .colab-df-container {\n",
              "      display:flex;\n",
              "      flex-wrap:wrap;\n",
              "      gap: 12px;\n",
              "    }\n",
              "\n",
              "    .colab-df-convert {\n",
              "      background-color: #E8F0FE;\n",
              "      border: none;\n",
              "      border-radius: 50%;\n",
              "      cursor: pointer;\n",
              "      display: none;\n",
              "      fill: #1967D2;\n",
              "      height: 32px;\n",
              "      padding: 0 0 0 0;\n",
              "      width: 32px;\n",
              "    }\n",
              "\n",
              "    .colab-df-convert:hover {\n",
              "      background-color: #E2EBFA;\n",
              "      box-shadow: 0px 1px 2px rgba(60, 64, 67, 0.3), 0px 1px 3px 1px rgba(60, 64, 67, 0.15);\n",
              "      fill: #174EA6;\n",
              "    }\n",
              "\n",
              "    [theme=dark] .colab-df-convert {\n",
              "      background-color: #3B4455;\n",
              "      fill: #D2E3FC;\n",
              "    }\n",
              "\n",
              "    [theme=dark] .colab-df-convert:hover {\n",
              "      background-color: #434B5C;\n",
              "      box-shadow: 0px 1px 3px 1px rgba(0, 0, 0, 0.15);\n",
              "      filter: drop-shadow(0px 1px 2px rgba(0, 0, 0, 0.3));\n",
              "      fill: #FFFFFF;\n",
              "    }\n",
              "  </style>\n",
              "\n",
              "      <script>\n",
              "        const buttonEl =\n",
              "          document.querySelector('#df-2b2c6884-83a5-4325-9b5f-76f64b520794 button.colab-df-convert');\n",
              "        buttonEl.style.display =\n",
              "          google.colab.kernel.accessAllowed ? 'block' : 'none';\n",
              "\n",
              "        async function convertToInteractive(key) {\n",
              "          const element = document.querySelector('#df-2b2c6884-83a5-4325-9b5f-76f64b520794');\n",
              "          const dataTable =\n",
              "            await google.colab.kernel.invokeFunction('convertToInteractive',\n",
              "                                                     [key], {});\n",
              "          if (!dataTable) return;\n",
              "\n",
              "          const docLinkHtml = 'Like what you see? Visit the ' +\n",
              "            '<a target=\"_blank\" href=https://colab.research.google.com/notebooks/data_table.ipynb>data table notebook</a>'\n",
              "            + ' to learn more about interactive tables.';\n",
              "          element.innerHTML = '';\n",
              "          dataTable['output_type'] = 'display_data';\n",
              "          await google.colab.output.renderOutput(dataTable, element);\n",
              "          const docLink = document.createElement('div');\n",
              "          docLink.innerHTML = docLinkHtml;\n",
              "          element.appendChild(docLink);\n",
              "        }\n",
              "      </script>\n",
              "    </div>\n",
              "  </div>\n",
              "  "
            ]
          },
          "metadata": {},
          "execution_count": 7
        }
      ]
    },
    {
      "cell_type": "code",
      "source": [
        "#data['clean_tweet'] = data.tweet.apply(clean_tweet)\n",
        "data['clean_tweet'] = data.tweet.apply(clean2)\n",
        "data.head()"
      ],
      "metadata": {
        "colab": {
          "base_uri": "https://localhost:8080/",
          "height": 336
        },
        "id": "kyFvMK2oyOFa",
        "outputId": "1ac1b890-7c2b-4523-8cd4-0f607080ee9a"
      },
      "execution_count": 8,
      "outputs": [
        {
          "output_type": "execute_result",
          "data": {
            "text/plain": [
              "                    id  retweet_count              date_created  \\\n",
              "0  1508758968482635778           1092 2022-03-29 10:52:24+00:00   \n",
              "1  1508661904192913410           2275 2022-03-29 04:26:42+00:00   \n",
              "2  1508815292578816015            563 2022-03-29 14:36:12+00:00   \n",
              "3  1509067192888926208              9 2022-03-30 07:17:10+00:00   \n",
              "4  1509067189827026945              0 2022-03-30 07:17:09+00:00   \n",
              "\n",
              "                                               tweet  \\\n",
              "0  b'A 31-year-old Ugandan traditional healer liv...   \n",
              "1  b'Date mein kya rakha hai?\\nMarch 29th, a very...   \n",
              "2  b'Moeletsi Mbeki has accused South Africa\\xe2\\...   \n",
              "3  b\"RT @ThamiMasemola: Isuzu Motors South Africa...   \n",
              "4  b'SAFA President, ANC Dr Danny Jordaan \\n\\nIs ...   \n",
              "\n",
              "                                         clean_tweet  \n",
              "0   year old ugandan traditional healer living so...  \n",
              "1   date mein kya rakha hai nmarch very significa...  \n",
              "2   moeletsi mbeki has accused south africa rulin...  \n",
              "3   isuzu motors south africa has begun manufactu...  \n",
              "4   safa president anc danny jordaan nis destroyi...  "
            ],
            "text/html": [
              "\n",
              "  <div id=\"df-91158e08-023b-43e5-b5fb-8742b20df6bd\">\n",
              "    <div class=\"colab-df-container\">\n",
              "      <div>\n",
              "<style scoped>\n",
              "    .dataframe tbody tr th:only-of-type {\n",
              "        vertical-align: middle;\n",
              "    }\n",
              "\n",
              "    .dataframe tbody tr th {\n",
              "        vertical-align: top;\n",
              "    }\n",
              "\n",
              "    .dataframe thead th {\n",
              "        text-align: right;\n",
              "    }\n",
              "</style>\n",
              "<table border=\"1\" class=\"dataframe\">\n",
              "  <thead>\n",
              "    <tr style=\"text-align: right;\">\n",
              "      <th></th>\n",
              "      <th>id</th>\n",
              "      <th>retweet_count</th>\n",
              "      <th>date_created</th>\n",
              "      <th>tweet</th>\n",
              "      <th>clean_tweet</th>\n",
              "    </tr>\n",
              "  </thead>\n",
              "  <tbody>\n",
              "    <tr>\n",
              "      <th>0</th>\n",
              "      <td>1508758968482635778</td>\n",
              "      <td>1092</td>\n",
              "      <td>2022-03-29 10:52:24+00:00</td>\n",
              "      <td>b'A 31-year-old Ugandan traditional healer liv...</td>\n",
              "      <td>year old ugandan traditional healer living so...</td>\n",
              "    </tr>\n",
              "    <tr>\n",
              "      <th>1</th>\n",
              "      <td>1508661904192913410</td>\n",
              "      <td>2275</td>\n",
              "      <td>2022-03-29 04:26:42+00:00</td>\n",
              "      <td>b'Date mein kya rakha hai?\\nMarch 29th, a very...</td>\n",
              "      <td>date mein kya rakha hai nmarch very significa...</td>\n",
              "    </tr>\n",
              "    <tr>\n",
              "      <th>2</th>\n",
              "      <td>1508815292578816015</td>\n",
              "      <td>563</td>\n",
              "      <td>2022-03-29 14:36:12+00:00</td>\n",
              "      <td>b'Moeletsi Mbeki has accused South Africa\\xe2\\...</td>\n",
              "      <td>moeletsi mbeki has accused south africa rulin...</td>\n",
              "    </tr>\n",
              "    <tr>\n",
              "      <th>3</th>\n",
              "      <td>1509067192888926208</td>\n",
              "      <td>9</td>\n",
              "      <td>2022-03-30 07:17:10+00:00</td>\n",
              "      <td>b\"RT @ThamiMasemola: Isuzu Motors South Africa...</td>\n",
              "      <td>isuzu motors south africa has begun manufactu...</td>\n",
              "    </tr>\n",
              "    <tr>\n",
              "      <th>4</th>\n",
              "      <td>1509067189827026945</td>\n",
              "      <td>0</td>\n",
              "      <td>2022-03-30 07:17:09+00:00</td>\n",
              "      <td>b'SAFA President, ANC Dr Danny Jordaan \\n\\nIs ...</td>\n",
              "      <td>safa president anc danny jordaan nis destroyi...</td>\n",
              "    </tr>\n",
              "  </tbody>\n",
              "</table>\n",
              "</div>\n",
              "      <button class=\"colab-df-convert\" onclick=\"convertToInteractive('df-91158e08-023b-43e5-b5fb-8742b20df6bd')\"\n",
              "              title=\"Convert this dataframe to an interactive table.\"\n",
              "              style=\"display:none;\">\n",
              "        \n",
              "  <svg xmlns=\"http://www.w3.org/2000/svg\" height=\"24px\"viewBox=\"0 0 24 24\"\n",
              "       width=\"24px\">\n",
              "    <path d=\"M0 0h24v24H0V0z\" fill=\"none\"/>\n",
              "    <path d=\"M18.56 5.44l.94 2.06.94-2.06 2.06-.94-2.06-.94-.94-2.06-.94 2.06-2.06.94zm-11 1L8.5 8.5l.94-2.06 2.06-.94-2.06-.94L8.5 2.5l-.94 2.06-2.06.94zm10 10l.94 2.06.94-2.06 2.06-.94-2.06-.94-.94-2.06-.94 2.06-2.06.94z\"/><path d=\"M17.41 7.96l-1.37-1.37c-.4-.4-.92-.59-1.43-.59-.52 0-1.04.2-1.43.59L10.3 9.45l-7.72 7.72c-.78.78-.78 2.05 0 2.83L4 21.41c.39.39.9.59 1.41.59.51 0 1.02-.2 1.41-.59l7.78-7.78 2.81-2.81c.8-.78.8-2.07 0-2.86zM5.41 20L4 18.59l7.72-7.72 1.47 1.35L5.41 20z\"/>\n",
              "  </svg>\n",
              "      </button>\n",
              "      \n",
              "  <style>\n",
              "    .colab-df-container {\n",
              "      display:flex;\n",
              "      flex-wrap:wrap;\n",
              "      gap: 12px;\n",
              "    }\n",
              "\n",
              "    .colab-df-convert {\n",
              "      background-color: #E8F0FE;\n",
              "      border: none;\n",
              "      border-radius: 50%;\n",
              "      cursor: pointer;\n",
              "      display: none;\n",
              "      fill: #1967D2;\n",
              "      height: 32px;\n",
              "      padding: 0 0 0 0;\n",
              "      width: 32px;\n",
              "    }\n",
              "\n",
              "    .colab-df-convert:hover {\n",
              "      background-color: #E2EBFA;\n",
              "      box-shadow: 0px 1px 2px rgba(60, 64, 67, 0.3), 0px 1px 3px 1px rgba(60, 64, 67, 0.15);\n",
              "      fill: #174EA6;\n",
              "    }\n",
              "\n",
              "    [theme=dark] .colab-df-convert {\n",
              "      background-color: #3B4455;\n",
              "      fill: #D2E3FC;\n",
              "    }\n",
              "\n",
              "    [theme=dark] .colab-df-convert:hover {\n",
              "      background-color: #434B5C;\n",
              "      box-shadow: 0px 1px 3px 1px rgba(0, 0, 0, 0.15);\n",
              "      filter: drop-shadow(0px 1px 2px rgba(0, 0, 0, 0.3));\n",
              "      fill: #FFFFFF;\n",
              "    }\n",
              "  </style>\n",
              "\n",
              "      <script>\n",
              "        const buttonEl =\n",
              "          document.querySelector('#df-91158e08-023b-43e5-b5fb-8742b20df6bd button.colab-df-convert');\n",
              "        buttonEl.style.display =\n",
              "          google.colab.kernel.accessAllowed ? 'block' : 'none';\n",
              "\n",
              "        async function convertToInteractive(key) {\n",
              "          const element = document.querySelector('#df-91158e08-023b-43e5-b5fb-8742b20df6bd');\n",
              "          const dataTable =\n",
              "            await google.colab.kernel.invokeFunction('convertToInteractive',\n",
              "                                                     [key], {});\n",
              "          if (!dataTable) return;\n",
              "\n",
              "          const docLinkHtml = 'Like what you see? Visit the ' +\n",
              "            '<a target=\"_blank\" href=https://colab.research.google.com/notebooks/data_table.ipynb>data table notebook</a>'\n",
              "            + ' to learn more about interactive tables.';\n",
              "          element.innerHTML = '';\n",
              "          dataTable['output_type'] = 'display_data';\n",
              "          await google.colab.output.renderOutput(dataTable, element);\n",
              "          const docLink = document.createElement('div');\n",
              "          docLink.innerHTML = docLinkHtml;\n",
              "          element.appendChild(docLink);\n",
              "        }\n",
              "      </script>\n",
              "    </div>\n",
              "  </div>\n",
              "  "
            ]
          },
          "metadata": {},
          "execution_count": 8
        }
      ]
    },
    {
      "cell_type": "code",
      "source": [
        "# Remove stopwords\n",
        "stop_words = set(stopwords.words(\"english\"))\n",
        "data[\"clean_tweet\"] = data[\"clean_tweet\"].apply(lambda x : \" \".join([w.lower() for w in x.split() if w not in stop_words and len(w) > 3]))"
      ],
      "metadata": {
        "id": "tu7P-HA7vOLs"
      },
      "execution_count": 9,
      "outputs": []
    },
    {
      "cell_type": "code",
      "source": [
        "#Tokenize tweet\n",
        "tweets = data[\"clean_tweet\"].apply(lambda x : x.split())"
      ],
      "metadata": {
        "id": "kaWb4VD35-y8"
      },
      "execution_count": 10,
      "outputs": []
    },
    {
      "cell_type": "code",
      "source": [
        "#skipping lemmatization improved the topic results -- needs more investigation\n",
        "\n",
        "#lemmatize\n",
        "lemma = WordNetLemmatizer()\n",
        "nltk.download('wordnet')\n",
        "lemming_tweets = tweets.apply(lambda x:[lemma.lemmatize(i) for i in x])\n",
        "lemming_tweets\n"
      ],
      "metadata": {
        "colab": {
          "base_uri": "https://localhost:8080/"
        },
        "id": "vmSxFdo_6Gqy",
        "outputId": "4bd7b8fa-b0bd-452b-c81c-615984934ecc"
      },
      "execution_count": 11,
      "outputs": [
        {
          "output_type": "stream",
          "name": "stdout",
          "text": [
            "[nltk_data] Downloading package wordnet to /root/nltk_data...\n",
            "[nltk_data]   Unzipping corpora/wordnet.zip.\n"
          ]
        },
        {
          "output_type": "execute_result",
          "data": {
            "text/plain": [
              "0       [year, ugandan, traditional, healer, living, s...\n",
              "1       [date, mein, rakha, nmarch, significant, date,...\n",
              "2       [moeletsi, mbeki, accused, south, africa, ruli...\n",
              "3       [isuzu, motor, south, africa, begun, manufactu...\n",
              "4       [safa, president, danny, jordaan, destroying, ...\n",
              "                              ...                        \n",
              "2395    [mined, kimberley, south, africa, carat, tiffa...\n",
              "2396    [breaking, government, mexico, publicly, rejec...\n",
              "2397    [giveaway, human, lion, cage, experience, life...\n",
              "2398      [save, exchange, south, africa, showing, flame]\n",
              "2399    [must, watch, ndrama, agony, ecstasy, access, ...\n",
              "Name: clean_tweet, Length: 2400, dtype: object"
            ]
          },
          "metadata": {},
          "execution_count": 11
        }
      ]
    },
    {
      "cell_type": "markdown",
      "source": [
        "# Modelling "
      ],
      "metadata": {
        "id": "t0WYpMI37osy"
      }
    },
    {
      "cell_type": "code",
      "source": [
        "%%capture\n",
        "!python -m spacy download en_core_web_lg"
      ],
      "metadata": {
        "id": "rZPCsmUM0ik0"
      },
      "execution_count": 12,
      "outputs": []
    },
    {
      "cell_type": "code",
      "source": [
        "pip install gensim"
      ],
      "metadata": {
        "colab": {
          "base_uri": "https://localhost:8080/"
        },
        "id": "2bjeGc6t0VbL",
        "outputId": "c1cc08ec-b206-4158-9cbc-6a59c557c648"
      },
      "execution_count": 28,
      "outputs": [
        {
          "output_type": "stream",
          "name": "stdout",
          "text": [
            "Requirement already satisfied: gensim in /usr/local/lib/python3.7/dist-packages (3.6.0)\n",
            "Requirement already satisfied: six>=1.5.0 in /usr/local/lib/python3.7/dist-packages (from gensim) (1.15.0)\n",
            "Requirement already satisfied: smart-open>=1.2.1 in /usr/local/lib/python3.7/dist-packages (from gensim) (5.2.1)\n",
            "Requirement already satisfied: numpy>=1.11.3 in /usr/local/lib/python3.7/dist-packages (from gensim) (1.21.5)\n",
            "Requirement already satisfied: scipy>=0.18.1 in /usr/local/lib/python3.7/dist-packages (from gensim) (1.4.1)\n"
          ]
        }
      ]
    },
    {
      "cell_type": "code",
      "source": [
        "#create id2word dictionary\n",
        "from gensim.corpora import Dictionary\n",
        "id2word = Dictionary(lemming_tweets)\n",
        "print(len(id2word))"
      ],
      "metadata": {
        "colab": {
          "base_uri": "https://localhost:8080/"
        },
        "id": "rHx7442u3fD6",
        "outputId": "e5d8ca8a-a2af-4c2e-fa05-6eab99f32b98"
      },
      "execution_count": 18,
      "outputs": [
        {
          "output_type": "stream",
          "name": "stdout",
          "text": [
            "3633\n"
          ]
        }
      ]
    },
    {
      "cell_type": "code",
      "source": [
        "#id2word.filter_extremes(no_below=2, no_above=.99)\n",
        "#print(len(id2word))"
      ],
      "metadata": {
        "id": "IUgEeN7u33N8"
      },
      "execution_count": 16,
      "outputs": []
    },
    {
      "cell_type": "code",
      "source": [
        "# Creating a corpus object \n",
        "corpus = [id2word.doc2bow(d) for d in lemming_tweets]"
      ],
      "metadata": {
        "id": "OJhrlXoc35VB"
      },
      "execution_count": 21,
      "outputs": []
    },
    {
      "cell_type": "code",
      "source": [
        "# Instantiating a Base LDA model\n",
        "%%capture \n",
        "from gensim.models.ldamulticore import LdaMulticore\n",
        "base_model = LdaMulticore(corpus=corpus, num_topics=8, id2word=id2word, workers=12, passes=5)"
      ],
      "metadata": {
        "id": "fhx5_F7JAbwV"
      },
      "execution_count": 23,
      "outputs": []
    },
    {
      "cell_type": "code",
      "source": [
        "# Filtering for words \n",
        "words = [re.findall(r'\"([^\"]*)\"',t[1]) for t in base_model.print_topics()]"
      ],
      "metadata": {
        "id": "6pFtwvQ84SXS"
      },
      "execution_count": 24,
      "outputs": []
    },
    {
      "cell_type": "code",
      "source": [
        "# Create Topics\n",
        "topics = [' '.join(t[0:10]) for t in words]"
      ],
      "metadata": {
        "id": "hT6MGe5a4OgC"
      },
      "execution_count": 25,
      "outputs": []
    },
    {
      "cell_type": "code",
      "source": [
        "# Getting the topics\n",
        "for id, t in enumerate(topics): \n",
        "    print(f\"------ Topic {id} ------\")\n",
        "    print(t, end=\"\\n\\n\")"
      ],
      "metadata": {
        "colab": {
          "base_uri": "https://localhost:8080/"
        },
        "id": "DMTRUGL64Oao",
        "outputId": "e7a8ac3a-f010-4f31-890b-ff2d4c5ba0bd"
      },
      "execution_count": 26,
      "outputs": [
        {
          "output_type": "stream",
          "name": "stdout",
          "text": [
            "------ Topic 0 ------\n",
            "south africa asia east wheat middle anything note similarly dependent\n",
            "\n",
            "------ Topic 1 ------\n",
            "oscar south africa world woman lupita hockey would held know\n",
            "\n",
            "------ Topic 2 ------\n",
            "south africa country russia year cape sanction global western town\n",
            "\n",
            "------ Topic 3 ------\n",
            "africa south nelson khatronkekhiladi brother skill morning rare fighter long\n",
            "\n",
            "------ Topic 4 ------\n",
            "south africa india watch look must http epic access behind\n",
            "\n",
            "------ Topic 5 ------\n",
            "south africa african drug black country work people entrepreneur anxiety\n",
            "\n",
            "------ Topic 6 ------\n",
            "continue friend away white manufacturing northern bell shift equipment hemisphere\n",
            "\n",
            "------ Topic 7 ------\n",
            "covid vaccine government south waiver breaking mexico trip publicly reject\n",
            "\n"
          ]
        }
      ]
    },
    {
      "cell_type": "markdown",
      "source": [
        "**second model**"
      ],
      "metadata": {
        "id": "wE9kGD_c9f01"
      }
    },
    {
      "cell_type": "code",
      "source": [
        "# Instantiating a Base LDA model\n",
        "%%capture \n",
        "import gensim\n",
        "\n",
        "LDA = gensim.models.ldamodel.LdaModel\n",
        "lda_model = LDA(corpus=corpus, id2word=id2word, num_topics=10, random_state=100,\n",
        "                chunksize=1000, passes=50,iterations=100)"
      ],
      "metadata": {
        "id": "Mp3_bign4Ozb"
      },
      "execution_count": 29,
      "outputs": []
    },
    {
      "cell_type": "code",
      "source": [
        "lda_model.print_topics()"
      ],
      "metadata": {
        "colab": {
          "base_uri": "https://localhost:8080/"
        },
        "id": "tghvhQXIAToO",
        "outputId": "40e2936b-0e73-4a16-ee48-e21de54ef804"
      },
      "execution_count": 30,
      "outputs": [
        {
          "output_type": "execute_result",
          "data": {
            "text/plain": [
              "[(0,\n",
              "  '0.031*\"khatronkekhiladi\" + 0.021*\"away\" + 0.020*\"time\" + 0.020*\"manufacturing\" + 0.019*\"say\" + 0.019*\"bell\" + 0.019*\"truck\" + 0.019*\"shift\" + 0.018*\"south\" + 0.018*\"northern\"'),\n",
              " (1,\n",
              "  '0.102*\"south\" + 0.095*\"africa\" + 0.020*\"african\" + 0.012*\"president\" + 0.012*\"apartheid\" + 0.011*\"black\" + 0.009*\"country\" + 0.009*\"europe\" + 0.009*\"america\" + 0.008*\"nation\"'),\n",
              " (2,\n",
              "  '0.038*\"woman\" + 0.030*\"hockey\" + 0.029*\"country\" + 0.024*\"held\" + 0.022*\"world\" + 0.022*\"stand\" + 0.019*\"south\" + 0.019*\"team\" + 0.019*\"russia\" + 0.019*\"know\"'),\n",
              " (3,\n",
              "  '0.088*\"africa\" + 0.087*\"south\" + 0.028*\"morning\" + 0.028*\"brother\" + 0.027*\"skill\" + 0.025*\"rare\" + 0.025*\"fighter\" + 0.014*\"many\" + 0.012*\"organized\" + 0.012*\"solidarity\"'),\n",
              " (4,\n",
              "  '0.065*\"south\" + 0.063*\"africa\" + 0.044*\"india\" + 0.042*\"must\" + 0.040*\"look\" + 0.039*\"watch\" + 0.035*\"http\" + 0.035*\"access\" + 0.034*\"epic\" + 0.034*\"behind\"'),\n",
              " (5,\n",
              "  '0.050*\"africa\" + 0.049*\"south\" + 0.041*\"continue\" + 0.027*\"friend\" + 0.022*\"white\" + 0.013*\"indian\" + 0.012*\"coloured\" + 0.010*\"today\" + 0.008*\"say\" + 0.008*\"daily\"'),\n",
              " (6,\n",
              "  '0.086*\"africa\" + 0.084*\"south\" + 0.026*\"country\" + 0.020*\"asia\" + 0.020*\"child\" + 0.019*\"east\" + 0.019*\"walk\" + 0.017*\"visited\" + 0.017*\"middle\" + 0.016*\"every\"'),\n",
              " (7,\n",
              "  '0.053*\"africa\" + 0.050*\"south\" + 0.022*\"world\" + 0.014*\"come\" + 0.013*\"worst\" + 0.013*\"ukraine\" + 0.013*\"report\" + 0.011*\"people\" + 0.011*\"among\" + 0.011*\"revealed\"'),\n",
              " (8,\n",
              "  '0.064*\"south\" + 0.063*\"africa\" + 0.021*\"year\" + 0.013*\"drug\" + 0.013*\"france\" + 0.013*\"good\" + 0.012*\"morning\" + 0.012*\"fund\" + 0.011*\"nthe\" + 0.010*\"medium\"'),\n",
              " (9,\n",
              "  '0.068*\"south\" + 0.066*\"africa\" + 0.041*\"oscar\" + 0.027*\"lupita\" + 0.025*\"nelson\" + 0.021*\"would\" + 0.015*\"long\" + 0.014*\"never\" + 0.014*\"name\" + 0.013*\"afterparty\"')]"
            ]
          },
          "metadata": {},
          "execution_count": 30
        }
      ]
    },
    {
      "cell_type": "markdown",
      "source": [
        "**VISUALIZATION**"
      ],
      "metadata": {
        "id": "rvTbQzsD5H6F"
      }
    },
    {
      "cell_type": "code",
      "source": [
        "# install if not available\n",
        "%%capture\n",
        "!pip install pyLDAvis"
      ],
      "metadata": {
        "id": "5QfI6qmTz8TL"
      },
      "execution_count": 31,
      "outputs": []
    },
    {
      "cell_type": "code",
      "source": [
        "#Visualizations\n",
        "import plotly.express as px\n",
        "import seaborn as sns\n",
        "import matplotlib.pyplot as plt \n",
        "import pyLDAvis\n",
        "import pyLDAvis.gensim_models as gensimvis\n",
        "\n",
        "\n",
        "#Natural Language Processing (NLP)\n",
        "import spacy\n",
        "import gensim\n",
        "from spacy.tokenizer import Tokenizer\n",
        "from gensim.corpora import Dictionary\n",
        "from gensim.models.ldamulticore import LdaMulticore\n",
        "from gensim.models.coherencemodel import CoherenceModel\n",
        "from gensim.parsing.preprocessing import STOPWORDS as SW\n",
        "from sklearn.decomposition import LatentDirichletAllocation, TruncatedSVD\n",
        "from sklearn.feature_extraction.text import CountVectorizer, TfidfVectorizer\n",
        "from sklearn.model_selection import GridSearchCV\n"
      ],
      "metadata": {
        "id": "_WmmMwhOzLnH"
      },
      "execution_count": 33,
      "outputs": []
    },
    {
      "cell_type": "markdown",
      "source": [
        "visualization of model1"
      ],
      "metadata": {
        "id": "3NWxshhoBHh9"
      }
    },
    {
      "cell_type": "code",
      "source": [
        "# Compute Perplexity\n",
        "# a measure of how good the model is. lower the better\n",
        "%%capture\n",
        "base_perplexity = base_model.log_perplexity(corpus)\n",
        "\n",
        "# Compute Coherence Score\n",
        "coherence_model = CoherenceModel(model=base_model, texts=lemming_tweets, \n",
        "                                   dictionary=id2word, coherence='c_v')\n",
        "coherence_lda_model_base = coherence_model.get_coherence()\n"
      ],
      "metadata": {
        "id": "BCLfSOCIzLax"
      },
      "execution_count": 39,
      "outputs": []
    },
    {
      "cell_type": "code",
      "source": [
        "print('\\nPerplexity: ', base_perplexity) \n",
        "print('\\nCoherence Score: ', coherence_lda_model_base)"
      ],
      "metadata": {
        "colab": {
          "base_uri": "https://localhost:8080/"
        },
        "id": "Mk6Y1F4nAPam",
        "outputId": "37695d33-a484-4115-b9a0-37cdabac39fd"
      },
      "execution_count": 40,
      "outputs": [
        {
          "output_type": "stream",
          "name": "stdout",
          "text": [
            "\n",
            "Perplexity:  -6.515977277159461\n",
            "\n",
            "Coherence Score:  0.34292349651464127\n"
          ]
        }
      ]
    },
    {
      "cell_type": "code",
      "source": [
        "#Creating Topic Distance Visualization \n",
        "pyLDAvis.enable_notebook()\n",
        "lda_viz = gensimvis.prepare(base_model, corpus, id2word)\n",
        "lda_viz"
      ],
      "metadata": {
        "colab": {
          "base_uri": "https://localhost:8080/",
          "height": 917
        },
        "id": "JxvBBwH8zLUa",
        "outputId": "098af3a5-6326-4468-f869-b60c84ca6544"
      },
      "execution_count": 35,
      "outputs": [
        {
          "output_type": "stream",
          "name": "stderr",
          "text": [
            "/usr/local/lib/python3.7/dist-packages/pyLDAvis/_prepare.py:247: FutureWarning: In a future version of pandas all arguments of DataFrame.drop except for the argument 'labels' will be keyword-only\n",
            "  by='saliency', ascending=False).head(R).drop('saliency', 1)\n"
          ]
        },
        {
          "output_type": "execute_result",
          "data": {
            "text/plain": [
              "PreparedData(topic_coordinates=              x         y  topics  cluster       Freq\n",
              "topic                                                \n",
              "5      0.039118  0.027000       1        1  22.630828\n",
              "2      0.031937  0.008747       2        1  14.432880\n",
              "3      0.113309 -0.124241       3        1  13.556303\n",
              "4      0.149179 -0.026751       4        1  12.740321\n",
              "1     -0.081643  0.236247       5        1  11.981323\n",
              "0      0.109083  0.051245       6        1  11.551155\n",
              "7     -0.187304 -0.037825       7        1   6.814039\n",
              "6     -0.173679 -0.134421       8        1   6.293151, topic_info=          Term        Freq        Total Category  logprob  loglift\n",
              "186      oscar  107.000000   107.000000  Default  30.0000  30.0000\n",
              "281      watch  107.000000   107.000000  Default  29.0000  29.0000\n",
              "277       look  107.000000   107.000000  Default  28.0000  28.0000\n",
              "275       http   97.000000    97.000000  Default  27.0000  27.0000\n",
              "273       epic   96.000000    96.000000  Default  26.0000  26.0000\n",
              "..         ...         ...          ...      ...      ...      ...\n",
              "397  foreigner    4.572711    25.617084   Topic8  -5.7215   1.0426\n",
              "0       africa   11.223839  1374.352782   Topic8  -4.8236  -2.0420\n",
              "6        south   10.607623  1437.628673   Topic8  -4.8800  -2.1435\n",
              "464     nelson    5.190303    69.054071   Topic8  -5.5948   0.1776\n",
              "461    mandela    4.717185    37.447818   Topic8  -5.6904   0.6940\n",
              "\n",
              "[404 rows x 6 columns], token_table=      Topic      Freq       Term\n",
              "term                            \n",
              "174       1  0.933484    absence\n",
              "730       4  0.833048     abused\n",
              "730       7  0.104131     abused\n",
              "2656      4  0.761641   accepted\n",
              "269       2  0.020513     access\n",
              "...     ...       ...        ...\n",
              "29        1  0.025074   zimbabwe\n",
              "29        2  0.050148   zimbabwe\n",
              "29        5  0.852513   zimbabwe\n",
              "29        8  0.050148   zimbabwe\n",
              "732       4  0.959657  zimpapers\n",
              "\n",
              "[774 rows x 3 columns], R=30, lambda_step=0.01, plot_opts={'xlab': 'PC1', 'ylab': 'PC2'}, topic_order=[6, 3, 4, 5, 2, 1, 8, 7])"
            ],
            "text/html": [
              "\n",
              "<link rel=\"stylesheet\" type=\"text/css\" href=\"https://cdn.jsdelivr.net/gh/bmabey/pyLDAvis@3.3.1/pyLDAvis/js/ldavis.v1.0.0.css\">\n",
              "\n",
              "\n",
              "<div id=\"ldavis_el591404052194416162779087739\"></div>\n",
              "<script type=\"text/javascript\">\n",
              "\n",
              "var ldavis_el591404052194416162779087739_data = {\"mdsDat\": {\"x\": [0.03911801032879443, 0.03193723862092018, 0.11330899721523438, 0.14917876419163456, -0.08164312536669728, 0.1090831070382234, -0.18730358142685338, -0.17367941060125583], \"y\": [0.02699970386018614, 0.008747182458976847, -0.12424126832600342, -0.026751391861920326, 0.2362468315274522, 0.05124463509336337, -0.037824894951565595, -0.1344207978004891], \"topics\": [1, 2, 3, 4, 5, 6, 7, 8], \"cluster\": [1, 1, 1, 1, 1, 1, 1, 1], \"Freq\": [22.630828092708015, 14.432879717753815, 13.556303393756142, 12.740320931970622, 11.981323198334692, 11.551154563995066, 6.814038765188594, 6.293151336293053]}, \"tinfo\": {\"Term\": [\"oscar\", \"watch\", \"look\", \"http\", \"epic\", \"behind\", \"finale\", \"ndrama\", \"ecstasy\", \"agony\", \"scene\", \"access\", \"continue\", \"india\", \"must\", \"lupita\", \"asia\", \"east\", \"wheat\", \"anything\", \"hockey\", \"middle\", \"woman\", \"note\", \"similarly\", \"dependent\", \"africa\", \"depe\", \"stand\", \"world\", \"anxiety\", \"entrepreneur\", \"tape\", \"tough\", \"depression\", \"debt\", \"work\", \"rule\", \"british\", \"using\", \"sap\", \"protect\", \"heist\", \"britain\", \"codesa\", \"dictated\", \"colony\", \"failure\", \"direct\", \"absence\", \"vigilantism\", \"ruling\", \"holiday\", \"shock\", \"cold\", \"trust\", \"lecture\", \"served\", \"fuck\", \"sister\", \"result\", \"party\", \"police\", \"week\", \"africa\", \"south\", \"found\", \"black\", \"drug\", \"without\", \"african\", \"experience\", \"people\", \"like\", \"million\", \"country\", \"expo\", \"foreigner\", \"first\", \"nthe\", \"nhlanhla\", \"president\", \"take\", \"government\", \"sanction\", \"nato\", \"aware\", \"disturbing\", \"ukrai\", \"impose\", \"print\", \"fighti\", \"minority\", \"racist\", \"protecting\", \"music\", \"blame\", \"western\", \"vice\", \"carat\", \"thriller\", \"superb\", \"interview\", \"bigger\", \"global\", \"happen\", \"interest\", \"speech\", \"comple\", \"staying\", \"uganda\", \"condescending\", \"measles\", \"picture\", \"video\", \"russia\", \"cape\", \"town\", \"mozambique\", \"talking\", \"rude\", \"power\", \"country\", \"afri\", \"year\", \"south\", \"africa\", \"many\", \"government\", \"president\", \"operation\", \"drug\", \"dudula\", \"afriforum\", \"time\", \"african\", \"fighting\", \"world\", \"india\", \"khatronkekhiladi\", \"rohitshetty\", \"exclusive\", \"biggboss\", \"host\", \"rare\", \"fighter\", \"happy\", \"forgotten\", \"meter\", \"bridge\", \"foundiougne\", \"mande\", \"shall\", \"organized\", \"activist\", \"activity\", \"visited\", \"weekend\", \"express\", \"skill\", \"walk\", \"brother\", \"drinkabl\", \"mile\", \"showed\", \"figh\", \"already\", \"solidarity\", \"foundation\", \"nelson\", \"never\", \"palestine\", \"child\", \"mandela\", \"long\", \"morning\", \"name\", \"every\", \"malema\", \"africa\", \"south\", \"time\", \"ndrama\", \"finale\", \"ecstasy\", \"agony\", \"epic\", \"behind\", \"http\", \"scene\", \"access\", \"watch\", \"zimpapers\", \"look\", \"afghanistan\", \"cant\", \"bharat\", \"choose\", \"conflict\", \"abused\", \"accepted\", \"chip\", \"good\", \"shivangijoshi\", \"shivi\", \"spending\", \"bcoz\", \"incaseyoumissedit\", \"calendar\", \"copied\", \"must\", \"clear\", \"india\", \"fund\", \"medium\", \"special\", \"another\", \"year\", \"need\", \"south\", \"africa\", \"thing\", \"morning\", \"russia\", \"next\", \"opportunity\", \"oscar\", \"lupita\", \"afterparty\", \"weak\", \"nmexico\", \"origi\", \"hockey\", \"return\", \"qualified\", \"huge\", \"across\", \"premiership\", \"dstv\", \"providing\", \"finance\", \"junior\", \"revealed\", \"buying\", \"among\", \"apartheidisrael\", \"burnt\", \"second\", \"zimbabwe\", \"produce\", \"report\", \"hand\", \"major\", \"call\", \"raising\", \"woman\", \"held\", \"leaked\", \"worst\", \"league\", \"team\", \"world\", \"globe\", \"know\", \"would\", \"come\", \"south\", \"africa\", \"country\", \"similarly\", \"dependent\", \"depe\", \"note\", \"anything\", \"wheat\", \"east\", \"cancer\", \"adamantly\", \"aggression\", \"refusing\", \"stuck\", \"asia\", \"middle\", \"draining\", \"russian\", \"cure\", \"costing\", \"zanu\", \"removi\", \"regional\", \"stand\", \"neck\", \"nread\", \"nmpumalanga\", \"nkzn\", \"nlimpopo\", \"ngauteng\", \"condemn\", \"import\", \"namibia\", \"month\", \"ukraine\", \"africa\", \"south\", \"botswana\", \"country\", \"indigenous\", \"blocked\", \"irreparable\", \"amazon\", \"herit\", \"sacred\", \"headquarters\", \"publicly\", \"compromise\", \"waiver\", \"trip\", \"lawlessness\", \"medicalaidracialprofiling\", \"shion\", \"mexico\", \"ndarari\", \"song\", \"debut\", \"colombia\", \"spotify\", \"chart\", \"njikjin\", \"viral\", \"group\", \"patrick\", \"majete\", \"breaking\", \"journalist\", \"release\", \"freelance\", \"launched\", \"harm\", \"press\", \"uphold\", \"urged\", \"kiyaro\", \"aman\", \"amir\", \"building\", \"covid\", \"vaccine\", \"plant\", \"ethiopia\", \"government\", \"reject\", \"african\", \"would\", \"south\", \"first\", \"world\", \"articulated\", \"dump\", \"equipment\", \"hemisphere\", \"truck\", \"northern\", \"sout\", \"bell\", \"coloured\", \"friend\", \"continue\", \"indian\", \"shift\", \"away\", \"warrant\", \"arrest\", \"achieve\", \"rate\", \"positivity\", \"conducted\", \"linked\", \"shown\", \"paqama\", \"leadership\", \"directly\", \"context\", \"elimination\", \"step\", \"gate\", \"childlabour\", \"white\", \"manufacturing\", \"say\", \"hear\", \"america\", \"vaccination\", \"poor\", \"covid\", \"food\", \"case\", \"test\", \"urgent\", \"today\", \"foreigner\", \"africa\", \"south\", \"nelson\", \"mandela\"], \"Freq\": [107.0, 107.0, 107.0, 97.0, 96.0, 96.0, 95.0, 95.0, 95.0, 95.0, 96.0, 97.0, 66.0, 135.0, 118.0, 70.0, 75.0, 70.0, 64.0, 62.0, 66.0, 67.0, 87.0, 59.0, 59.0, 59.0, 1374.0, 58.0, 59.0, 141.0, 18.96039653586288, 20.60933375598443, 17.246452788383746, 17.246443435431228, 17.24643174424058, 17.24641186921648, 27.081429589467707, 13.688602510830076, 12.866164660584783, 11.247684161219176, 12.824283308328054, 13.620271008852322, 10.390730408825112, 10.390728070586983, 10.390724563229789, 10.390705857324752, 10.390696504372235, 11.974676300136911, 11.974638888326838, 11.974630704493386, 11.974615505945543, 9.524763333001317, 9.468724533429933, 9.468717518715543, 8.676805367251012, 8.676731712749932, 8.665062150805078, 9.427697222650007, 8.611463887281369, 10.938383190566576, 13.025427905181076, 17.048440261505203, 12.104736119614682, 13.340761530207816, 550.0760943270775, 565.0486748360606, 13.818949933597777, 33.04371936357378, 37.59853475447848, 13.120742675173384, 43.93477427616093, 12.776335397244308, 23.64566457025111, 17.787107223403584, 16.913892193937837, 30.35535813302648, 15.284898975941951, 14.760989833286603, 16.26625167330224, 14.979892179614195, 13.75763197688949, 14.349893665665757, 13.27229908689481, 13.289453570931963, 27.875624913128917, 22.7563463404166, 17.049066889530224, 17.04905048612665, 21.092604290976574, 22.63019969327596, 10.469167377008665, 12.75731318520002, 12.751433310627947, 12.749982355020888, 17.491542736068556, 10.224109474922091, 22.67817964873031, 24.92089921316011, 8.480277061922088, 8.480262895346273, 9.14714401326209, 9.147122390593742, 7.55131503705601, 12.748248067897551, 27.510124274689982, 4.425087279064072, 5.157519007294527, 5.157519007294527, 5.157510432788114, 5.157502231086327, 5.889944025041704, 5.8899276216381296, 5.092007914270316, 5.09203102815717, 10.064305280475082, 44.36195514842627, 30.175274726490517, 24.789886720031976, 22.831585770174154, 7.485901991648617, 6.328834982289835, 22.32945670971071, 68.1839679878773, 7.918884741173044, 32.84058026501575, 231.83496934361165, 204.85243221173218, 23.14371569825687, 22.10037124904982, 18.72949716527917, 14.118847874501174, 19.8245675108295, 13.541914820084141, 12.753231720147074, 15.015693526387597, 15.680226720764551, 13.897950694660798, 14.892532298697454, 13.534974689153774, 56.08856297556293, 24.654140238592802, 24.6541206294952, 24.654022584007194, 32.92807851555327, 50.71398385042783, 49.83481276077563, 33.94098925344528, 30.581236502939234, 30.567372870935152, 30.56776505288718, 30.567300037144065, 30.562781540796806, 31.38307491425144, 19.792425856019662, 18.913373821602892, 18.034389018377897, 36.04997571345586, 18.807147137947457, 18.78752823579741, 51.44310052263599, 38.23569537367977, 52.028762639392745, 27.527489323099942, 27.497784341533713, 27.49564694989518, 8.020536911908708, 8.766118222852768, 18.28853833043816, 7.141602532077546, 61.669222511288496, 36.53116055819318, 18.034999701703196, 39.439341002639445, 31.1164696232649, 41.65969593182647, 50.94231778549606, 31.440431524735086, 35.8347910789791, 26.5011183403545, 172.7801962232353, 168.4275816364847, 32.12531287405449, 91.43334117422556, 91.43065583702584, 91.3346892570213, 91.31880890997347, 92.12398884052837, 92.06297376705682, 92.53353962105689, 91.58448880100106, 92.1025587966011, 100.6006716754796, 15.57071055625407, 98.04557859530179, 7.0259814082958005, 15.578512513892703, 6.218058221503531, 6.215934962237273, 6.214831209667677, 16.355185747193975, 4.376381900215807, 3.62994207547784, 27.184453012577364, 3.56319038459627, 3.563180841118477, 3.5631778793495066, 3.563160437821126, 3.4964212521863196, 3.4964169740755846, 3.4964097341958795, 94.6092315613108, 6.213850535053069, 104.3478227961878, 16.41569402908617, 15.573094451189714, 4.5627044825388205, 5.272845854033206, 22.814285232746673, 15.22449819241158, 153.38836691155927, 148.6104570047846, 10.769161125900276, 19.15548828761848, 9.483604646173934, 6.602955237123334, 6.322650789091323, 105.90544471951837, 69.50721271875842, 34.811944644001635, 20.127775282997153, 19.257543762237827, 19.257072114178555, 64.20001583337218, 20.84195690597322, 32.88685800258933, 20.561325072786328, 22.046194479666088, 25.0788246530139, 25.07345950159953, 25.062625213371895, 10.326588182983313, 32.99724840688675, 25.941277075598816, 10.922922163055555, 26.4069286435323, 9.287879890312176, 6.808532503973027, 14.313351238941014, 34.07420537649039, 5.912181460309341, 26.552612187382948, 9.552480641169561, 9.552357467988728, 27.908277260293946, 5.090636769857229, 72.64319942692131, 38.18997717483322, 20.060199628772967, 26.03025639109537, 25.071768500946085, 33.55850712157487, 84.21910161609668, 20.77838964129212, 35.91172145697688, 39.212507691487126, 26.842124868803964, 100.3325502849007, 93.56613124851908, 30.034649923851283, 58.03456994515908, 58.03447924098357, 57.19121684302459, 58.792131218977666, 60.80410259660792, 63.1691710077676, 67.09245599773733, 24.98790712764468, 18.27919954684881, 18.2622116095575, 18.25897490266316, 18.253641258448262, 70.41334591475385, 63.16767200191978, 12.562474601036474, 19.6330154596341, 12.559422882921124, 12.554876932861928, 12.553003175552153, 12.552075844705213, 12.550248632959182, 55.696149465981996, 18.731939891074564, 18.66050438548433, 6.659597833877822, 6.659590076283864, 6.659588882807871, 6.659576351309939, 18.240890160933834, 5.7744259296695075, 12.553595139644923, 19.888856134454183, 18.236723736240567, 187.67306881275192, 189.5441909275347, 13.591743813008563, 13.074308715603799, 11.59093199838815, 10.033216483531264, 10.033203810940874, 10.7709604855519, 9.205717452002942, 9.205711819740547, 11.39342263682119, 15.872067447944278, 15.86535238310281, 17.263113758015557, 16.491710651884443, 15.648207546758272, 15.648092085379156, 7.299390944055661, 16.69645183836769, 5.053808982873914, 5.050511645257535, 5.0504567306991754, 5.048874064965938, 5.04793206908023, 5.047640599501244, 5.045919943339307, 5.045084256406321, 14.308105050057582, 7.8488188448049865, 6.400048885504097, 17.032481061298526, 6.356697361843132, 6.3566952497447335, 5.644720960283575, 15.096589399969755, 10.03399866397149, 6.28335685705539, 6.28335756108819, 6.283360377219387, 7.479177687961234, 7.478482103555344, 7.478371570405826, 11.581419107201535, 29.54504338860427, 24.188711159776116, 8.888974503581144, 8.374857367889888, 19.741364126754046, 15.865512902581093, 13.467149135599941, 11.495767884882033, 18.444715942503045, 8.080299197012598, 8.211514718081839, 21.77562116631515, 21.769927890537875, 22.535015465782703, 22.530861897296496, 22.518710693810238, 23.290691840296574, 22.513893906811834, 23.250807699572736, 18.29309066861033, 39.46299436773373, 61.293323258734596, 19.546698497798992, 22.951157773190292, 26.55794551022682, 4.076992756616013, 4.675475615203858, 3.3143415340821787, 6.377442241244427, 2.507173231898969, 2.507155838668379, 2.497672301604598, 2.497190330308355, 2.4926715039797687, 2.4917911139155353, 2.4913384022595366, 2.4876482739640857, 2.484679883461322, 2.484034870947497, 2.4861067785838924, 2.4832882624606016, 24.65036001344202, 23.47146960158068, 22.393944986952516, 4.133479467428577, 9.085548737609646, 3.6482073586589494, 4.016041349809315, 8.439408102099335, 3.380550248026513, 5.357840335550584, 3.3295916585774004, 3.299567041294481, 4.8886945149479315, 4.57271120716701, 11.223839345362611, 10.60762286903705, 5.190303211691158, 4.717185232371813], \"Total\": [107.0, 107.0, 107.0, 97.0, 96.0, 96.0, 95.0, 95.0, 95.0, 95.0, 96.0, 97.0, 66.0, 135.0, 118.0, 70.0, 75.0, 70.0, 64.0, 62.0, 66.0, 67.0, 87.0, 59.0, 59.0, 59.0, 1374.0, 58.0, 59.0, 141.0, 19.708831368866015, 21.42327019128798, 17.99487707323182, 17.99488200019008, 17.994878083770377, 17.994878474168754, 28.28368974595798, 14.569025624164789, 13.708473638658331, 11.9960490085395, 13.712165354970834, 14.56954015973012, 11.139071465718962, 11.1390728554616, 11.139072058184828, 11.139072366128408, 11.139071695416272, 12.855074863198316, 12.855073987403912, 12.855074353460664, 12.855074905784436, 10.282327060840291, 10.283766258963125, 10.28376524768705, 9.425121902118827, 9.425120583204366, 9.42542173531389, 10.283768888476931, 9.42561572215422, 12.001569625723857, 14.586047999275428, 19.74749658518307, 13.733013158956796, 15.433318503241521, 1374.3527815428458, 1437.6286727516915, 16.29023317072389, 48.944004954883056, 58.42634544191546, 15.406446780549746, 89.54753342442024, 15.365801658995226, 43.626377111924334, 31.674834836090984, 30.86815232501249, 159.6919970986532, 25.778664527547882, 25.617084040142203, 37.64090103191928, 28.481485957081382, 22.197176575876487, 47.206093907124774, 38.50580603032813, 56.89159761729989, 29.337116723134898, 24.159661293172867, 18.12176412638301, 18.121765565748532, 22.43340771466753, 24.159845237768852, 11.216677191179336, 13.807433157349072, 13.807539723073997, 13.80756505658886, 18.992783777494356, 11.217535727736367, 24.986191500805557, 27.55952255246025, 9.486452698393775, 9.489881085579025, 10.352479646104348, 10.352479304680266, 8.622856552870786, 14.635095244238734, 31.87846052037592, 5.172578350333585, 6.0305659179673095, 6.030565962169625, 6.0305666668352025, 6.030565484462998, 6.89612372347092, 6.896124132741041, 6.034549231958041, 6.035556999831498, 12.073306174804689, 58.814970799795375, 41.34570493818542, 34.47023376134086, 31.87771235091339, 9.493884639118884, 7.739326208287057, 36.94441859327392, 159.6919970986532, 10.311352376376524, 73.45664983384916, 1437.6286727516915, 1374.3527815428458, 55.35660336601509, 56.89159761729989, 47.206093907124774, 26.8913964578293, 58.42634544191546, 25.163658366796195, 21.718280803151792, 55.02379454588036, 89.54753342442024, 39.266592845876765, 141.66328104488525, 135.42460348042422, 57.09814247361797, 25.46394415236587, 25.463948903723313, 25.463937198317165, 34.23307881641207, 53.552028728314376, 52.67319987513331, 35.96514072613406, 32.45136500985164, 32.4516602652364, 32.45212776615381, 32.45217928774082, 32.45130438317058, 33.32805554738683, 21.058427788953992, 20.17945297065954, 19.300474439053414, 38.59729693466058, 20.176790825681408, 20.179597114425615, 55.284167852706965, 41.226083118826246, 56.15756008148416, 29.81835552607, 29.81751187579295, 29.81727350835118, 8.766136267076174, 9.639631523456368, 20.163810770788572, 7.88716245609577, 69.05407083234934, 41.173743228025636, 20.1639292410871, 47.21000373729846, 37.44781847949706, 54.99081835474351, 83.20907079878212, 41.907455866418765, 52.361537538044445, 34.85960505348227, 1374.3527815428458, 1437.6286727516915, 55.02379454588036, 95.76244076694974, 95.7620633705716, 95.75787507314682, 95.7567364137611, 96.63856513419066, 96.62884612846038, 97.50968363729743, 96.61188520374499, 97.4980147874038, 107.13801885769563, 16.672622997000584, 107.0363194218796, 7.892466249784702, 17.536507072388396, 7.014337737283438, 7.014298153873032, 7.014277005471522, 19.206567121006184, 5.25182001318475, 4.375335286931291, 33.27270268004262, 4.374614362478913, 4.374614668620405, 4.374614462555529, 4.37461388043171, 4.368170712709416, 4.36817065021777, 4.368170119830839, 118.2047982777585, 7.877701426697948, 135.42460348042422, 26.270995704411618, 25.26435489938835, 6.119761348827507, 7.850848501516981, 73.45664983384916, 40.81497169100269, 1437.6286727516915, 1374.3527815428458, 24.219867901282157, 83.20907079878212, 58.814970799795375, 13.967066959728266, 18.1609768645202, 107.04577133431496, 70.48724195242737, 35.67142787830067, 20.876688651248365, 20.006218697141023, 20.0062232912477, 66.93416760048584, 21.746446570311143, 34.763033664186, 21.740401112064124, 23.482174087643703, 26.961290696890767, 26.96121558328673, 26.96117384034083, 11.300190879320143, 36.4197692170853, 28.711786645352323, 12.16373803493547, 29.563516105482464, 10.434542059595062, 7.809936224647291, 16.503407807485974, 39.88210588474169, 6.942885930184115, 31.269990228484872, 11.28745807390032, 11.29392072217419, 33.03274848774298, 6.074623112872264, 87.35818861050235, 46.028429043258164, 24.188874567366483, 32.16767648551468, 31.243990147108036, 45.03897593047053, 141.66328104488525, 26.928931907129105, 54.511209586669466, 66.2301610031224, 41.56772674795327, 1437.6286727516915, 1374.3527815428458, 159.6919970986532, 59.050343063340534, 59.05033850337584, 58.207089556523805, 59.89151833876217, 62.43371942736842, 64.98437382136088, 70.01077990668553, 26.160196286801078, 19.413959739811187, 19.41422660225566, 19.414278298963794, 19.414365514095408, 75.13109279413324, 67.43921243124827, 13.507524105929683, 21.11177131546446, 13.5075726333784, 13.507646267076874, 13.507677213840067, 13.507693093459363, 13.507722426069536, 59.96504879273244, 20.263570313067618, 20.268201816310754, 7.607714085771965, 7.6077145634954535, 7.6077145298007895, 7.607715224483409, 21.141453315735077, 6.7648118461108835, 15.221620295776146, 33.29931223869629, 30.47310754592408, 1374.3527815428458, 1437.6286727516915, 25.25398874769075, 159.6919970986532, 12.443686257440255, 10.785240286024946, 10.785240895838614, 11.617395145348793, 9.95775259281348, 9.957753181457768, 12.443565256860776, 17.434677279883527, 17.434819614147305, 19.10638741139541, 18.271535668600823, 17.44220868199494, 17.442204031569304, 8.315713839850726, 19.125870328314093, 5.821223832137596, 5.821432368154666, 5.821436996849009, 5.8215361016304294, 5.821596063790447, 5.82161456000195, 5.821724526382628, 5.821776945606825, 16.604090462702008, 9.153031453843939, 7.490220157156536, 19.972433668079578, 7.491098359976563, 7.491105666516899, 6.656292831927091, 18.350770397709727, 12.512093908947886, 7.482569773230447, 7.482587961854879, 7.482592921421682, 9.16920951466715, 9.169239320308849, 9.169254098532887, 15.912921504761504, 51.86630930386774, 40.55728015570495, 11.687495906116718, 11.717041134080427, 56.89159761729989, 40.092036177536485, 89.54753342442024, 66.2301610031224, 1437.6286727516915, 37.64090103191928, 141.66328104488525, 23.079121205330324, 23.07936514820763, 23.90405498317419, 23.904226285527294, 23.905403214485055, 24.728002278397053, 23.903481893927474, 24.73082357776968, 19.78580607555591, 42.89189435745618, 66.78124603941342, 21.45343564792281, 25.60044370781806, 30.530768999100495, 4.973611700194347, 5.8115977754681065, 4.144961845607282, 8.3106331120771, 3.32657395624804, 3.3265757397592783, 3.325718695192095, 3.3257390392926287, 3.32543913174667, 3.3259668070781876, 3.3259860114895545, 3.322713171994147, 3.322731728263545, 3.3227360152599097, 3.325716283929439, 3.322740624382008, 40.97036833276552, 40.047245904302095, 39.19466047282221, 6.704061781666246, 33.175283994799, 6.713013140564865, 8.431120401341628, 51.86630930386774, 6.741925712979846, 20.434590068917043, 6.719772996320113, 7.62495142347114, 26.560970852663083, 25.617084040142203, 1374.3527815428458, 1437.6286727516915, 69.05407083234934, 37.44781847949706], \"Category\": [\"Default\", \"Default\", \"Default\", \"Default\", \"Default\", \"Default\", \"Default\", \"Default\", \"Default\", \"Default\", \"Default\", \"Default\", \"Default\", \"Default\", \"Default\", \"Default\", \"Default\", \"Default\", \"Default\", \"Default\", \"Default\", \"Default\", \"Default\", \"Default\", \"Default\", \"Default\", \"Default\", \"Default\", \"Default\", \"Default\", \"Topic1\", \"Topic1\", \"Topic1\", \"Topic1\", \"Topic1\", \"Topic1\", \"Topic1\", \"Topic1\", \"Topic1\", \"Topic1\", \"Topic1\", \"Topic1\", \"Topic1\", \"Topic1\", \"Topic1\", \"Topic1\", \"Topic1\", \"Topic1\", \"Topic1\", \"Topic1\", \"Topic1\", \"Topic1\", \"Topic1\", \"Topic1\", \"Topic1\", \"Topic1\", \"Topic1\", \"Topic1\", \"Topic1\", \"Topic1\", \"Topic1\", \"Topic1\", \"Topic1\", \"Topic1\", \"Topic1\", \"Topic1\", \"Topic1\", \"Topic1\", \"Topic1\", \"Topic1\", \"Topic1\", \"Topic1\", \"Topic1\", \"Topic1\", \"Topic1\", \"Topic1\", \"Topic1\", \"Topic1\", \"Topic1\", \"Topic1\", \"Topic1\", \"Topic1\", \"Topic1\", \"Topic1\", \"Topic2\", \"Topic2\", \"Topic2\", \"Topic2\", \"Topic2\", \"Topic2\", \"Topic2\", \"Topic2\", \"Topic2\", \"Topic2\", \"Topic2\", \"Topic2\", \"Topic2\", \"Topic2\", \"Topic2\", \"Topic2\", \"Topic2\", \"Topic2\", \"Topic2\", \"Topic2\", \"Topic2\", \"Topic2\", \"Topic2\", \"Topic2\", \"Topic2\", \"Topic2\", \"Topic2\", \"Topic2\", \"Topic2\", \"Topic2\", \"Topic2\", \"Topic2\", \"Topic2\", \"Topic2\", \"Topic2\", \"Topic2\", \"Topic2\", \"Topic2\", \"Topic2\", \"Topic2\", \"Topic2\", \"Topic2\", \"Topic2\", \"Topic2\", \"Topic2\", \"Topic2\", \"Topic2\", \"Topic2\", \"Topic2\", \"Topic2\", \"Topic2\", \"Topic2\", \"Topic2\", \"Topic2\", \"Topic2\", \"Topic3\", \"Topic3\", \"Topic3\", \"Topic3\", \"Topic3\", \"Topic3\", \"Topic3\", \"Topic3\", \"Topic3\", \"Topic3\", \"Topic3\", \"Topic3\", \"Topic3\", \"Topic3\", \"Topic3\", \"Topic3\", \"Topic3\", \"Topic3\", \"Topic3\", \"Topic3\", \"Topic3\", \"Topic3\", \"Topic3\", \"Topic3\", \"Topic3\", \"Topic3\", \"Topic3\", \"Topic3\", \"Topic3\", \"Topic3\", \"Topic3\", \"Topic3\", \"Topic3\", \"Topic3\", \"Topic3\", \"Topic3\", \"Topic3\", \"Topic3\", \"Topic3\", \"Topic3\", \"Topic3\", \"Topic3\", \"Topic3\", \"Topic4\", \"Topic4\", \"Topic4\", \"Topic4\", \"Topic4\", \"Topic4\", \"Topic4\", \"Topic4\", \"Topic4\", \"Topic4\", \"Topic4\", \"Topic4\", \"Topic4\", \"Topic4\", \"Topic4\", \"Topic4\", \"Topic4\", \"Topic4\", \"Topic4\", \"Topic4\", \"Topic4\", \"Topic4\", \"Topic4\", \"Topic4\", \"Topic4\", \"Topic4\", \"Topic4\", \"Topic4\", \"Topic4\", \"Topic4\", \"Topic4\", \"Topic4\", \"Topic4\", \"Topic4\", \"Topic4\", \"Topic4\", \"Topic4\", \"Topic4\", \"Topic4\", \"Topic4\", \"Topic4\", \"Topic4\", \"Topic4\", \"Topic4\", \"Topic5\", \"Topic5\", \"Topic5\", \"Topic5\", \"Topic5\", \"Topic5\", \"Topic5\", \"Topic5\", \"Topic5\", \"Topic5\", \"Topic5\", \"Topic5\", \"Topic5\", \"Topic5\", \"Topic5\", \"Topic5\", \"Topic5\", \"Topic5\", \"Topic5\", \"Topic5\", \"Topic5\", \"Topic5\", \"Topic5\", \"Topic5\", \"Topic5\", \"Topic5\", \"Topic5\", \"Topic5\", \"Topic5\", \"Topic5\", \"Topic5\", \"Topic5\", \"Topic5\", \"Topic5\", \"Topic5\", \"Topic5\", \"Topic5\", \"Topic5\", \"Topic5\", \"Topic5\", \"Topic5\", \"Topic5\", \"Topic5\", \"Topic6\", \"Topic6\", \"Topic6\", \"Topic6\", \"Topic6\", \"Topic6\", \"Topic6\", \"Topic6\", \"Topic6\", \"Topic6\", \"Topic6\", \"Topic6\", \"Topic6\", \"Topic6\", \"Topic6\", \"Topic6\", \"Topic6\", \"Topic6\", \"Topic6\", \"Topic6\", \"Topic6\", \"Topic6\", \"Topic6\", \"Topic6\", \"Topic6\", \"Topic6\", \"Topic6\", \"Topic6\", \"Topic6\", \"Topic6\", \"Topic6\", \"Topic6\", \"Topic6\", \"Topic6\", \"Topic6\", \"Topic6\", \"Topic6\", \"Topic7\", \"Topic7\", \"Topic7\", \"Topic7\", \"Topic7\", \"Topic7\", \"Topic7\", \"Topic7\", \"Topic7\", \"Topic7\", \"Topic7\", \"Topic7\", \"Topic7\", \"Topic7\", \"Topic7\", \"Topic7\", \"Topic7\", \"Topic7\", \"Topic7\", \"Topic7\", \"Topic7\", \"Topic7\", \"Topic7\", \"Topic7\", \"Topic7\", \"Topic7\", \"Topic7\", \"Topic7\", \"Topic7\", \"Topic7\", \"Topic7\", \"Topic7\", \"Topic7\", \"Topic7\", \"Topic7\", \"Topic7\", \"Topic7\", \"Topic7\", \"Topic7\", \"Topic7\", \"Topic7\", \"Topic7\", \"Topic7\", \"Topic7\", \"Topic7\", \"Topic7\", \"Topic7\", \"Topic7\", \"Topic7\", \"Topic7\", \"Topic8\", \"Topic8\", \"Topic8\", \"Topic8\", \"Topic8\", \"Topic8\", \"Topic8\", \"Topic8\", \"Topic8\", \"Topic8\", \"Topic8\", \"Topic8\", \"Topic8\", \"Topic8\", \"Topic8\", \"Topic8\", \"Topic8\", \"Topic8\", \"Topic8\", \"Topic8\", \"Topic8\", \"Topic8\", \"Topic8\", \"Topic8\", \"Topic8\", \"Topic8\", \"Topic8\", \"Topic8\", \"Topic8\", \"Topic8\", \"Topic8\", \"Topic8\", \"Topic8\", \"Topic8\", \"Topic8\", \"Topic8\", \"Topic8\", \"Topic8\", \"Topic8\", \"Topic8\", \"Topic8\", \"Topic8\", \"Topic8\", \"Topic8\", \"Topic8\", \"Topic8\", \"Topic8\", \"Topic8\"], \"logprob\": [30.0, 29.0, 28.0, 27.0, 26.0, 25.0, 24.0, 23.0, 22.0, 21.0, 20.0, 19.0, 18.0, 17.0, 16.0, 15.0, 14.0, 13.0, 12.0, 11.0, 10.0, 9.0, 8.0, 7.0, 6.0, 5.0, 4.0, 3.0, 2.0, 1.0, -5.5791, -5.4957, -5.6738, -5.6738, -5.6738, -5.6738, -5.2226, -5.9049, -5.9668, -6.1013, -5.9701, -5.9099, -6.1805, -6.1805, -6.1805, -6.1805, -6.1805, -6.0387, -6.0387, -6.0387, -6.0387, -6.2676, -6.2735, -6.2735, -6.3608, -6.3608, -6.3622, -6.2778, -6.3684, -6.1292, -5.9545, -5.6854, -6.0279, -5.9306, -2.2114, -2.1845, -5.8954, -5.0236, -4.8945, -5.9473, -4.7387, -5.9739, -5.3583, -5.643, -5.6933, -5.1085, -5.7946, -5.8295, -5.7324, -5.8147, -5.8999, -5.8577, -5.9358, -5.9345, -4.7439, -4.9468, -5.2356, -5.2356, -5.0227, -4.9524, -5.7232, -5.5255, -5.526, -5.5261, -5.2099, -5.7469, -4.9502, -4.8559, -5.9339, -5.9339, -5.8582, -5.8582, -6.0499, -5.5263, -4.7571, -6.5844, -6.4312, -6.4312, -6.4312, -6.4312, -6.2984, -6.2984, -6.444, -6.444, -5.7627, -4.2793, -4.6646, -4.8612, -4.9435, -6.0586, -6.2265, -4.9657, -3.8494, -6.0024, -4.58, -2.6256, -2.7494, -4.9299, -4.9761, -5.1415, -5.4241, -5.0847, -5.4659, -5.5259, -5.3625, -5.3192, -5.4399, -5.3708, -5.4664, -3.9821, -4.804, -4.804, -4.804, -4.5147, -4.0828, -4.1003, -4.4844, -4.5886, -4.5891, -4.589, -4.5891, -4.5892, -4.5627, -5.0237, -5.0691, -5.1167, -4.4241, -5.0748, -5.0758, -4.0685, -4.3652, -4.0572, -4.6938, -4.6949, -4.695, -5.927, -5.8381, -5.1027, -6.0431, -3.8872, -4.4108, -5.1167, -4.3342, -4.5713, -4.2795, -4.0783, -4.5609, -4.4301, -4.7318, -2.857, -2.8825, -4.5393, -3.4313, -3.4313, -3.4324, -3.4326, -3.4238, -3.4244, -3.4193, -3.4296, -3.424, -3.3357, -5.2015, -3.3615, -5.9973, -5.201, -6.1195, -6.1198, -6.12, -5.1524, -6.4707, -6.6577, -4.6443, -6.6763, -6.6763, -6.6763, -6.6763, -6.6952, -6.6952, -6.6952, -3.3972, -6.1201, -3.2992, -5.1487, -5.2014, -6.429, -6.2843, -4.8195, -5.224, -2.9139, -2.9456, -5.5702, -4.9943, -5.6973, -6.0594, -6.1028, -3.2229, -3.6441, -4.3355, -4.8834, -4.9276, -4.9276, -3.7235, -4.8485, -4.3924, -4.8621, -4.7923, -4.6635, -4.6637, -4.6641, -5.5508, -4.3891, -4.6297, -5.4946, -4.6119, -5.6568, -5.9673, -5.2243, -4.3569, -6.1085, -4.6064, -5.6287, -5.6287, -4.5566, -6.2581, -3.5999, -4.2429, -4.8867, -4.6262, -4.6637, -4.3722, -3.4521, -4.8516, -4.3044, -4.2165, -4.5955, -3.277, -3.3468, -4.4831, -3.7879, -3.7879, -3.8025, -3.7749, -3.7413, -3.7031, -3.6429, -4.6305, -4.9432, -4.9441, -4.9443, -4.9446, -3.5945, -3.7031, -5.3182, -4.8717, -5.3185, -5.3188, -5.319, -5.319, -5.3192, -3.829, -4.9187, -4.9225, -5.9529, -5.9529, -5.9529, -5.9529, -4.9453, -6.0955, -5.3189, -4.8588, -4.9455, -2.6142, -2.6043, -5.2395, -5.2783, -4.8709, -5.0152, -5.0152, -4.9443, -5.1013, -5.1013, -4.8881, -4.5566, -4.557, -4.4725, -4.5183, -4.5708, -4.5708, -5.3333, -4.5059, -5.701, -5.7016, -5.7016, -5.702, -5.7021, -5.7022, -5.7025, -5.7027, -4.6603, -5.2608, -5.4648, -4.486, -5.4716, -5.4716, -5.5904, -4.6067, -5.0151, -5.4832, -5.4832, -5.4832, -5.309, -5.3091, -5.3091, -4.8717, -3.9352, -4.1352, -5.1363, -5.1959, -4.3384, -4.557, -4.7209, -4.8791, -4.4063, -5.2317, -5.2156, -4.1608, -4.1611, -4.1265, -4.1267, -4.1273, -4.0935, -4.1275, -4.0953, -4.3351, -3.5662, -3.1259, -4.2688, -4.1082, -3.9623, -5.8362, -5.6993, -6.0433, -5.3888, -6.3224, -6.3224, -6.3262, -6.3264, -6.3282, -6.3286, -6.3288, -6.3303, -6.3315, -6.3317, -6.3309, -6.332, -4.0368, -4.0858, -4.1328, -5.8225, -5.0349, -5.9474, -5.8513, -5.1087, -6.0236, -5.563, -6.0387, -6.0478, -5.6547, -5.7215, -4.8236, -4.88, -5.5948, -5.6904], \"loglift\": [30.0, 29.0, 28.0, 27.0, 26.0, 25.0, 24.0, 23.0, 22.0, 21.0, 20.0, 19.0, 18.0, 17.0, 16.0, 15.0, 14.0, 13.0, 12.0, 11.0, 10.0, 9.0, 8.0, 7.0, 6.0, 5.0, 4.0, 3.0, 2.0, 1.0, 1.4471, 1.4471, 1.4434, 1.4434, 1.4434, 1.4434, 1.4424, 1.4235, 1.4224, 1.4214, 1.4189, 1.4185, 1.4163, 1.4163, 1.4163, 1.4163, 1.4163, 1.4149, 1.4149, 1.4149, 1.4149, 1.4093, 1.4033, 1.4033, 1.4031, 1.4031, 1.4017, 1.3989, 1.3955, 1.3931, 1.3727, 1.3389, 1.3597, 1.3402, 0.5702, 0.552, 1.3213, 1.093, 1.0451, 1.3253, 0.7738, 1.3013, 0.8734, 0.9088, 0.8843, -0.1744, 0.9632, 0.9346, 0.6469, 0.8433, 1.0075, 0.2951, 0.4207, 0.0317, 1.8846, 1.8758, 1.8746, 1.8746, 1.874, 1.8703, 1.8667, 1.8566, 1.8561, 1.856, 1.8533, 1.8429, 1.8387, 1.835, 1.8235, 1.8232, 1.8119, 1.8119, 1.803, 1.7976, 1.7883, 1.7796, 1.7793, 1.7793, 1.7793, 1.7793, 1.7779, 1.7779, 1.7658, 1.7657, 1.7537, 1.6536, 1.6207, 1.606, 1.6019, 1.698, 1.7345, 1.4322, 1.0846, 1.6717, 1.1306, 0.1109, 0.0322, 1.0636, 0.9901, 1.0112, 1.2914, 0.8548, 1.3161, 1.4033, 0.637, 0.1933, 0.897, -0.3169, -0.3675, 1.9805, 1.966, 1.966, 1.966, 1.9595, 1.9439, 1.9429, 1.9404, 1.939, 1.9385, 1.9385, 1.9385, 1.9384, 1.9382, 1.9363, 1.9335, 1.9305, 1.93, 1.928, 1.9268, 1.9263, 1.923, 1.922, 1.9184, 1.9173, 1.9173, 1.9094, 1.9033, 1.9007, 1.899, 1.8852, 1.8787, 1.8867, 1.8185, 1.8131, 1.7207, 1.5077, 1.7109, 1.6191, 1.7242, -0.0754, -0.1459, 1.4602, 2.0141, 2.0141, 2.0131, 2.0129, 2.0126, 2.012, 2.008, 2.007, 2.0035, 1.9974, 1.992, 1.9727, 1.9441, 1.942, 1.9399, 1.9396, 1.9394, 1.8997, 1.878, 1.8736, 1.8583, 1.8552, 1.8552, 1.8552, 1.8552, 1.8378, 1.8378, 1.8378, 1.8377, 1.8231, 1.7997, 1.5902, 1.5765, 1.7668, 1.6623, 0.8911, 1.0743, -0.1774, -0.164, 1.2499, 0.5916, 0.2356, 1.3112, 1.0053, 2.1111, 2.1078, 2.0974, 2.0853, 2.0837, 2.0837, 2.0801, 2.0793, 2.0663, 2.0661, 2.0587, 2.0494, 2.0492, 2.0488, 2.0317, 2.0231, 2.0203, 2.0142, 2.0089, 2.0054, 1.9846, 1.9794, 1.9644, 1.9611, 1.9583, 1.9549, 1.9543, 1.9532, 1.9451, 1.9374, 1.9351, 1.9347, 1.9101, 1.9017, 1.8276, 1.6018, 1.8625, 1.7045, 1.5977, 1.6845, -0.5404, -0.5652, 0.4509, 2.141, 2.141, 2.1408, 2.1399, 2.1319, 2.1301, 2.1158, 2.1125, 2.0982, 2.0972, 2.097, 2.0967, 2.0935, 2.093, 2.0859, 2.0858, 2.0856, 2.0852, 2.0851, 2.085, 2.0849, 2.0845, 2.0798, 2.0757, 2.0253, 2.0253, 2.0253, 2.0253, 2.0108, 2.0001, 1.9657, 1.643, 1.645, 0.1673, 0.1323, 1.5389, -0.3442, 2.6152, 2.6139, 2.6139, 2.6105, 2.6077, 2.6077, 2.598, 2.5923, 2.5919, 2.5847, 2.5837, 2.5776, 2.5776, 2.5558, 2.5503, 2.5448, 2.5441, 2.5441, 2.5438, 2.5436, 2.5435, 2.5432, 2.543, 2.5374, 2.5325, 2.5289, 2.527, 2.522, 2.522, 2.5213, 2.491, 2.4655, 2.5115, 2.5115, 2.5115, 2.4825, 2.4824, 2.4823, 2.3685, 2.1234, 2.1694, 2.4125, 2.3504, 1.6278, 1.7592, 0.7917, 0.935, -1.6698, 1.1475, -0.1617, 2.7076, 2.7073, 2.7067, 2.7065, 2.706, 2.7058, 2.7058, 2.704, 2.6873, 2.6824, 2.68, 2.6726, 2.6565, 2.6263, 2.5669, 2.5482, 2.5421, 2.5009, 2.4829, 2.4829, 2.4794, 2.4792, 2.4775, 2.4769, 2.4768, 2.4763, 2.4751, 2.4748, 2.4747, 2.4745, 2.2577, 2.2314, 2.206, 2.2821, 1.4706, 2.1559, 2.0241, 0.95, 2.0754, 1.427, 2.0635, 1.9281, 1.0732, 1.0426, -2.042, -2.1435, 0.1776, 0.694]}, \"token.table\": {\"Topic\": [1, 4, 7, 4, 2, 4, 6, 8, 2, 5, 1, 3, 1, 3, 6, 4, 1, 2, 8, 1, 2, 3, 4, 5, 6, 7, 8, 1, 2, 4, 5, 6, 7, 2, 3, 5, 6, 2, 4, 6, 3, 2, 7, 7, 1, 2, 4, 5, 6, 8, 2, 7, 1, 4, 5, 1, 2, 4, 1, 1, 6, 5, 8, 1, 8, 1, 2, 6, 2, 1, 7, 8, 4, 2, 4, 6, 1, 8, 4, 3, 2, 7, 1, 2, 5, 6, 8, 1, 2, 7, 7, 1, 3, 6, 7, 2, 5, 7, 3, 8, 1, 1, 1, 2, 3, 1, 3, 7, 5, 5, 4, 2, 3, 4, 5, 7, 1, 6, 2, 4, 1, 2, 3, 5, 7, 2, 1, 2, 4, 5, 8, 7, 1, 3, 5, 6, 7, 8, 4, 4, 2, 4, 1, 1, 7, 1, 7, 8, 1, 2, 4, 5, 2, 5, 7, 2, 6, 2, 8, 4, 8, 1, 2, 3, 7, 8, 4, 6, 1, 2, 3, 4, 5, 6, 8, 1, 2, 3, 4, 5, 7, 8, 6, 1, 7, 6, 6, 1, 1, 1, 8, 2, 6, 1, 3, 1, 2, 1, 4, 5, 2, 3, 7, 1, 8, 1, 6, 7, 2, 4, 6, 8, 1, 2, 4, 6, 1, 8, 2, 7, 1, 2, 3, 5, 6, 3, 1, 7, 1, 2, 4, 5, 7, 1, 3, 1, 3, 2, 3, 2, 1, 2, 3, 2, 4, 6, 5, 1, 3, 5, 7, 1, 5, 8, 1, 2, 3, 7, 8, 3, 8, 1, 4, 6, 3, 3, 8, 7, 2, 5, 7, 8, 1, 3, 4, 6, 8, 1, 2, 8, 2, 5, 2, 4, 7, 1, 2, 4, 5, 7, 7, 8, 1, 5, 2, 3, 8, 2, 7, 7, 2, 5, 8, 1, 2, 5, 8, 1, 8, 7, 5, 8, 1, 3, 6, 2, 4, 6, 1, 5, 6, 1, 2, 4, 1, 2, 3, 4, 5, 6, 7, 5, 7, 8, 7, 2, 2, 7, 7, 5, 7, 8, 3, 2, 7, 1, 2, 4, 5, 7, 8, 5, 7, 2, 7, 8, 1, 4, 5, 5, 7, 1, 1, 2, 6, 8, 8, 1, 3, 4, 8, 2, 3, 4, 6, 5, 7, 2, 5, 1, 3, 6, 3, 8, 3, 4, 8, 1, 3, 6, 7, 8, 1, 2, 3, 6, 8, 2, 2, 7, 2, 4, 8, 3, 8, 2, 5, 7, 6, 7, 1, 3, 1, 2, 5, 8, 2, 1, 2, 4, 5, 6, 1, 2, 3, 4, 1, 2, 2, 2, 4, 5, 6, 8, 1, 3, 4, 8, 1, 6, 1, 2, 7, 2, 4, 6, 1, 6, 1, 2, 3, 4, 5, 7, 8, 3, 4, 8, 2, 3, 4, 8, 1, 2, 3, 4, 5, 6, 6, 1, 4, 6, 7, 6, 6, 5, 6, 1, 8, 6, 2, 6, 1, 2, 3, 4, 5, 2, 3, 7, 1, 4, 5, 6, 7, 1, 3, 5, 5, 1, 2, 3, 8, 1, 4, 5, 7, 1, 2, 4, 6, 7, 8, 2, 1, 7, 1, 4, 1, 2, 3, 8, 8, 1, 2, 5, 7, 1, 4, 5, 1, 2, 3, 4, 7, 8, 7, 2, 5, 1, 2, 3, 1, 4, 5, 5, 7, 5, 8, 2, 5, 2, 3, 1, 8, 6, 6, 4, 5, 7, 7, 6, 1, 4, 5, 1, 3, 5, 1, 4, 5, 3, 2, 8, 1, 1, 1, 2, 4, 8, 6, 7, 2, 1, 1, 4, 6, 7, 8, 2, 4, 6, 1, 2, 5, 1, 3, 8, 1, 8, 7, 4, 4, 1, 1, 3, 8, 6, 1, 1, 2, 3, 1, 3, 7, 1, 8, 1, 2, 3, 4, 5, 6, 7, 8, 2, 4, 2, 4, 7, 1, 5, 6, 2, 8, 6, 2, 1, 2, 3, 6, 7, 8, 2, 5, 1, 1, 2, 3, 5, 6, 8, 1, 8, 1, 2, 4, 6, 7, 8, 2, 2, 3, 4, 5, 6, 1, 2, 4, 5, 8, 1, 1, 2, 3, 5, 7, 2, 5, 7, 1, 8, 1, 2, 2, 1, 2, 6, 7, 8, 7, 7, 5, 8, 1, 1, 8, 1, 3, 4, 5, 7, 2, 1, 2, 1, 7, 1, 3, 5, 7, 1, 2, 3, 8, 1, 2, 4, 6, 5, 1, 2, 1, 3, 1, 2, 7, 3, 6, 1, 2, 4, 5, 7, 8, 1, 2, 8, 1, 2, 5, 6, 7, 8, 1, 1, 2, 3, 4, 5, 6, 7, 8, 1, 3, 4, 5, 1, 2, 5, 7, 8, 1, 2, 3, 4, 7, 8, 6, 1, 2, 5, 8, 4], \"Freq\": [0.9334835155402682, 0.8330483994977339, 0.10413104993721674, 0.7616407245408178, 0.02051323818603934, 0.9436089565578096, 0.03076985727905901, 0.7237702328139204, 0.04258549469344915, 0.9368808832558813, 0.049555357196945676, 0.9415517867419678, 0.051812197837818784, 0.9326195610807382, 0.9271678854411316, 0.8869217527779675, 0.09698048941582253, 0.7758439153265803, 0.09698048941582253, 0.4001883703997536, 0.14916111987627179, 0.1258774328711952, 0.10841466761738779, 0.06839583057741243, 0.13679166115482486, 0.004365691313451857, 0.008003767407995072, 0.49135915102716715, 0.17867605491896987, 0.022334506864871234, 0.03350176029730685, 0.12283978775679179, 0.145174294621663, 0.5985740822594677, 0.3683532813904417, 0.9811774319606336, 0.9271551408547304, 0.01044312951183966, 0.9503247855774091, 0.03132938853551898, 0.9336456459046245, 0.10906030097666998, 0.7634221068366899, 0.9468559743708144, 0.18085753240094762, 0.24114337653459683, 0.15071461033412303, 0.030142922066824604, 0.12057168826729842, 0.27128629860142145, 0.10906012520255094, 0.7634208764178566, 0.06765095169546176, 0.03382547584773088, 0.879462372041003, 0.12737476717411816, 0.12737476717411816, 0.6368738358705909, 0.9640348351660386, 0.0160169858398928, 0.9770361362334608, 0.8625198833449589, 0.8603485982987296, 0.043329206129782846, 0.9532425348552227, 0.013310068612206943, 0.026620137224413885, 0.931704802854486, 0.9380985141093486, 0.06550768505237861, 0.06550768505237861, 0.8843537482071113, 0.9143664125175909, 0.010348876552562569, 0.9520966428357563, 0.031046629657687706, 0.04043536992835496, 0.9300135083521641, 0.855390804481525, 0.9817806180283926, 0.8882757360337367, 0.06832890277182589, 0.6742398794381383, 0.10215755749062704, 0.16345209198500324, 0.020431511498125405, 0.020431511498125405, 0.04002210580863274, 0.9205084335985529, 0.04002210580863274, 0.9271930652261474, 0.11879311541525585, 0.039597705138418614, 0.5543678719378606, 0.2771839359689303, 0.10013802189747402, 0.05006901094873701, 0.8511731861285291, 0.9552532340369893, 0.030814620452806103, 0.8977407841530454, 0.9483185613998328, 0.03561408289637257, 0.017807041448186286, 0.9259661553056868, 0.12568402347749627, 0.12568402347749627, 0.7541041408649776, 0.8962941307905662, 0.9043272691673317, 0.6867863552561616, 0.030272988043094768, 0.060545976086189536, 0.030272988043094768, 0.8476436652066536, 0.030272988043094768, 0.03822601287225594, 0.9556503218063984, 0.05702389853761251, 0.9123823766018001, 0.09674523643943829, 0.7255892732957873, 0.048372618219719145, 0.048372618219719145, 0.07255892732957872, 0.8430031870638429, 0.29361978780903325, 0.29361978780903325, 0.04893663130150554, 0.04893663130150554, 0.2446831565075277, 0.8588682655758517, 0.06354585389769495, 0.8260961006700343, 0.021181951299231647, 0.021181951299231647, 0.042363902598463295, 0.6019127660233718, 0.9142156515290653, 0.8553956316623105, 0.12694058150147033, 0.761643489008822, 0.8977408484086559, 0.9548948112784349, 0.8588798407691154, 0.8977408776455762, 0.05054128177448558, 0.9097430719407404, 0.2646283754389244, 0.048114250079804445, 0.024057125039902223, 0.64954237607736, 0.8291094811201156, 0.05735648673924681, 0.9177037878279489, 0.09460087583058673, 0.8514078824752805, 0.8700539439992863, 0.901828256649611, 0.8553982107235956, 0.6019177390504903, 0.01497426387357033, 0.01497426387357033, 0.01497426387357033, 0.02994852774714066, 0.9134300962877901, 0.686786438646345, 0.9624178589637638, 0.18786163705790998, 0.42581971066459595, 0.09393081852895499, 0.012524109137194, 0.18786163705790998, 0.08140670939176099, 0.006262054568597, 0.03856067699520809, 0.15424270798083237, 0.019280338497604046, 0.03856067699520809, 0.03856067699520809, 0.5784101549281213, 0.15424270798083237, 0.9624231053828174, 0.94471324295983, 0.8588944624336515, 0.9792621557662383, 0.9822128284105299, 0.9447132634553573, 0.8977408235902938, 0.9334835421218299, 0.6013254394609715, 0.9380984395985813, 0.962426563006696, 0.03353638999728561, 0.939018919923997, 0.6503915265037019, 0.34231132973879047, 0.03709031578753817, 0.03709031578753817, 0.9272578946884543, 0.5563578950218622, 0.39739849644418723, 0.03973984964441872, 0.043328748151361576, 0.9532324593299546, 0.014283514643500025, 0.9569954811145016, 0.014283514643500025, 0.01044300533231473, 0.9503134852406404, 0.03132901599694419, 0.6019143775549997, 0.980242503244901, 0.01034783575906179, 0.9520008898336847, 0.03104350727718537, 0.041833906452436176, 0.9621798484060321, 0.17069155746007914, 0.6827662298403165, 0.19097987702775682, 0.03819597540555136, 0.6875275572999245, 0.07639195081110273, 0.01909798770277568, 0.9817801667181528, 0.8460346090950437, 0.13015917063000673, 0.5818765353019174, 0.03879176902012783, 0.07758353804025565, 0.1551670760805113, 0.07758353804025565, 0.04955500322080953, 0.9415450611953811, 0.9334834785251825, 0.912602742675399, 0.018984986717545022, 0.9492493358772511, 0.9415218492715055, 0.025466940916545708, 0.35653717283163994, 0.611206581997097, 0.010442548591818538, 0.9502719218554869, 0.03132764577545561, 0.8849408038142479, 0.4250695270666366, 0.07970053632499435, 0.2391016089749831, 0.2125347635333183, 0.14832557381561723, 0.29665114763123446, 0.4449767214468517, 0.5855467381258095, 0.0390364492083873, 0.19518224604193649, 0.0390364492083873, 0.19518224604193649, 0.9552756868806278, 0.03081534473808477, 0.8594106574950812, 0.061386475535362944, 0.061386475535362944, 0.8875181713278764, 0.9552517174620259, 0.03081457153103309, 0.9014026503192341, 0.023314428401462372, 0.023314428401462372, 0.023314428401462372, 0.9092627076570324, 0.954844783120763, 0.2664535474315695, 0.6090366798435874, 0.07612958498044843, 0.6013742091183246, 0.06273828683545273, 0.8783360156963381, 0.03136914341772636, 0.18567390705445364, 0.7798304096287052, 0.12021866809152386, 0.811476009617786, 0.030054667022880965, 0.228504744891307, 0.3867003375083657, 0.017577288068562076, 0.017577288068562076, 0.35154576137124155, 0.8431657266291332, 0.06022612333065238, 0.08859390603738078, 0.8859390603738079, 0.7733087309817233, 0.945359848829784, 0.027804701436170115, 0.15984534759363675, 0.7992267379681838, 0.8839910245124593, 0.14916330316864373, 0.14916330316864373, 0.5966532126745749, 0.8977408961577713, 0.13035422074390407, 0.8255767313780591, 0.021725703457317346, 0.04183360666249405, 0.9621729532373632, 0.9038183983899449, 0.9561633810403203, 0.014940052828755004, 0.8751657489449238, 0.9639799030924177, 0.029211512214921746, 0.020510783395004274, 0.9537514278676987, 0.03076617509250641, 0.045997311404023855, 0.965943539484501, 0.8869426284855836, 0.041390993615998406, 0.9519928531679632, 0.6867863454309023, 0.0073841825953328425, 0.1033785563346598, 0.014768365190665685, 0.7679549899146156, 0.0073841825953328425, 0.07384182595332842, 0.022152547785998525, 0.04661258067990724, 0.04661258067990724, 0.9322516135981448, 0.9643444676873809, 0.8291095840778611, 0.9277667964146499, 0.9271930128012633, 0.8009506365657668, 0.9061012935941116, 0.054915229914794646, 0.027457614957397323, 0.9807674571177974, 0.1090606554905732, 0.7634245884340124, 0.22013820810416507, 0.05503455202604127, 0.018344850675347087, 0.6604146243124952, 0.018344850675347087, 0.018344850675347087, 0.10898724994399203, 0.8174043745799402, 0.057332188728613794, 0.9173150196578207, 0.6013289115645054, 0.1600307763655726, 0.03200615527311452, 0.8001538818278631, 0.826826396751102, 0.1240239595126653, 0.954864435007722, 0.5682744706687599, 0.25256643140833773, 0.09471241177812666, 0.03157080392604222, 0.6013737731009384, 0.18184853943235416, 0.7637638656158875, 0.018184853943235414, 0.03636970788647083, 0.01868524637994208, 0.00934262318997104, 0.9155770726171619, 0.05605573913982624, 0.9930875157130391, 0.8010445453018221, 0.08854321051117581, 0.8854321051117581, 0.08605949480487064, 0.7745354532438359, 0.14343249134145108, 0.9552774715606429, 0.030815402308407836, 0.8278185821951876, 0.026703825232102824, 0.13351912616051412, 0.0249705061464058, 0.1747935430248406, 0.0249705061464058, 0.1747935430248406, 0.5743216413673334, 0.10838815308678354, 0.41548792016600355, 0.3612938436226118, 0.05419407654339177, 0.05419407654339177, 0.8285623014757708, 0.057332204014473295, 0.9173152642315727, 0.3166516632567444, 0.6333033265134888, 0.03958145790709305, 0.955266995482771, 0.030815064370411968, 0.052285202337673066, 0.052285202337673066, 0.8888484397404421, 0.9341746104201043, 0.0444845052581002, 0.03353733886870152, 0.905508149454941, 0.550729432102254, 0.12958339578876565, 0.2267709426303399, 0.09718754684157424, 0.9415145826649692, 0.12012260107137292, 0.03003065026784323, 0.18018390160705938, 0.06006130053568646, 0.6006130053568646, 0.07210752316306143, 0.07210752316306143, 0.6129139468860221, 0.2283404900163612, 0.2509590372086652, 0.7215072319749124, 0.891461390693332, 0.08459893460925272, 0.8036898787879009, 0.06767914768740217, 0.025379680382775816, 0.016919786921850543, 0.19089681858760962, 0.7397251720269873, 0.023862102323451203, 0.023862102323451203, 0.13139205689915814, 0.854048369844528, 0.04139130875491967, 0.9520001013631524, 0.8589259138939455, 0.010442507438105396, 0.950268176867591, 0.03132752231431619, 0.04934964493177778, 0.9376432537037778, 0.07350243980841285, 0.19600650615576762, 0.22050731942523857, 0.3675121990420643, 0.024500813269470952, 0.09800325307788381, 0.024500813269470952, 0.8978471399683976, 0.014481405483361251, 0.07240702741680625, 0.02428732297818704, 0.8986309501929204, 0.02428732297818704, 0.02428732297818704, 0.07159699333319838, 0.07159699333319838, 0.28638797333279353, 0.5011789533323887, 0.07159699333319838, 0.07159699333319838, 0.9201185629914695, 0.6307108452349278, 0.0450507746596377, 0.3153554226174639, 0.8588520424388386, 0.9201186429349641, 0.9201186470101813, 0.9497047037037131, 0.9201187007134615, 0.04043998333313091, 0.9301196166620109, 0.9851144475296234, 0.04933836800437097, 0.9374289920830484, 0.526657914639827, 0.17555263821327569, 0.14044211057062056, 0.03511052764265514, 0.10533158292796542, 0.5206126064131552, 0.4090527621817648, 0.0371866147437968, 0.22025246933795248, 0.3303787040069287, 0.22025246933795248, 0.11012623466897624, 0.05506311733448812, 0.047486925900733244, 0.9497385180146649, 0.9497044856193372, 0.990230615172561, 0.049593508687897324, 0.049593508687897324, 0.8926831563821518, 0.6014243294687851, 0.860868613227432, 0.05063933018984894, 0.05063933018984894, 0.8740273690024623, 0.5501259006318018, 0.2750629503159009, 0.022921912526325076, 0.022921912526325076, 0.022921912526325076, 0.0916876501053003, 0.8284239549290299, 0.1711230545931818, 0.7700537456693182, 0.8738067794083115, 0.07281723161735928, 0.23721639649242154, 0.11860819824621077, 0.11860819824621077, 0.4744327929848431, 0.9018287401563214, 0.27067688113030947, 0.5954891384866808, 0.05413537622606189, 0.08120306433909283, 0.03709021245467756, 0.03709021245467756, 0.9272553113669388, 0.2965718796294432, 0.40249040806853004, 0.02118370568781737, 0.12710223412690422, 0.08473482275126948, 0.04236741137563474, 0.8018635551472609, 0.8915296241086338, 0.8641939476371159, 0.9609088445149204, 0.8950767933315957, 0.05265157607832916, 0.037090373213043995, 0.037090373213043995, 0.9272593303260999, 0.0573569549895724, 0.9177112798331584, 0.9492842402300944, 0.02876618909788165, 0.9415128552153013, 0.823096331590496, 0.01867342888302705, 0.9523448730343795, 0.1203277760567711, 0.7219666563406266, 0.9271526720084527, 0.9624124326770555, 0.07482782831770704, 0.5237947982239494, 0.39908175102777094, 0.8009498553488953, 0.9624145226022943, 0.09593862927616781, 0.03197954309205594, 0.8634476634855103, 0.8912626642011451, 0.06855866647701116, 0.9656750095746579, 0.034828901884511376, 0.034828901884511376, 0.9055514489972957, 0.9817803499100605, 0.7752612874200038, 0.12921021457000062, 0.960942781017491, 0.9725424936233045, 0.05100742139636389, 0.7481088471466704, 0.15302226418909168, 0.017002473798787963, 0.9473387950801607, 0.9038183449614727, 0.9544223539159026, 0.948063246282786, 0.1785957555329211, 0.02551367936184587, 0.20410943489476696, 0.02551367936184587, 0.5613009459606091, 0.010350693373709644, 0.9522637903812872, 0.03105208012112893, 0.060593545991537476, 0.060593545991537476, 0.8483096438815246, 0.8751655251689477, 0.9301472735462549, 0.030004750759556612, 0.07812364593466889, 0.8984219282486923, 0.8417798080610306, 0.9143663117617905, 0.9143662477731909, 0.8751658350062216, 0.0335376069753635, 0.9055153883348146, 0.6013700943972417, 0.9822127525624385, 0.9165467803830327, 0.01808836125858473, 0.01808836125858473, 0.9225064241878213, 0.04959380006921637, 0.8926884012458945, 0.8588951453514779, 0.041834909426063306, 0.962202916799456, 0.3930082995065495, 0.16137685926640616, 0.11685910498601826, 0.10642525632655234, 0.0695589910631061, 0.1321620830199016, 0.012520618391359099, 0.007651489016941671, 0.16340506483828676, 0.8170253241914338, 0.829109578000726, 0.9143662908441331, 0.8588709943479821, 0.033352761988286635, 0.033352761988286635, 0.9338773356720258, 0.8291096436780063, 0.6019136009646426, 0.9271485069615828, 0.8693569661067739, 0.33761142383984577, 0.025970109526141982, 0.3116413143137038, 0.07791032857842595, 0.1558206571568519, 0.07791032857842595, 0.7373167324107766, 0.10533096177296808, 0.944713316507633, 0.022202991505485433, 0.022202991505485433, 0.0666089745164563, 0.7549017111865047, 0.0666089745164563, 0.044405983010970866, 0.446443652433328, 0.446443652433328, 0.33030733415257374, 0.08257683353814343, 0.45417258445978886, 0.04128841676907172, 0.04128841676907172, 0.04128841676907172, 0.8693569374354396, 0.27260933426706124, 0.5815665797697307, 0.09086977808902041, 0.018173955617804084, 0.018173955617804084, 0.3388430358936836, 0.15059690484163715, 0.18824613105204643, 0.15059690484163715, 0.18824613105204643, 0.9447130578472495, 0.0870316117021686, 0.725263430851405, 0.058021074468112395, 0.0870316117021686, 0.058021074468112395, 0.05472993721696173, 0.05472993721696173, 0.8756789954713877, 0.04183154707861475, 0.9621255828081393, 0.9548949449026749, 0.8700539956351178, 0.936103879851908, 0.1640790980199449, 0.13126327841595592, 0.5906847528718017, 0.06563163920797796, 0.03281581960398898, 0.8018616059827306, 0.8018610744976901, 0.5245935059582403, 0.39344512946868015, 0.9169685779184085, 0.2979288075446416, 0.5958576150892833, 0.049312971489254856, 0.19725188595701942, 0.024656485744627428, 0.14793891446776455, 0.5917556578710582, 0.8433078469209615, 0.08282735362802783, 0.8282735362802783, 0.933483475432751, 0.8588443093432244, 0.02590855006486205, 0.9327078023350337, 0.05233851792430322, 0.8897548047131547, 0.024256488231435728, 0.024256488231435728, 0.9217465527945577, 0.8042445291504557, 0.018667509641525745, 0.009333754820762872, 0.94270923689705, 0.028001264462288615, 0.9580063358756877, 0.8423334228001293, 0.06479487867693302, 0.04956189557792217, 0.9416760159805212, 0.03628509884728499, 0.9071274711821247, 0.03628509884728499, 0.015388314777779579, 0.9694638310001135, 0.1464473043363288, 0.12203942028027401, 0.0488157681121096, 0.0244078840560548, 0.0488157681121096, 0.6101971014013701, 0.8438026097238835, 0.06490789305568335, 0.06490789305568335, 0.011447123800364356, 0.011447123800364356, 0.8356400374265981, 0.045788495201457426, 0.06868274280218614, 0.011447123800364356, 0.9546137806810927, 0.08470790674541742, 0.10588488343177178, 0.0494129456014935, 0.01411798445756957, 0.592955347217922, 0.08470790674541742, 0.05647193783027828, 0.007058992228784785, 0.09326132092104693, 0.06217421394736462, 0.03108710697368231, 0.8082647813157401, 0.04529658322676531, 0.1660874718314728, 0.588855581947949, 0.1660874718314728, 0.015098861075588435, 0.13613471377498018, 0.4492445554574346, 0.013613471377498017, 0.3131098416824544, 0.06806735688749009, 0.027226942754996035, 0.962415654016377, 0.02507390163623695, 0.0501478032724739, 0.8525126556320564, 0.0501478032724739, 0.9596570379404855], \"Term\": [\"absence\", \"abused\", \"abused\", \"accepted\", \"access\", \"access\", \"access\", \"achieve\", \"across\", \"across\", \"activist\", \"activist\", \"activity\", \"activity\", \"adamantly\", \"afghanistan\", \"afri\", \"afri\", \"afri\", \"africa\", \"africa\", \"africa\", \"africa\", \"africa\", \"africa\", \"africa\", \"africa\", \"african\", \"african\", \"african\", \"african\", \"african\", \"african\", \"afriforum\", \"afriforum\", \"afterparty\", \"aggression\", \"agony\", \"agony\", \"agony\", \"already\", \"aman\", \"aman\", \"amazon\", \"america\", \"america\", \"america\", \"america\", \"america\", \"america\", \"amir\", \"amir\", \"among\", \"among\", \"among\", \"another\", \"another\", \"another\", \"anxiety\", \"anything\", \"anything\", \"apartheidisrael\", \"arrest\", \"articulated\", \"articulated\", \"asia\", \"asia\", \"asia\", \"aware\", \"away\", \"away\", \"away\", \"bcoz\", \"behind\", \"behind\", \"behind\", \"bell\", \"bell\", \"bharat\", \"biggboss\", \"bigger\", \"bigger\", \"black\", \"black\", \"black\", \"black\", \"black\", \"blame\", \"blame\", \"blame\", \"blocked\", \"botswana\", \"botswana\", \"botswana\", \"botswana\", \"breaking\", \"breaking\", \"breaking\", \"bridge\", \"bridge\", \"britain\", \"british\", \"brother\", \"brother\", \"brother\", \"building\", \"building\", \"building\", \"burnt\", \"buying\", \"calendar\", \"call\", \"call\", \"call\", \"call\", \"call\", \"cancer\", \"cancer\", \"cant\", \"cant\", \"cape\", \"cape\", \"cape\", \"cape\", \"cape\", \"carat\", \"case\", \"case\", \"case\", \"case\", \"case\", \"chart\", \"child\", \"child\", \"child\", \"child\", \"child\", \"childlabour\", \"chip\", \"choose\", \"clear\", \"clear\", \"codesa\", \"cold\", \"colombia\", \"colony\", \"coloured\", \"coloured\", \"come\", \"come\", \"come\", \"come\", \"comple\", \"compromise\", \"compromise\", \"condemn\", \"condemn\", \"condescending\", \"conducted\", \"conflict\", \"context\", \"continue\", \"continue\", \"continue\", \"continue\", \"continue\", \"copied\", \"costing\", \"country\", \"country\", \"country\", \"country\", \"country\", \"country\", \"country\", \"covid\", \"covid\", \"covid\", \"covid\", \"covid\", \"covid\", \"covid\", \"cure\", \"debt\", \"debut\", \"depe\", \"dependent\", \"depression\", \"dictated\", \"direct\", \"directly\", \"disturbing\", \"draining\", \"drinkabl\", \"drinkabl\", \"drug\", \"drug\", \"dstv\", \"dstv\", \"dstv\", \"dudula\", \"dudula\", \"dudula\", \"dump\", \"dump\", \"east\", \"east\", \"east\", \"ecstasy\", \"ecstasy\", \"ecstasy\", \"elimination\", \"entrepreneur\", \"epic\", \"epic\", \"epic\", \"equipment\", \"equipment\", \"ethiopia\", \"ethiopia\", \"every\", \"every\", \"every\", \"every\", \"every\", \"exclusive\", \"experience\", \"experience\", \"expo\", \"expo\", \"expo\", \"expo\", \"expo\", \"express\", \"express\", \"failure\", \"figh\", \"fighter\", \"fighter\", \"fighti\", \"fighting\", \"fighting\", \"fighting\", \"finale\", \"finale\", \"finale\", \"finance\", \"first\", \"first\", \"first\", \"first\", \"food\", \"food\", \"food\", \"foreigner\", \"foreigner\", \"foreigner\", \"foreigner\", \"foreigner\", \"forgotten\", \"forgotten\", \"found\", \"found\", \"found\", \"foundation\", \"foundiougne\", \"foundiougne\", \"freelance\", \"friend\", \"friend\", \"friend\", \"friend\", \"fuck\", \"fund\", \"fund\", \"fund\", \"gate\", \"global\", \"global\", \"global\", \"globe\", \"globe\", \"good\", \"good\", \"good\", \"government\", \"government\", \"government\", \"government\", \"government\", \"group\", \"group\", \"hand\", \"hand\", \"happen\", \"happy\", \"happy\", \"harm\", \"harm\", \"headquarters\", \"hear\", \"hear\", \"hear\", \"heist\", \"held\", \"held\", \"held\", \"hemisphere\", \"hemisphere\", \"herit\", \"hockey\", \"hockey\", \"holiday\", \"host\", \"host\", \"http\", \"http\", \"http\", \"huge\", \"huge\", \"import\", \"impose\", \"impose\", \"incaseyoumissedit\", \"india\", \"india\", \"india\", \"india\", \"india\", \"india\", \"india\", \"indian\", \"indian\", \"indian\", \"indigenous\", \"interest\", \"interview\", \"irreparable\", \"journalist\", \"junior\", \"junior\", \"junior\", \"khatronkekhiladi\", \"kiyaro\", \"kiyaro\", \"know\", \"know\", \"know\", \"know\", \"know\", \"know\", \"launched\", \"launched\", \"lawlessness\", \"lawlessness\", \"leadership\", \"league\", \"league\", \"league\", \"leaked\", \"leaked\", \"lecture\", \"like\", \"like\", \"like\", \"like\", \"linked\", \"long\", \"long\", \"long\", \"long\", \"look\", \"look\", \"look\", \"look\", \"lupita\", \"majete\", \"major\", \"major\", \"malema\", \"malema\", \"malema\", \"mande\", \"mande\", \"mandela\", \"mandela\", \"mandela\", \"manufacturing\", \"manufacturing\", \"manufacturing\", \"manufacturing\", \"manufacturing\", \"many\", \"many\", \"many\", \"many\", \"many\", \"measles\", \"medicalaidracialprofiling\", \"medicalaidracialprofiling\", \"medium\", \"medium\", \"medium\", \"meter\", \"meter\", \"mexico\", \"mexico\", \"mexico\", \"middle\", \"middle\", \"mile\", \"mile\", \"million\", \"million\", \"million\", \"million\", \"minority\", \"month\", \"month\", \"month\", \"month\", \"month\", \"morning\", \"morning\", \"morning\", \"morning\", \"mozambique\", \"mozambique\", \"music\", \"must\", \"must\", \"must\", \"must\", \"must\", \"name\", \"name\", \"name\", \"name\", \"namibia\", \"namibia\", \"nato\", \"nato\", \"ndarari\", \"ndrama\", \"ndrama\", \"ndrama\", \"neck\", \"neck\", \"need\", \"need\", \"need\", \"need\", \"need\", \"need\", \"need\", \"nelson\", \"nelson\", \"nelson\", \"never\", \"never\", \"never\", \"never\", \"next\", \"next\", \"next\", \"next\", \"next\", \"next\", \"ngauteng\", \"nhlanhla\", \"nhlanhla\", \"nhlanhla\", \"njikjin\", \"nkzn\", \"nlimpopo\", \"nmexico\", \"nmpumalanga\", \"northern\", \"northern\", \"note\", \"nread\", \"nread\", \"nthe\", \"nthe\", \"nthe\", \"nthe\", \"nthe\", \"operation\", \"operation\", \"operation\", \"opportunity\", \"opportunity\", \"opportunity\", \"opportunity\", \"opportunity\", \"organized\", \"organized\", \"origi\", \"oscar\", \"palestine\", \"palestine\", \"palestine\", \"paqama\", \"party\", \"party\", \"party\", \"patrick\", \"people\", \"people\", \"people\", \"people\", \"people\", \"people\", \"picture\", \"plant\", \"plant\", \"police\", \"police\", \"poor\", \"poor\", \"poor\", \"poor\", \"positivity\", \"power\", \"power\", \"power\", \"power\", \"premiership\", \"premiership\", \"premiership\", \"president\", \"president\", \"president\", \"president\", \"president\", \"president\", \"press\", \"print\", \"produce\", \"protect\", \"protecting\", \"protecting\", \"providing\", \"providing\", \"providing\", \"publicly\", \"publicly\", \"qualified\", \"qualified\", \"racist\", \"raising\", \"rare\", \"rare\", \"rate\", \"rate\", \"refusing\", \"regional\", \"reject\", \"reject\", \"reject\", \"release\", \"removi\", \"report\", \"report\", \"report\", \"result\", \"result\", \"return\", \"revealed\", \"revealed\", \"revealed\", \"rohitshetty\", \"rude\", \"rude\", \"rule\", \"ruling\", \"russia\", \"russia\", \"russia\", \"russia\", \"russian\", \"sacred\", \"sanction\", \"sap\", \"say\", \"say\", \"say\", \"say\", \"say\", \"scene\", \"scene\", \"scene\", \"second\", \"second\", \"second\", \"served\", \"shall\", \"shall\", \"shift\", \"shift\", \"shion\", \"shivangijoshi\", \"shivi\", \"shock\", \"showed\", \"showed\", \"shown\", \"similarly\", \"sister\", \"skill\", \"skill\", \"skill\", \"solidarity\", \"solidarity\", \"song\", \"sout\", \"sout\", \"south\", \"south\", \"south\", \"south\", \"south\", \"south\", \"south\", \"south\", \"special\", \"special\", \"speech\", \"spending\", \"spotify\", \"stand\", \"stand\", \"stand\", \"staying\", \"step\", \"stuck\", \"superb\", \"take\", \"take\", \"take\", \"take\", \"take\", \"take\", \"talking\", \"talking\", \"tape\", \"team\", \"team\", \"team\", \"team\", \"team\", \"team\", \"test\", \"test\", \"thing\", \"thing\", \"thing\", \"thing\", \"thing\", \"thing\", \"thriller\", \"time\", \"time\", \"time\", \"time\", \"time\", \"today\", \"today\", \"today\", \"today\", \"today\", \"tough\", \"town\", \"town\", \"town\", \"town\", \"town\", \"trip\", \"trip\", \"trip\", \"truck\", \"truck\", \"trust\", \"uganda\", \"ukrai\", \"ukraine\", \"ukraine\", \"ukraine\", \"ukraine\", \"ukraine\", \"uphold\", \"urged\", \"urgent\", \"urgent\", \"using\", \"vaccination\", \"vaccination\", \"vaccine\", \"vaccine\", \"vaccine\", \"vaccine\", \"vaccine\", \"vice\", \"video\", \"video\", \"vigilantism\", \"viral\", \"visited\", \"visited\", \"waiver\", \"waiver\", \"walk\", \"walk\", \"walk\", \"warrant\", \"watch\", \"watch\", \"watch\", \"watch\", \"weak\", \"week\", \"week\", \"weekend\", \"weekend\", \"western\", \"western\", \"western\", \"wheat\", \"wheat\", \"white\", \"white\", \"white\", \"white\", \"white\", \"white\", \"without\", \"without\", \"without\", \"woman\", \"woman\", \"woman\", \"woman\", \"woman\", \"woman\", \"work\", \"world\", \"world\", \"world\", \"world\", \"world\", \"world\", \"world\", \"world\", \"worst\", \"worst\", \"worst\", \"worst\", \"would\", \"would\", \"would\", \"would\", \"would\", \"year\", \"year\", \"year\", \"year\", \"year\", \"year\", \"zanu\", \"zimbabwe\", \"zimbabwe\", \"zimbabwe\", \"zimbabwe\", \"zimpapers\"]}, \"R\": 30, \"lambda.step\": 0.01, \"plot.opts\": {\"xlab\": \"PC1\", \"ylab\": \"PC2\"}, \"topic.order\": [6, 3, 4, 5, 2, 1, 8, 7]};\n",
              "\n",
              "function LDAvis_load_lib(url, callback){\n",
              "  var s = document.createElement('script');\n",
              "  s.src = url;\n",
              "  s.async = true;\n",
              "  s.onreadystatechange = s.onload = callback;\n",
              "  s.onerror = function(){console.warn(\"failed to load library \" + url);};\n",
              "  document.getElementsByTagName(\"head\")[0].appendChild(s);\n",
              "}\n",
              "\n",
              "if(typeof(LDAvis) !== \"undefined\"){\n",
              "   // already loaded: just create the visualization\n",
              "   !function(LDAvis){\n",
              "       new LDAvis(\"#\" + \"ldavis_el591404052194416162779087739\", ldavis_el591404052194416162779087739_data);\n",
              "   }(LDAvis);\n",
              "}else if(typeof define === \"function\" && define.amd){\n",
              "   // require.js is available: use it to load d3/LDAvis\n",
              "   require.config({paths: {d3: \"https://d3js.org/d3.v5\"}});\n",
              "   require([\"d3\"], function(d3){\n",
              "      window.d3 = d3;\n",
              "      LDAvis_load_lib(\"https://cdn.jsdelivr.net/gh/bmabey/pyLDAvis@3.3.1/pyLDAvis/js/ldavis.v3.0.0.js\", function(){\n",
              "        new LDAvis(\"#\" + \"ldavis_el591404052194416162779087739\", ldavis_el591404052194416162779087739_data);\n",
              "      });\n",
              "    });\n",
              "}else{\n",
              "    // require.js not available: dynamically load d3 & LDAvis\n",
              "    LDAvis_load_lib(\"https://d3js.org/d3.v5.js\", function(){\n",
              "         LDAvis_load_lib(\"https://cdn.jsdelivr.net/gh/bmabey/pyLDAvis@3.3.1/pyLDAvis/js/ldavis.v3.0.0.js\", function(){\n",
              "                 new LDAvis(\"#\" + \"ldavis_el591404052194416162779087739\", ldavis_el591404052194416162779087739_data);\n",
              "            })\n",
              "         });\n",
              "}\n",
              "</script>"
            ]
          },
          "metadata": {},
          "execution_count": 35
        }
      ]
    },
    {
      "cell_type": "markdown",
      "source": [
        "visualization for model2"
      ],
      "metadata": {
        "id": "BcOMyV5bBbak"
      }
    },
    {
      "cell_type": "code",
      "source": [
        "pyLDAvis.enable_notebook()\n",
        "lda_viz = gensimvis.prepare(lda_model, corpus, id2word)\n",
        "lda_viz"
      ],
      "metadata": {
        "colab": {
          "base_uri": "https://localhost:8080/",
          "height": 917
        },
        "id": "mxAKl7ERBbCJ",
        "outputId": "4b633f57-ba1e-4db0-8d09-4c189999f531"
      },
      "execution_count": 36,
      "outputs": [
        {
          "output_type": "stream",
          "name": "stderr",
          "text": [
            "/usr/local/lib/python3.7/dist-packages/pyLDAvis/_prepare.py:247: FutureWarning: In a future version of pandas all arguments of DataFrame.drop except for the argument 'labels' will be keyword-only\n",
            "  by='saliency', ascending=False).head(R).drop('saliency', 1)\n"
          ]
        },
        {
          "output_type": "execute_result",
          "data": {
            "text/plain": [
              "PreparedData(topic_coordinates=              x         y  topics  cluster       Freq\n",
              "topic                                                \n",
              "6      0.058922  0.159445       1        1  14.646697\n",
              "9      0.079764  0.084889       2        1  12.861522\n",
              "4      0.113352  0.010723       3        1  11.660896\n",
              "1      0.073189  0.033852       4        1  10.439003\n",
              "7     -0.019310  0.008569       5        1  10.080589\n",
              "2     -0.341137  0.108653       6        1   9.140524\n",
              "8      0.065142 -0.029238       7        1   8.996384\n",
              "5      0.004347 -0.128223       8        1   8.641358\n",
              "3      0.046286 -0.001559       9        1   7.820627\n",
              "0     -0.080556 -0.247112      10        1   5.712400, topic_info=         Term        Freq        Total Category  logprob  loglift\n",
              "186     oscar  118.000000   118.000000  Default  30.0000  30.0000\n",
              "277      look  103.000000   103.000000  Default  29.0000  29.0000\n",
              "278      must  114.000000   114.000000  Default  28.0000  28.0000\n",
              "276     india  131.000000   131.000000  Default  27.0000  27.0000\n",
              "281     watch  101.000000   101.000000  Default  26.0000  26.0000\n",
              "..        ...         ...          ...      ...      ...      ...\n",
              "195       say   24.165153    40.451606  Topic10  -3.9599   2.3473\n",
              "315      time   25.301858    48.204385  Topic10  -3.9139   2.2180\n",
              "240  nhlanhla   12.088912    22.923821  Topic10  -4.6525   2.2226\n",
              "6       south   22.949352  1418.921088  Topic10  -4.0115  -1.2618\n",
              "0      africa   22.498365  1365.891928  Topic10  -4.0313  -1.2436\n",
              "\n",
              "[453 rows x 6 columns], token_table=      Topic      Freq       Term\n",
              "term                            \n",
              "174      10  0.926173    absence\n",
              "730       7  0.956567     abused\n",
              "269       3  0.987842     access\n",
              "635       6  0.851392     across\n",
              "635       7  0.116099     across\n",
              "...     ...       ...        ...\n",
              "805       9  0.916709       zanu\n",
              "650       7  0.933792    zealand\n",
              "1669      8  0.902481       zero\n",
              "29        6  0.990407   zimbabwe\n",
              "732       7  0.948922  zimpapers\n",
              "\n",
              "[536 rows x 3 columns], R=30, lambda_step=0.01, plot_opts={'xlab': 'PC1', 'ylab': 'PC2'}, topic_order=[7, 10, 5, 2, 8, 3, 9, 6, 4, 1])"
            ],
            "text/html": [
              "\n",
              "<link rel=\"stylesheet\" type=\"text/css\" href=\"https://cdn.jsdelivr.net/gh/bmabey/pyLDAvis@3.3.1/pyLDAvis/js/ldavis.v1.0.0.css\">\n",
              "\n",
              "\n",
              "<div id=\"ldavis_el591404052190324002356603842\"></div>\n",
              "<script type=\"text/javascript\">\n",
              "\n",
              "var ldavis_el591404052190324002356603842_data = {\"mdsDat\": {\"x\": [0.05892218639589342, 0.07976405877864269, 0.11335207910112101, 0.07318920674725682, -0.01931006457083099, -0.3411374819561966, 0.06514239572972336, 0.004347291331791434, 0.04628633273180283, -0.08055600428920377], \"y\": [0.159445367695516, 0.08488935052669136, 0.010722514006943493, 0.03385164955437827, 0.008569367769099069, 0.10865317800879186, -0.029237821097623247, -0.12822266185105038, -0.0015588766629177975, -0.2471120679498282], \"topics\": [1, 2, 3, 4, 5, 6, 7, 8, 9, 10], \"cluster\": [1, 1, 1, 1, 1, 1, 1, 1, 1, 1], \"Freq\": [14.64669666633166, 12.86152154650625, 11.660895939403122, 10.439003297308604, 10.08058912251687, 9.140523771372077, 8.996384493336505, 8.64135826898303, 7.820626763633383, 5.712400130608499]}, \"tinfo\": {\"Term\": [\"oscar\", \"look\", \"must\", \"india\", \"watch\", \"africa\", \"http\", \"continue\", \"access\", \"epic\", \"behind\", \"scene\", \"finale\", \"ecstasy\", \"agony\", \"ndrama\", \"country\", \"woman\", \"lupita\", \"nelson\", \"hockey\", \"morning\", \"friend\", \"asia\", \"child\", \"brother\", \"skill\", \"held\", \"khatronkekhiladi\", \"east\", \"asia\", \"child\", \"east\", \"walk\", \"visited\", \"wheat\", \"note\", \"dependent\", \"similarly\", \"depe\", \"drinkabl\", \"mile\", \"showed\", \"mexico\", \"waiver\", \"trip\", \"compromise\", \"publicly\", \"school\", \"egypt\", \"realized\", \"middle\", \"algeria\", \"enhypen\", \"streaming\", \"youtube\", \"resource\", \"side\", \"state\", \"anything\", \"every\", \"take\", \"breaking\", \"need\", \"country\", \"vaccine\", \"africa\", \"south\", \"covid\", \"thing\", \"african\", \"government\", \"oscar\", \"lupita\", \"nelson\", \"never\", \"afterparty\", \"happy\", \"mandela\", \"shall\", \"bridge\", \"forgotten\", \"foundiougne\", \"mande\", \"meter\", \"news\", \"protecting\", \"aware\", \"disturbing\", \"experience\", \"great\", \"sister\", \"action\", \"home\", \"came\", \"figh\", \"better\", \"almost\", \"majete\", \"city\", \"name\", \"afri\", \"town\", \"would\", \"malema\", \"mozambique\", \"cape\", \"long\", \"fighting\", \"south\", \"africa\", \"government\", \"year\", \"first\", \"drug\", \"look\", \"watch\", \"http\", \"access\", \"epic\", \"behind\", \"scene\", \"agony\", \"ecstasy\", \"finale\", \"ndrama\", \"launched\", \"girl\", \"born\", \"plant\", \"show\", \"fuck\", \"must\", \"patrick\", \"soon\", \"shion\", \"table\", \"impact\", \"harvey\", \"linking\", \"corruption\", \"flower\", \"majority\", \"financial\", \"park\", \"china\", \"india\", \"well\", \"africa\", \"south\", \"botswana\", \"support\", \"brazil\", \"vaccine\", \"african\", \"covid\", \"europe\", \"work\", \"israel\", \"brand\", \"entrepreneur\", \"reminds\", \"anxiety\", \"apartheidisrael\", \"debt\", \"depression\", \"tape\", \"tough\", \"video\", \"cyril\", \"argentina\", \"bulgaria\", \"afric\", \"superb\", \"thriller\", \"caribbean\", \"go\", \"korea\", \"rank\", \"buying\", \"coming\", \"father\", \"entertain\", \"problem\", \"hear\", \"major\", \"apartheid\", \"please\", \"love\", \"president\", \"black\", \"nation\", \"african\", \"united\", \"america\", \"south\", \"africa\", \"help\", \"country\", \"investment\", \"bank\", \"india\", \"worst\", \"ukraine\", \"report\", \"among\", \"revealed\", \"dstv\", \"premiership\", \"providing\", \"russian\", \"condemn\", \"neck\", \"nread\", \"wildlife\", \"adamantly\", \"aggression\", \"refusing\", \"stuck\", \"centre\", \"convention\", \"picture\", \"sandton\", \"police\", \"lawlessness\", \"medicalaidracialprofiling\", \"study\", \"speaking\", \"constitution\", \"johannes\", \"american\", \"make\", \"come\", \"league\", \"found\", \"month\", \"people\", \"investment\", \"world\", \"africa\", \"south\", \"million\", \"opportunity\", \"hockey\", \"held\", \"stand\", \"zimbabwe\", \"junior\", \"sanction\", \"blame\", \"qualified\", \"western\", \"globe\", \"impose\", \"nato\", \"ukrai\", \"return\", \"text\", \"leaked\", \"huge\", \"weak\", \"nmexico\", \"origi\", \"group\", \"harm\", \"woman\", \"headquarters\", \"indigenous\", \"amazon\", \"global\", \"already\", \"coal\", \"blocked\", \"team\", \"call\", \"across\", \"power\", \"know\", \"russia\", \"many\", \"country\", \"world\", \"reject\", \"south\", \"cant\", \"abused\", \"zimpapers\", \"johannesburg\", \"bigger\", \"fighti\", \"minority\", \"racist\", \"left\", \"friendly\", \"stop\", \"tour\", \"tonight\", \"currently\", \"airport\", \"operationdudula\", \"dangerous\", \"harmful\", \"served\", \"sabc\", \"factory\", \"cold\", \"meet\", \"wild\", \"arab\", \"emirate\", \"sent\", \"photo\", \"zealand\", \"farm\", \"good\", \"nthe\", \"fund\", \"france\", \"medium\", \"final\", \"year\", \"foreigner\", \"drug\", \"operation\", \"international\", \"dudula\", \"morning\", \"africa\", \"south\", \"afriforum\", \"time\", \"fighting\", \"citizen\", \"nothing\", \"world\", \"continue\", \"friend\", \"white\", \"indian\", \"coloured\", \"daily\", \"conference\", \"baby\", \"someone\", \"chart\", \"colombia\", \"debut\", \"ndarari\", \"njikjin\", \"song\", \"spotify\", \"viral\", \"rise\", \"professor\", \"zero\", \"evidence\", \"latest\", \"foreign\", \"apply\", \"looking\", \"dying\", \"chitja\", \"twala\", \"rather\", \"update\", \"today\", \"week\", \"join\", \"life\", \"say\", \"africa\", \"south\", \"court\", \"foreigner\", \"nation\", \"covid\", \"brother\", \"skill\", \"rare\", \"fighter\", \"organized\", \"solidarity\", \"palestine\", \"weekend\", \"activist\", \"express\", \"cancer\", \"activity\", \"amapiano\", \"namibia\", \"costing\", \"cure\", \"draining\", \"regional\", \"removi\", \"zanu\", \"music\", \"monday\", \"fact\", \"gift\", \"education\", \"heard\", \"produce\", \"actually\", \"putin\", \"force\", \"morning\", \"ever\", \"nigeria\", \"many\", \"africa\", \"south\", \"botswana\", \"president\", \"first\", \"bell\", \"truck\", \"shift\", \"northern\", \"sout\", \"equipment\", \"hemisphere\", \"articulated\", \"dump\", \"biggboss\", \"exclusive\", \"rohitshetty\", \"result\", \"sap\", \"protect\", \"rule\", \"remember\", \"absence\", \"direct\", \"failure\", \"vigilantism\", \"play\", \"wall\", \"longer\", \"burnt\", \"closing\", \"distribut\", \"shark\", \"crime\", \"away\", \"khatronkekhiladi\", \"host\", \"manufacturing\", \"say\", \"time\", \"nhlanhla\", \"south\", \"africa\"], \"Freq\": [118.0, 103.0, 114.0, 131.0, 101.0, 1365.0, 91.0, 79.0, 90.0, 89.0, 89.0, 89.0, 88.0, 88.0, 88.0, 88.0, 174.0, 82.0, 77.0, 72.0, 61.0, 73.0, 52.0, 66.0, 66.0, 48.0, 47.0, 49.0, 44.0, 62.0, 66.19068406856996, 65.92118166873472, 62.015503399023146, 61.233775738102175, 56.47566189829046, 50.93859278197726, 46.963771365908435, 46.25119290458582, 46.25119290458582, 45.53864168284811, 41.18818639090272, 41.18818639090272, 41.18818639090272, 21.966596000470098, 20.606299556110535, 19.893731687959825, 19.181172899670752, 19.181172899670752, 16.03025358851131, 15.854054333536146, 15.377240532830372, 53.82857351613437, 13.168809346165519, 12.55644229109762, 12.55644229109762, 12.55644229109762, 12.019994985787898, 11.637565590132013, 11.608130192018747, 46.251326075889814, 51.7152599333465, 35.968773207300416, 19.89380886678373, 29.54951684092681, 85.56074078992121, 27.947084699702557, 280.33842777633436, 271.3650305447507, 28.31349343615706, 20.901027324880545, 30.3214564110043, 23.945629022835135, 117.61286991849421, 76.70159170660018, 71.7051203148306, 41.263910964619214, 38.39272418048081, 37.83112219720045, 37.79808131462498, 34.65661681543565, 33.99087705046651, 33.99087705046651, 33.99087705046651, 33.99087705046651, 33.99087705046651, 16.561477946957012, 15.389298685700384, 14.723573538238822, 14.723573538238822, 13.381420570042577, 12.847843006511024, 10.812160398150192, 10.179497395093307, 10.146361498718598, 9.794441681703754, 8.242885608750234, 8.083192660660568, 7.979054878971788, 7.764348941125813, 7.764311732924714, 38.87850382310835, 7.032516780091124, 27.293483242322903, 59.630176692452416, 29.358304523169004, 28.91270442227055, 27.6642656239982, 42.41027703636375, 27.163294404407868, 195.17710719027684, 187.7799892409179, 23.855594293624996, 16.90503189861415, 14.879370920559907, 14.938283462677774, 102.60671276921325, 100.51690887772463, 90.97590515331791, 89.33602721656871, 88.76089693123664, 88.76089693123664, 88.6484154425518, 87.96083258408468, 87.96083258408468, 87.96083258408468, 87.96083258408468, 19.170040840150477, 18.37641863652891, 15.546671849975555, 14.634111556363843, 14.561115455732427, 12.12145148399799, 107.63923288584277, 10.931452514219782, 10.666792101431517, 8.60403087547714, 7.883215014191488, 6.931037405330423, 6.316187395510175, 6.316187395510175, 6.1307784806246595, 6.091075623540509, 5.51606702448049, 5.515904976920206, 5.515713411402845, 15.903364433673952, 113.09645495927784, 7.8579928234794805, 163.98472862664255, 167.5698519829613, 10.091728080901065, 9.575853588384378, 8.570884016900687, 9.404166306689007, 9.82902488938924, 9.055743570230678, 21.10917940421833, 19.132383057444812, 18.513119216211134, 15.008520149244497, 14.423776939239591, 12.493699822057572, 12.296515034146694, 11.359441573552923, 11.07648046993993, 11.07648046993993, 11.07648046993993, 11.07648046993993, 11.071869593900969, 9.357838174406043, 8.919363277315693, 8.918910278968005, 8.868479159344204, 8.773059371673819, 8.773059371673819, 8.395109907388239, 8.395109907388239, 8.395109907388239, 8.395109907388239, 8.228188644805366, 8.193282425697312, 8.193234968727554, 8.163039393151701, 7.7547562966509735, 7.754691043317556, 7.618157341324556, 27.391718574356176, 16.631153759256005, 13.324924825876696, 27.56758547573838, 26.43428283803385, 19.475924061521045, 45.51241179337063, 18.29913573957351, 20.417765869007976, 236.71534789449592, 219.0963525026803, 11.420767842722354, 21.465786174922865, 12.389187710408603, 10.500087529477398, 14.763670228049447, 29.495185939783735, 29.28412912328336, 28.6847502615958, 24.451092588082798, 23.84045680736278, 22.519347789337377, 22.519347789337377, 22.519347789337377, 19.355084925477573, 17.998707421860303, 17.38810080414296, 17.288201896944813, 17.229453028056536, 16.67759111308423, 16.67759111308423, 16.67759111308423, 16.67759111308423, 15.268319213365643, 13.201417437188306, 12.490904621522146, 12.490904621522146, 12.361104262760094, 12.301859622826347, 12.301859622826347, 11.039963998660395, 10.728990568853106, 10.558620307227244, 10.424004928416428, 10.417978602220854, 10.11835999581214, 30.923525235572555, 22.51943319527378, 13.07168998593294, 18.95092736983799, 24.85811228412774, 21.936933462920035, 48.716804300448715, 117.83439547942659, 112.67972643694111, 18.691501630329935, 14.047451767819817, 60.22909754219062, 49.047438746926574, 45.35147777379098, 36.584593113406356, 32.628663230153705, 31.20699201551507, 30.492857593194447, 30.140712633332964, 29.64258684609915, 29.149583524530115, 27.188672691490545, 27.188672691490545, 24.50788921684953, 23.82207757205227, 23.36832759909881, 22.778968280692375, 21.20368920462744, 20.421478120253003, 19.832111246587477, 19.832111246587477, 16.465438685743504, 10.610992132260078, 76.70272046234618, 9.301799837362438, 9.205348455378996, 8.616008025120296, 33.18410321286393, 8.15702981287476, 8.066337427134648, 8.026641151454772, 37.691162803514494, 30.423672196868793, 22.301107587159674, 33.139666956510844, 37.53917743397833, 37.62476718660878, 33.13375874390044, 58.90433196948837, 45.605530916038546, 23.595249805944867, 38.54934957332406, 20.16702972290079, 20.133368274556695, 18.194166199923444, 13.116294796099748, 11.468343165447996, 10.790155237199855, 10.790155237199855, 10.790155237199855, 8.94625631324646, 8.755577509733694, 8.077370991189898, 7.943245726091876, 7.494509916248574, 7.040666422673819, 6.911712048312479, 6.720963066433612, 6.592006833042706, 6.4966558123515386, 6.4966544180793635, 6.104482836070808, 5.970068491875336, 5.913820763824132, 5.874912669288555, 5.874848997525934, 5.746037303683752, 5.746037303683752, 5.746036838926361, 5.746018248630706, 5.650627723561269, 5.196845577962178, 25.82322756379795, 21.756488847300893, 23.157007360832054, 25.956661269897577, 20.4619907898952, 10.665160595813218, 42.823274007709614, 14.974031406624595, 26.565060298738768, 13.216878520260655, 13.067174587403008, 12.634056949697598, 24.594555884280155, 125.81300850976481, 128.50348533050249, 10.79018684070247, 16.154033692115306, 10.79017010943638, 8.996638803018236, 8.370864354342276, 9.007042861982047, 79.0541965216217, 51.325088284120945, 43.018797264169784, 24.02464352452467, 22.923623118980302, 14.924641695961576, 13.765041614987123, 12.84917873257214, 11.896594515765607, 8.815596973114307, 8.815596973114307, 8.815596973114307, 8.815596973114307, 8.815596973114307, 8.815596973114307, 8.815596973114307, 8.815596973114307, 8.693742212748308, 8.175019548412322, 8.084786259517683, 7.4708058877675585, 7.412591381093487, 7.349011840055372, 6.952125633005926, 6.952048849355517, 6.189683180356782, 5.7292839483384705, 5.7292839483384705, 5.7290982390444585, 5.427304118860884, 18.5711097535508, 10.033177638479026, 10.656390351357693, 8.273167803131102, 15.591527342093244, 95.28269602818028, 94.76890983829908, 7.68670856663718, 8.225099452308756, 8.111420365045031, 8.071096448916267, 48.15273530902205, 46.24996942882492, 43.69311262666494, 43.13099541276982, 21.09393367607426, 20.62378208990283, 20.623780473834017, 20.53181969431676, 20.531814846110333, 20.531814846110333, 20.17926781932014, 19.96969278400879, 14.769420918200641, 12.687684305765902, 10.130828311640327, 10.130828311640327, 10.130828311640327, 10.130828311640327, 10.130828311640327, 10.130828311640327, 9.877025513193898, 7.568968160447144, 7.568841299045625, 7.158352549205695, 7.001443580316529, 6.941974672242126, 6.882243961020637, 6.790414891111327, 6.471753595111899, 6.444766458050294, 48.590541277977856, 12.035051077868928, 9.34739047432878, 24.531783925280404, 153.17756943718643, 150.64292711687736, 13.249795055385784, 14.221628538230044, 13.797189074394918, 24.164975680721316, 23.588085075553867, 23.46040838472295, 22.883529583765004, 22.30665314364896, 22.212278488669096, 22.212278488669096, 21.63540440939495, 21.63540440939495, 19.500456124714646, 19.500456124714646, 19.500456124714646, 13.725158093594045, 13.053895194288634, 12.443733244214839, 12.349352687130226, 11.573087803029024, 11.101227512760175, 11.101227512760175, 11.101227512760175, 11.101227512760175, 9.65369028598596, 9.110096994985764, 7.734329361992357, 7.639961789538198, 7.1574529218763105, 6.48620359741183, 6.48620359741183, 6.358486772268603, 26.084493600701315, 39.49345705601099, 20.748683995707378, 24.742081122501727, 24.165152743863867, 25.301857984731118, 12.08891169117242, 22.949352216797987, 22.49836531019404], \"Total\": [118.0, 103.0, 114.0, 131.0, 101.0, 1365.0, 91.0, 79.0, 90.0, 89.0, 89.0, 89.0, 88.0, 88.0, 88.0, 88.0, 174.0, 82.0, 77.0, 72.0, 61.0, 73.0, 52.0, 66.0, 66.0, 48.0, 47.0, 49.0, 44.0, 62.0, 66.9611144421912, 66.69159826238302, 62.785939676789525, 62.00418897500512, 57.246059469128824, 51.70900365851797, 47.73417033585356, 47.02159047542418, 47.02159047542418, 46.30903925368647, 41.958583961741084, 41.958583961741084, 41.958583961741084, 22.737003000403295, 21.376697253343522, 20.66412955392549, 19.95157047050911, 19.95157047050911, 16.80075202667758, 16.62447305623793, 16.14763810366873, 56.53154980727686, 13.939220108411941, 13.326839861935976, 13.326839861935976, 13.326839861935976, 12.790549973970775, 12.408005592150582, 12.378547152653942, 49.4938346399753, 65.43975311097182, 43.85257570181924, 23.172914127758794, 40.538007425504304, 174.0531981289234, 40.26003441721875, 1365.8919276532038, 1418.921088125227, 53.37112177036299, 33.54514974896293, 92.72462563735426, 53.77836373943363, 118.38916697179053, 77.47788790697972, 72.48142318420486, 42.040245878215515, 39.169020380860374, 38.60742224884727, 38.574390208487195, 35.43291439096796, 34.76717325084607, 34.76717325084607, 34.76717325084607, 34.76717325084607, 34.76717325084607, 17.337887647756634, 16.165606444120826, 15.499869738618374, 15.499869738618374, 14.157871052635643, 13.624274682054624, 11.588519917738017, 10.955825026531192, 10.922785711573269, 10.570886389208955, 9.019181809129785, 8.859508928615222, 8.755369837050427, 8.540646920196394, 8.540644377206347, 42.82563507668948, 7.808840385158624, 31.09396663489313, 71.32147626066414, 34.71012237118957, 34.67148082430231, 36.56028582399407, 62.579387490624256, 38.64435299151507, 1418.921088125227, 1365.8919276532038, 53.77836373943363, 74.76327106504138, 40.24273400239804, 54.52002526435473, 103.36610909365766, 101.2762846754467, 91.73528184863643, 90.09540519517891, 89.52027104129179, 89.52027221133044, 89.40778843529749, 88.72020524588535, 88.72020524588535, 88.72020524588535, 88.72020524588535, 19.929451774006274, 19.135959149260298, 16.306151101226053, 15.393576381627165, 15.320758008177481, 12.880827675752936, 114.96663915628297, 11.690878862736438, 11.426204047397611, 9.36340353727784, 8.642699476218867, 7.6904297235775445, 7.075604294403071, 7.075604294403071, 6.890305376718218, 6.850607268746979, 6.275505524271905, 6.27547333567857, 6.275469775528792, 18.150650425783855, 131.82487584950752, 10.90290270307998, 1365.8919276532038, 1418.921088125227, 24.018522037877002, 24.46814286200769, 22.820723909648652, 40.26003441721875, 92.72462563735426, 53.37112177036299, 21.892538914557534, 19.91572813720939, 19.29649790921721, 15.791916933087556, 15.207113789955036, 13.277027639374408, 13.079829992102125, 12.142755785155648, 11.859794681542656, 11.859794681542656, 11.859794681542656, 11.859794681542656, 11.855186815286455, 10.141171798074394, 9.702684688663803, 9.702706323127646, 9.651797634765892, 9.556373583276544, 9.556373583276544, 9.178431894923616, 9.178431894923616, 9.178431894923616, 9.178431894923616, 9.01151025694399, 8.976630960807768, 8.976633369047697, 8.946353604754426, 8.538147585276311, 8.538149469274535, 8.401491340547619, 32.925936095047724, 19.954160745400397, 16.060077131988887, 42.49019833816848, 40.51336942750687, 28.29000035346833, 92.72462563735426, 26.824891849835755, 33.480410816616406, 1418.921088125227, 1365.8919276532038, 19.460070990490106, 174.0531981289234, 35.01998392332409, 21.035657401280762, 131.82487584950752, 30.265861237238607, 30.05481601147975, 29.455448454093805, 25.22175055968571, 24.61113247306527, 23.290003773580946, 23.290003773580946, 23.290003773580946, 20.125770088521637, 18.769378301219184, 18.158760359929268, 18.058861418890125, 18.000112979243365, 17.448247097327798, 17.448247097327798, 17.448247097327798, 17.448247097327798, 16.038985493691637, 13.972082704774888, 13.261568716282282, 13.261568716282282, 13.131782235837742, 13.072515607069915, 13.072515607069915, 11.810650846715209, 11.49971071927753, 11.329303642394109, 11.194667627904254, 11.188776626216542, 10.88909574812659, 36.649365030079345, 26.6524566552277, 15.103327996104275, 27.11832652869443, 41.289626292635226, 35.01998392332409, 143.23162103112253, 1365.8919276532038, 1418.921088125227, 32.30509806499324, 23.589171189815875, 61.00286791924744, 49.821306073212405, 46.12525756531116, 37.35839341260494, 33.40243449838125, 31.98078433090096, 31.266632522670143, 30.91449202382715, 30.41635950843962, 29.92340050099733, 27.96244273938112, 27.96244625378083, 25.2816588815241, 24.59586631018131, 24.14212456368996, 23.55275122415975, 21.977469157144917, 21.195256135399344, 20.605880911262044, 20.605880911262044, 17.239298098687712, 11.384776472879453, 82.42857831286176, 10.075577213963903, 9.979156204691673, 9.389785112116213, 36.20842768413897, 8.93086546533136, 8.840122400968122, 8.800410816129338, 41.4903913270795, 35.07002307505315, 25.84003319850229, 43.23182317222972, 53.4859266868168, 65.05510234554366, 58.35695049715932, 174.0531981289234, 143.23162103112253, 43.460409357193456, 1418.921088125227, 20.941767128644816, 20.90810989859363, 18.968893550537715, 13.891122421481054, 12.243073444709308, 11.564882587814125, 11.564882587814125, 11.564882587814125, 9.721012756205182, 9.5303121077031, 8.852121792876476, 8.717995511276895, 8.269284561086518, 7.815445807769852, 7.686443885405395, 7.495746431433442, 7.366738885671195, 7.271386848556747, 7.271387964236792, 6.879246270710588, 6.745127016331149, 6.688548114438404, 6.649758051265547, 6.6497764400996, 6.5207646542980235, 6.5207646542980235, 6.520764397175683, 6.520764228975725, 6.425413401913912, 5.971579370755988, 30.55422436926907, 26.527699831740275, 28.5617039730249, 34.71642446344612, 29.65327685926023, 13.677167429177086, 74.76327106504138, 23.893206400476167, 54.52002526435473, 23.294892571572277, 23.358221104897552, 22.139920756305926, 73.87744816619681, 1365.8919276532038, 1418.921088125227, 19.72391527069997, 48.204384641763056, 38.64435299151507, 18.998981232359206, 15.201796540030307, 143.23162103112253, 79.83367051343404, 52.10456842636076, 43.79830816212966, 24.80410944994215, 23.703088822095033, 15.70411424481363, 14.544848883776583, 13.628765676748058, 12.676073660634056, 9.595064487885374, 9.595064487885374, 9.595064487885374, 9.595064487885374, 9.595064487885374, 9.595064487885374, 9.595064487885374, 9.595064487885374, 9.473214801269577, 8.954493489701424, 8.864448792194954, 8.250346586490899, 8.192072510820589, 8.128496107651852, 7.7316243124832456, 7.731626776623598, 6.969202209556584, 6.508750603980683, 6.508750603980683, 6.5087609788837195, 6.206778802612249, 27.75778110884586, 14.175085467101647, 15.51054729050401, 12.31566815573421, 40.45160642966735, 1365.8919276532038, 1418.921088125227, 11.327921370851252, 23.893206400476167, 28.29000035346833, 53.37112177036299, 48.93050576605509, 47.02774001745823, 44.47088102960186, 43.90875841286638, 21.871709761756595, 21.401546098987208, 21.40154602661731, 21.30958488762145, 21.309582244264874, 21.309584052227233, 20.9570308194167, 20.74745578410535, 15.54719914439977, 13.465449125206252, 10.908591311736888, 10.908591311736888, 10.908591311736888, 10.908591311736888, 10.908591311736888, 10.908591311736888, 10.65480990563919, 8.346795920388331, 8.346794682649161, 7.9361328909713125, 7.779251276881466, 7.719749854651778, 7.660262201574819, 7.568283960542541, 7.249582845446284, 7.222539745341517, 73.87744816619681, 16.12570289689127, 11.989681027928198, 58.35695049715932, 1365.8919276532038, 1418.921088125227, 24.018522037877002, 42.49019833816848, 40.24273400239804, 24.940578333562968, 24.363699725261807, 24.23601503778165, 23.659136702542543, 23.082258903721566, 22.987879661297228, 22.987879661297228, 22.41100551461261, 22.41100551461261, 20.276057229932306, 20.276057229932306, 20.276057229932306, 14.500777097880722, 13.829524909607995, 13.21933479278512, 13.124963283220891, 12.348703977021328, 11.876828617977838, 11.876828617977838, 11.876828617977838, 11.876828617977838, 10.429320350914765, 9.88575220240684, 8.509936594326165, 8.41556289475586, 7.933058289224541, 7.261804702629492, 7.261804702629492, 7.134118008384821, 29.29239829704229, 44.972969424205566, 28.084085088416998, 40.58058742540146, 40.45160642966735, 48.204384641763056, 22.923820988325343, 1418.921088125227, 1365.8919276532038], \"Category\": [\"Default\", \"Default\", \"Default\", \"Default\", \"Default\", \"Default\", \"Default\", \"Default\", \"Default\", \"Default\", \"Default\", \"Default\", \"Default\", \"Default\", \"Default\", \"Default\", \"Default\", \"Default\", \"Default\", \"Default\", \"Default\", \"Default\", \"Default\", \"Default\", \"Default\", \"Default\", \"Default\", \"Default\", \"Default\", \"Default\", \"Topic1\", \"Topic1\", \"Topic1\", \"Topic1\", \"Topic1\", \"Topic1\", \"Topic1\", \"Topic1\", \"Topic1\", \"Topic1\", \"Topic1\", \"Topic1\", \"Topic1\", \"Topic1\", \"Topic1\", \"Topic1\", \"Topic1\", \"Topic1\", \"Topic1\", \"Topic1\", \"Topic1\", \"Topic1\", \"Topic1\", \"Topic1\", \"Topic1\", \"Topic1\", \"Topic1\", \"Topic1\", \"Topic1\", \"Topic1\", \"Topic1\", \"Topic1\", \"Topic1\", \"Topic1\", \"Topic1\", \"Topic1\", \"Topic1\", \"Topic1\", \"Topic1\", \"Topic1\", \"Topic1\", \"Topic1\", \"Topic2\", \"Topic2\", \"Topic2\", \"Topic2\", \"Topic2\", \"Topic2\", \"Topic2\", \"Topic2\", \"Topic2\", \"Topic2\", \"Topic2\", \"Topic2\", \"Topic2\", \"Topic2\", \"Topic2\", \"Topic2\", \"Topic2\", \"Topic2\", \"Topic2\", \"Topic2\", \"Topic2\", \"Topic2\", \"Topic2\", \"Topic2\", \"Topic2\", \"Topic2\", \"Topic2\", \"Topic2\", \"Topic2\", \"Topic2\", \"Topic2\", \"Topic2\", \"Topic2\", \"Topic2\", \"Topic2\", \"Topic2\", \"Topic2\", \"Topic2\", \"Topic2\", \"Topic2\", \"Topic2\", \"Topic2\", \"Topic2\", \"Topic3\", \"Topic3\", \"Topic3\", \"Topic3\", \"Topic3\", \"Topic3\", \"Topic3\", \"Topic3\", \"Topic3\", \"Topic3\", \"Topic3\", \"Topic3\", \"Topic3\", \"Topic3\", \"Topic3\", \"Topic3\", \"Topic3\", \"Topic3\", \"Topic3\", \"Topic3\", \"Topic3\", \"Topic3\", \"Topic3\", \"Topic3\", \"Topic3\", \"Topic3\", \"Topic3\", \"Topic3\", \"Topic3\", \"Topic3\", \"Topic3\", \"Topic3\", \"Topic3\", \"Topic3\", \"Topic3\", \"Topic3\", \"Topic3\", \"Topic3\", \"Topic3\", \"Topic3\", \"Topic3\", \"Topic4\", \"Topic4\", \"Topic4\", \"Topic4\", \"Topic4\", \"Topic4\", \"Topic4\", \"Topic4\", \"Topic4\", \"Topic4\", \"Topic4\", \"Topic4\", \"Topic4\", \"Topic4\", \"Topic4\", \"Topic4\", \"Topic4\", \"Topic4\", \"Topic4\", \"Topic4\", \"Topic4\", \"Topic4\", \"Topic4\", \"Topic4\", \"Topic4\", \"Topic4\", \"Topic4\", \"Topic4\", \"Topic4\", \"Topic4\", \"Topic4\", \"Topic4\", \"Topic4\", \"Topic4\", \"Topic4\", \"Topic4\", \"Topic4\", \"Topic4\", \"Topic4\", \"Topic4\", \"Topic4\", \"Topic4\", \"Topic4\", \"Topic4\", \"Topic4\", \"Topic4\", \"Topic5\", \"Topic5\", \"Topic5\", \"Topic5\", \"Topic5\", \"Topic5\", \"Topic5\", \"Topic5\", \"Topic5\", \"Topic5\", \"Topic5\", \"Topic5\", \"Topic5\", \"Topic5\", \"Topic5\", \"Topic5\", \"Topic5\", \"Topic5\", \"Topic5\", \"Topic5\", \"Topic5\", \"Topic5\", \"Topic5\", \"Topic5\", \"Topic5\", \"Topic5\", \"Topic5\", \"Topic5\", \"Topic5\", \"Topic5\", \"Topic5\", \"Topic5\", \"Topic5\", \"Topic5\", \"Topic5\", \"Topic5\", \"Topic5\", \"Topic5\", \"Topic5\", \"Topic5\", \"Topic5\", \"Topic6\", \"Topic6\", \"Topic6\", \"Topic6\", \"Topic6\", \"Topic6\", \"Topic6\", \"Topic6\", \"Topic6\", \"Topic6\", \"Topic6\", \"Topic6\", \"Topic6\", \"Topic6\", \"Topic6\", \"Topic6\", \"Topic6\", \"Topic6\", \"Topic6\", \"Topic6\", \"Topic6\", \"Topic6\", \"Topic6\", \"Topic6\", \"Topic6\", \"Topic6\", \"Topic6\", \"Topic6\", \"Topic6\", \"Topic6\", \"Topic6\", \"Topic6\", \"Topic6\", \"Topic6\", \"Topic6\", \"Topic6\", \"Topic6\", \"Topic6\", \"Topic6\", \"Topic6\", \"Topic6\", \"Topic7\", \"Topic7\", \"Topic7\", \"Topic7\", \"Topic7\", \"Topic7\", \"Topic7\", \"Topic7\", \"Topic7\", \"Topic7\", \"Topic7\", \"Topic7\", \"Topic7\", \"Topic7\", \"Topic7\", \"Topic7\", \"Topic7\", \"Topic7\", \"Topic7\", \"Topic7\", \"Topic7\", \"Topic7\", \"Topic7\", \"Topic7\", \"Topic7\", \"Topic7\", \"Topic7\", \"Topic7\", \"Topic7\", \"Topic7\", \"Topic7\", \"Topic7\", \"Topic7\", \"Topic7\", \"Topic7\", \"Topic7\", \"Topic7\", \"Topic7\", \"Topic7\", \"Topic7\", \"Topic7\", \"Topic7\", \"Topic7\", \"Topic7\", \"Topic7\", \"Topic7\", \"Topic7\", \"Topic7\", \"Topic7\", \"Topic7\", \"Topic7\", \"Topic8\", \"Topic8\", \"Topic8\", \"Topic8\", \"Topic8\", \"Topic8\", \"Topic8\", \"Topic8\", \"Topic8\", \"Topic8\", \"Topic8\", \"Topic8\", \"Topic8\", \"Topic8\", \"Topic8\", \"Topic8\", \"Topic8\", \"Topic8\", \"Topic8\", \"Topic8\", \"Topic8\", \"Topic8\", \"Topic8\", \"Topic8\", \"Topic8\", \"Topic8\", \"Topic8\", \"Topic8\", \"Topic8\", \"Topic8\", \"Topic8\", \"Topic8\", \"Topic8\", \"Topic8\", \"Topic8\", \"Topic8\", \"Topic8\", \"Topic8\", \"Topic8\", \"Topic8\", \"Topic8\", \"Topic9\", \"Topic9\", \"Topic9\", \"Topic9\", \"Topic9\", \"Topic9\", \"Topic9\", \"Topic9\", \"Topic9\", \"Topic9\", \"Topic9\", \"Topic9\", \"Topic9\", \"Topic9\", \"Topic9\", \"Topic9\", \"Topic9\", \"Topic9\", \"Topic9\", \"Topic9\", \"Topic9\", \"Topic9\", \"Topic9\", \"Topic9\", \"Topic9\", \"Topic9\", \"Topic9\", \"Topic9\", \"Topic9\", \"Topic9\", \"Topic9\", \"Topic9\", \"Topic9\", \"Topic9\", \"Topic9\", \"Topic9\", \"Topic9\", \"Topic9\", \"Topic9\", \"Topic10\", \"Topic10\", \"Topic10\", \"Topic10\", \"Topic10\", \"Topic10\", \"Topic10\", \"Topic10\", \"Topic10\", \"Topic10\", \"Topic10\", \"Topic10\", \"Topic10\", \"Topic10\", \"Topic10\", \"Topic10\", \"Topic10\", \"Topic10\", \"Topic10\", \"Topic10\", \"Topic10\", \"Topic10\", \"Topic10\", \"Topic10\", \"Topic10\", \"Topic10\", \"Topic10\", \"Topic10\", \"Topic10\", \"Topic10\", \"Topic10\", \"Topic10\", \"Topic10\", \"Topic10\", \"Topic10\", \"Topic10\", \"Topic10\", \"Topic10\"], \"logprob\": [30.0, 29.0, 28.0, 27.0, 26.0, 25.0, 24.0, 23.0, 22.0, 21.0, 20.0, 19.0, 18.0, 17.0, 16.0, 15.0, 14.0, 13.0, 12.0, 11.0, 10.0, 9.0, 8.0, 7.0, 6.0, 5.0, 4.0, 3.0, 2.0, 1.0, -3.8938, -3.8979, -3.959, -3.9717, -4.0525, -4.1557, -4.237, -4.2523, -4.2523, -4.2678, -4.3682, -4.3682, -4.3682, -4.9968, -5.0608, -5.0959, -5.1324, -5.1324, -5.3119, -5.3229, -5.3535, -4.1005, -5.5085, -5.5561, -5.5561, -5.5561, -5.5998, -5.6321, -5.6346, -4.2523, -4.1406, -4.5037, -5.0959, -4.7003, -3.6371, -4.756, -2.4504, -2.4829, -4.743, -5.0466, -4.6745, -4.9106, -3.189, -3.6165, -3.6838, -4.2364, -4.3085, -4.3232, -4.3241, -4.4109, -4.4303, -4.4303, -4.4303, -4.4303, -4.4303, -5.1493, -5.2227, -5.2669, -5.2669, -5.3625, -5.4032, -5.5757, -5.636, -5.6393, -5.6746, -5.847, -5.8666, -5.8796, -5.9068, -5.9068, -4.2959, -6.0058, -4.6497, -3.8682, -4.5768, -4.5921, -4.6362, -4.209, -4.6545, -2.6825, -2.7211, -4.7844, -5.1288, -5.2564, -5.2524, -3.2275, -3.2481, -3.3478, -3.366, -3.3724, -3.3724, -3.3737, -3.3815, -3.3815, -3.3815, -3.3815, -4.905, -4.9473, -5.1145, -5.175, -5.18, -5.3634, -3.1796, -5.4667, -5.4912, -5.7061, -5.7936, -5.9224, -6.0153, -6.0153, -6.0451, -6.0516, -6.1507, -6.1507, -6.1508, -5.0918, -3.1301, -5.7968, -2.7586, -2.737, -5.5467, -5.5991, -5.71, -5.6172, -5.573, -5.655, -4.698, -4.7963, -4.8292, -5.0391, -5.0788, -5.2225, -5.2384, -5.3176, -5.3429, -5.3429, -5.3429, -5.3429, -5.3433, -5.5115, -5.5595, -5.5595, -5.5652, -5.576, -5.576, -5.62, -5.62, -5.62, -5.62, -5.6401, -5.6444, -5.6444, -5.6481, -5.6994, -5.6994, -5.7172, -4.4374, -4.9364, -5.158, -4.431, -4.473, -4.7785, -3.9297, -4.8408, -4.7313, -2.2808, -2.3582, -5.3123, -4.6812, -5.2309, -5.3963, -5.0555, -4.3285, -4.3357, -4.3564, -4.5161, -4.5414, -4.5984, -4.5984, -4.5984, -4.7498, -4.8224, -4.857, -4.8627, -4.8661, -4.8987, -4.8987, -4.8987, -4.8987, -4.987, -5.1324, -5.1877, -5.1877, -5.1982, -5.203, -5.203, -5.3112, -5.3398, -5.3558, -5.3686, -5.3692, -5.3984, -4.2812, -4.5984, -5.1423, -4.7709, -4.4996, -4.6246, -3.8267, -2.9435, -2.9882, -4.7847, -5.0703, -3.5167, -3.7221, -3.8004, -4.0152, -4.1297, -4.1742, -4.1974, -4.209, -4.2256, -4.2424, -4.3121, -4.3121, -4.4159, -4.4442, -4.4635, -4.489, -4.5607, -4.5983, -4.6276, -4.6276, -4.8136, -5.253, -3.2749, -5.3846, -5.3951, -5.4612, -4.1128, -5.516, -5.5272, -5.5321, -3.9854, -4.1996, -4.5102, -4.1141, -3.9895, -3.9872, -4.1143, -3.5389, -3.7948, -4.4538, -3.9629, -4.5949, -4.5966, -4.6979, -5.0251, -5.1594, -5.2203, -5.2203, -5.2203, -5.4077, -5.4293, -5.5099, -5.5266, -5.5848, -5.6473, -5.6657, -5.6937, -5.7131, -5.7277, -5.7277, -5.7899, -5.8122, -5.8217, -5.8283, -5.8283, -5.8504, -5.8504, -5.8504, -5.8505, -5.8672, -5.9509, -4.3477, -4.519, -4.4567, -4.3425, -4.5804, -5.232, -3.8419, -4.8926, -4.3194, -5.0175, -5.0289, -5.0626, -4.3964, -2.7642, -2.743, -5.2203, -4.8168, -5.2203, -5.4021, -5.4742, -5.401, -3.1886, -3.6205, -3.7971, -4.3796, -4.4265, -4.8557, -4.9366, -5.0054, -5.0824, -5.3822, -5.3822, -5.3822, -5.3822, -5.3822, -5.3822, -5.3822, -5.3822, -5.3961, -5.4576, -5.4687, -5.5477, -5.5555, -5.5641, -5.6196, -5.6197, -5.7358, -5.8131, -5.8131, -5.8131, -5.8673, -4.6371, -5.2528, -5.1925, -5.4457, -4.812, -3.0018, -3.0073, -5.5192, -5.4515, -5.4654, -5.4704, -3.5845, -3.6248, -3.6817, -3.6947, -4.4099, -4.4325, -4.4325, -4.4369, -4.4369, -4.4369, -4.4542, -4.4647, -4.7663, -4.9183, -5.1433, -5.1433, -5.1433, -5.1433, -5.1433, -5.1433, -5.1687, -5.4348, -5.4349, -5.4906, -5.5128, -5.5213, -5.53, -5.5434, -5.5915, -5.5956, -3.5755, -4.9711, -5.2238, -4.2589, -2.4273, -2.444, -4.8749, -4.8041, -4.8344, -3.9599, -3.984, -3.9895, -4.0144, -4.0399, -4.0441, -4.0441, -4.0704, -4.0704, -4.1743, -4.1743, -4.1743, -4.5255, -4.5757, -4.6236, -4.6312, -4.6961, -4.7377, -4.7377, -4.7377, -4.7377, -4.8774, -4.9354, -5.0991, -5.1114, -5.1766, -5.2751, -5.2751, -5.295, -3.8834, -3.4686, -4.1123, -3.9363, -3.9599, -3.9139, -4.6525, -4.0115, -4.0313], \"loglift\": [30.0, 29.0, 28.0, 27.0, 26.0, 25.0, 24.0, 23.0, 22.0, 21.0, 20.0, 19.0, 18.0, 17.0, 16.0, 15.0, 14.0, 13.0, 12.0, 11.0, 10.0, 9.0, 8.0, 7.0, 6.0, 5.0, 4.0, 3.0, 2.0, 1.0, 1.9094, 1.9093, 1.9086, 1.9085, 1.9074, 1.9059, 1.9047, 1.9044, 1.9044, 1.9042, 1.9024, 1.9024, 1.9024, 1.8865, 1.8843, 1.883, 1.8816, 1.8816, 1.874, 1.8735, 1.8721, 1.872, 1.8641, 1.8614, 1.8614, 1.8614, 1.8588, 1.8569, 1.8567, 1.8532, 1.6856, 1.7228, 1.7684, 1.6048, 1.2108, 1.5559, 0.3374, 0.2668, 1.287, 1.4479, 0.8032, 1.1119, 2.0444, 2.0409, 2.0402, 2.0323, 2.0309, 2.0306, 2.0306, 2.0288, 2.0283, 2.0283, 2.0283, 2.0283, 2.0283, 2.0051, 2.0017, 1.9995, 1.9995, 1.9945, 1.9923, 1.9816, 1.9774, 1.9772, 1.9746, 1.9609, 1.9592, 1.9581, 1.9556, 1.9556, 1.9542, 1.9462, 1.9206, 1.8719, 1.8835, 1.8693, 1.7721, 1.6619, 1.6984, 0.0672, 0.0666, 1.2381, 0.5642, 1.056, 0.7563, 2.1416, 2.1414, 2.1406, 2.1405, 2.1404, 2.1404, 2.1404, 2.1403, 2.1403, 2.1403, 2.1403, 2.1101, 2.1084, 2.1012, 2.0983, 2.0981, 2.0882, 2.0831, 2.0818, 2.0802, 2.0644, 2.0569, 2.045, 2.0354, 2.0354, 2.0321, 2.0314, 2.0199, 2.0199, 2.0199, 2.0168, 1.9957, 1.8214, 0.0291, 0.0127, 1.2818, 1.2108, 1.1696, 0.6947, -0.0954, 0.3751, 2.2232, 2.2195, 2.2182, 2.2087, 2.2067, 2.1988, 2.1979, 2.1929, 2.1913, 2.1913, 2.1913, 2.1913, 2.1913, 2.1792, 2.1754, 2.1754, 2.175, 2.1741, 2.1741, 2.1704, 2.1704, 2.1704, 2.1704, 2.1687, 2.1683, 2.1683, 2.168, 2.1634, 2.1634, 2.1617, 2.0756, 2.0775, 2.0729, 1.827, 1.8327, 1.8863, 1.548, 1.8771, 1.7651, 0.4688, 0.4296, 1.7267, 0.1667, 1.2205, 1.5648, 0.0703, 2.2688, 2.2686, 2.268, 2.2635, 2.2627, 2.2609, 2.2609, 2.2609, 2.2555, 2.2526, 2.2512, 2.2509, 2.2508, 2.2494, 2.2494, 2.2494, 2.2494, 2.2453, 2.2378, 2.2347, 2.2347, 2.2341, 2.2338, 2.2338, 2.2271, 2.2252, 2.2241, 2.2232, 2.2232, 2.2211, 2.1247, 2.1261, 2.1501, 1.9362, 1.7871, 1.8268, 1.2161, -0.1557, -0.2385, 1.7474, 1.7762, 2.3797, 2.3768, 2.3755, 2.3715, 2.369, 2.368, 2.3674, 2.3671, 2.3667, 2.3663, 2.3644, 2.3644, 2.3614, 2.3605, 2.3599, 2.359, 2.3566, 2.3553, 2.3542, 2.3542, 2.3465, 2.3221, 2.3205, 2.3125, 2.3117, 2.3065, 2.3052, 2.3018, 2.3009, 2.3004, 2.2964, 2.2503, 2.2452, 2.1266, 2.0384, 1.8449, 1.8264, 1.309, 1.248, 1.7816, -1.2133, 2.3707, 2.3706, 2.3666, 2.351, 2.343, 2.339, 2.339, 2.339, 2.3253, 2.3236, 2.3168, 2.3153, 2.31, 2.3039, 2.3021, 2.2992, 2.2972, 2.2957, 2.2957, 2.2889, 2.2863, 2.2852, 2.2845, 2.2844, 2.2819, 2.2819, 2.2819, 2.2819, 2.2799, 2.2694, 2.2401, 2.2101, 2.1986, 2.1176, 2.0373, 2.1596, 1.8511, 1.9411, 1.6894, 1.8416, 1.8275, 1.8474, 1.3085, 0.0236, 0.0067, 1.8052, 1.3151, 1.1326, 1.6608, 1.8117, -0.3581, 2.4388, 2.4335, 2.4307, 2.4167, 2.4152, 2.3977, 2.3935, 2.3897, 2.3851, 2.3639, 2.3639, 2.3639, 2.3639, 2.3639, 2.3639, 2.3639, 2.3639, 2.3627, 2.3575, 2.3565, 2.3494, 2.3486, 2.3478, 2.3423, 2.3423, 2.33, 2.3211, 2.3211, 2.321, 2.3144, 2.0467, 2.103, 2.0732, 2.0508, 1.4952, -0.2141, -0.2576, 2.0608, 1.3822, 1.1994, 0.5596, 2.5324, 2.5317, 2.5308, 2.5305, 2.5122, 2.5114, 2.5114, 2.5112, 2.5112, 2.5112, 2.5106, 2.5102, 2.4971, 2.4889, 2.4744, 2.4744, 2.4744, 2.4744, 2.4744, 2.4744, 2.4726, 2.4506, 2.4506, 2.4453, 2.4431, 2.4422, 2.4413, 2.44, 2.4349, 2.4345, 2.1294, 2.2558, 2.2995, 1.6818, 0.3604, 0.3057, 1.9536, 1.4539, 1.4779, 2.8309, 2.8302, 2.83, 2.8292, 2.8284, 2.8282, 2.8282, 2.8273, 2.8273, 2.8235, 2.8235, 2.8235, 2.8076, 2.8048, 2.8021, 2.8016, 2.7977, 2.795, 2.795, 2.795, 2.795, 2.7853, 2.7808, 2.767, 2.7658, 2.7596, 2.7496, 2.7496, 2.7474, 2.7465, 2.7326, 2.5598, 2.3677, 2.3473, 2.218, 2.2226, -1.2618, -1.2436]}, \"token.table\": {\"Topic\": [10, 7, 3, 6, 7, 2, 9, 9, 9, 5, 2, 4, 1, 2, 3, 4, 5, 7, 8, 9, 10, 1, 3, 4, 7, 2, 7, 2, 5, 3, 7, 1, 2, 6, 9, 6, 2, 4, 9, 5, 5, 4, 1, 8, 1, 4, 4, 8, 7, 4, 10, 1, 2, 9, 10, 8, 4, 5, 10, 3, 10, 2, 10, 7, 4, 7, 10, 6, 6, 3, 3, 9, 4, 2, 3, 1, 2, 2, 9, 4, 10, 4, 4, 6, 2, 9, 7, 2, 4, 8, 4, 5, 8, 1, 3, 8, 8, 1, 7, 2, 10, 6, 7, 8, 8, 2, 5, 4, 1, 5, 8, 5, 8, 5, 3, 9, 1, 2, 4, 6, 7, 8, 10, 1, 3, 5, 7, 8, 10, 9, 7, 4, 8, 7, 4, 8, 1, 1, 4, 10, 10, 2, 9, 1, 2, 3, 5, 7, 5, 2, 7, 10, 8, 1, 3, 9, 1, 7, 1, 4, 4, 3, 10, 4, 4, 7, 9, 1, 3, 6, 8, 10, 2, 9, 9, 7, 10, 7, 4, 2, 9, 7, 2, 7, 3, 7, 3, 3, 2, 5, 9, 3, 9, 8, 7, 8, 2, 5, 7, 2, 1, 7, 8, 7, 3, 7, 9, 9, 3, 6, 8, 6, 4, 4, 7, 1, 2, 5, 2, 6, 2, 6, 7, 3, 6, 4, 9, 6, 4, 5, 10, 6, 2, 1, 10, 3, 6, 3, 6, 3, 4, 9, 8, 6, 2, 7, 4, 5, 4, 5, 7, 2, 6, 8, 6, 6, 10, 5, 6, 8, 9, 4, 8, 3, 5, 1, 5, 6, 7, 3, 8, 10, 3, 1, 2, 7, 10, 3, 8, 4, 9, 2, 2, 4, 3, 5, 2, 3, 2, 2, 1, 3, 10, 6, 9, 5, 2, 3, 7, 7, 2, 1, 1, 2, 1, 1, 5, 7, 9, 2, 5, 8, 7, 9, 2, 7, 9, 3, 7, 2, 10, 9, 4, 8, 6, 8, 3, 5, 1, 2, 2, 2, 2, 7, 8, 10, 6, 9, 8, 6, 10, 1, 2, 7, 8, 5, 4, 7, 10, 2, 7, 7, 1, 5, 6, 9, 6, 2, 9, 3, 3, 4, 5, 8, 7, 5, 3, 10, 1, 4, 5, 5, 6, 5, 4, 9, 4, 9, 8, 10, 2, 5, 1, 9, 6, 7, 4, 9, 8, 1, 5, 9, 1, 6, 10, 4, 9, 5, 1, 10, 6, 5, 8, 10, 10, 1, 2, 5, 6, 5, 7, 6, 5, 10, 8, 10, 3, 1, 7, 7, 2, 10, 10, 3, 3, 1, 1, 1, 2, 9, 9, 8, 8, 3, 10, 1, 2, 3, 4, 5, 6, 7, 8, 9, 10, 5, 8, 6, 1, 7, 1, 5, 5, 4, 3, 4, 5, 9, 3, 1, 7, 4, 1, 6, 6, 1, 2, 10, 4, 2, 7, 10, 4, 5, 8, 9, 7, 4, 7, 2, 8, 1, 10, 8, 6, 5, 4, 7, 8, 1, 3, 5, 4, 10, 8, 1, 1, 1, 10, 3, 6, 1, 8, 9, 3, 7, 6, 1, 8, 7, 5, 4, 6, 4, 1, 2, 3, 4, 5, 6, 7, 9, 10, 5, 2, 6, 1, 2, 4, 7, 1, 9, 7, 8, 6, 7], \"Freq\": [0.9261731691025169, 0.9565666192210558, 0.9878417196436836, 0.8513920950099684, 0.11609892204681388, 0.9127564538301299, 0.9854721579843174, 0.9639736172047669, 0.9249124420403219, 0.9743099066154074, 0.8964199106059467, 0.9324687835954922, 0.2049942563765493, 0.13763900070996882, 0.12006806444912174, 0.16033479338022963, 0.0863904366158315, 0.0922474153694472, 0.06955162269918637, 0.11201471866290016, 0.01610669157244316, 0.32353864783806097, 0.10784621594602031, 0.4960925933516935, 0.07549235116221423, 0.4055989842890911, 0.5576986033975002, 0.9701544646893542, 0.9743099066154074, 0.9918822860712582, 0.9106942175550417, 0.9326203258785513, 0.9137249652374592, 0.8957698479565191, 0.9648040049324977, 0.9584883884495664, 0.26881390581782466, 0.5973642351507215, 0.08960463527260822, 0.8937527608307858, 0.9515596446489901, 0.9174431171694014, 0.9294086896804438, 0.060613610196550684, 0.15185597109726617, 0.8200222439252373, 0.9058899144992563, 0.9053724957507329, 0.9201374866435683, 0.9275783238133267, 0.9816605500210768, 0.9856466779234843, 0.9677500684168374, 0.10241564960226954, 0.8876022965530026, 0.9538648112630779, 0.5229216178112057, 0.4278449600273502, 0.04753832889192779, 0.9941882190650378, 0.962287228428171, 0.9029845857664747, 0.9863850635850061, 0.8984672067579169, 0.6417634565429923, 0.09873283946815266, 0.2221488888033435, 0.9594893207078901, 0.9090484713892731, 0.9812248090106909, 0.4163453514845787, 0.5412489569299523, 0.9498530206026911, 0.6134774714171433, 0.3943783744824493, 0.8630766026980626, 0.1294614904047094, 0.9779339768202927, 0.9809831157171357, 0.9275762555594766, 0.9506197149313901, 0.8877535254243812, 0.11405752404096295, 0.8554314303072221, 0.945994463643869, 0.954333663596562, 0.9550292426202831, 0.7658583451670922, 0.13676041877983788, 0.08205625126790274, 0.8716085810283802, 0.9352212461255555, 0.9379822315278135, 0.9896299042097914, 0.8815111097766086, 0.11018888872207608, 0.9218359044715069, 0.4737096105274915, 0.4737096105274915, 0.936697472306745, 0.8823835329066078, 0.9049648451840309, 0.8970556684862516, 0.9379822315278135, 0.9703376708676195, 0.1364280116694064, 0.8458536723503197, 0.8912029507426821, 0.9523059865429817, 0.9590088553349043, 0.9625400794377238, 0.970933461332799, 0.9895574071933251, 0.930426785661476, 0.8707886910605606, 0.9167086486447331, 0.4941018086682826, 0.045962958945886756, 0.12065276723295273, 0.3389768222259148, 0.1765548978073201, 0.7062195912292804, 0.1765548978073201, 0.5246282834465064, 0.16863051967923418, 0.09368362204401899, 0.0374734488176076, 0.1498937952704304, 0.8410289811505953, 0.9167086486447331, 0.895662278540891, 0.8874714065793581, 0.9551637084500855, 0.9502169289066935, 0.9275034092385469, 0.9379822315278135, 0.9933265889626102, 0.9782740127440369, 0.9275034092385469, 0.9261731691025169, 0.8262408926843496, 0.9677500684168374, 0.9167086486447331, 0.9771540440302956, 0.2751282657568213, 0.11005130630272852, 0.11005130630272852, 0.49523087836227836, 0.9875481439848494, 0.40650552000899126, 0.5871746400129874, 0.9816605500210768, 0.8609306803829632, 0.9874822343850327, 0.9918822860712582, 0.8998295273997305, 0.9624365202959854, 0.9201374866435683, 0.9754750664582161, 0.8942190699625936, 0.9206217690859664, 0.9941882320591745, 0.9570260643498827, 0.9592309088479438, 0.06201280070667686, 0.12402560141335373, 0.7441536084801224, 0.7946240248159115, 0.10696861872521887, 0.09168738747875903, 0.8484492047233247, 0.9863850635850061, 0.9182171494336295, 0.9854720743742121, 0.9584517535371921, 0.8895310622725021, 0.9261731691025169, 0.8372994294417311, 0.8912027116518735, 0.8869984184044162, 0.9793034819085185, 0.951155354710705, 0.6986790542444389, 0.2846470220995862, 0.14622910850191545, 0.804260096760535, 0.9918822860712582, 0.9561031780483562, 0.3727380947603152, 0.2733412694908978, 0.3478888884429609, 0.8758347639299778, 0.8307327078220587, 0.8611679094501221, 0.6277935137119589, 0.33482320731304477, 0.9779339768202927, 0.8607374482864436, 0.06621057294511105, 0.9779339768202927, 0.23043847756912356, 0.7489250520996515, 0.9788009293672235, 0.944355221349523, 0.9316171524124168, 0.8052740838474605, 0.17505958344510011, 0.8820416815302675, 0.9406374595388803, 0.9113900301850331, 0.05523575940515352, 0.9691411909897555, 0.8716085810283802, 0.13091479435567455, 0.8509461633118846, 0.4462761291192226, 0.4462761291192226, 0.0929741935665047, 0.9541792354732179, 0.9281120326597259, 0.9842666976072093, 0.9662025447933863, 0.8251520823968956, 0.8479841085440726, 0.8932490723734176, 0.9369711819626578, 0.9067651325232942, 0.9835149630159133, 0.5652600139729995, 0.3597109179828179, 0.9570260643498827, 0.9835603152203436, 0.9155173656299483, 0.24925148809234596, 0.7477544642770378, 0.9919847431237019, 0.9555240346303869, 0.910222217952164, 0.9655808775953019, 0.8571978488263613, 0.1137873250654462, 0.02275746501308924, 0.9675816037030096, 0.901879859919286, 0.4281147932923405, 0.5565492312800426, 0.3426614936852593, 0.6282127384229754, 0.9846346258988485, 0.8932824387812658, 0.9358495019737906, 0.1289445151445079, 0.1289445151445079, 0.7091948332947934, 0.987951941095768, 0.11117789338830884, 0.8671875684288091, 0.1121790416969419, 0.7104672640806321, 0.1121790416969419, 0.07478602779796127, 0.8716085810283802, 0.8544846240989655, 0.9533629030770155, 0.9179564485285545, 0.11255998044786503, 0.8629598501002985, 0.9765313521592861, 0.9258294609535472, 0.16239476207945683, 0.6495790483178273, 0.08119738103972841, 0.8479841085440726, 0.27165494393097034, 0.6711475085353386, 0.031959405168349456, 0.9400775095473501, 0.9964581321976052, 0.9053722072002163, 0.8094606204665267, 0.1245324031486964, 0.9938319445729668, 0.9366971934037097, 0.9522118961653957, 0.9560982739627387, 0.91834990079139, 0.8354911483709103, 0.14405019799498456, 0.9779339768202927, 0.9851095453386891, 0.17249627085531893, 0.22178091967112434, 0.6160581101975676, 0.5654853401156793, 0.42839798493612075, 0.9179564485285545, 0.168615429037772, 0.1348923432302176, 0.674461716151088, 0.9022884673011692, 0.9779339768202927, 0.9675857455624111, 0.9552188146989207, 0.035378474618478546, 0.9771540440302956, 0.4024132653566276, 0.5881424647519942, 0.951155354710705, 0.9584516114092081, 0.11062629535143483, 0.7006332038924206, 0.18437715891905804, 0.33839826118194133, 0.6632605919166049, 0.8364223076296472, 0.14421074269476677, 0.9385432577926497, 0.9394029502174741, 0.060887228254836286, 0.9106695074144546, 0.07005150057034266, 0.9654338209681422, 0.6716154034148188, 0.28278543301676584, 0.9655807562383533, 0.9379822315278135, 0.9918822860712582, 0.9361872541428383, 0.740046240682408, 0.24668208022746932, 0.9933579783197501, 0.975255951612915, 0.9805116024153984, 0.21811372556723432, 0.21811372556723432, 0.5234729413613624, 0.16681010907140018, 0.7506454908213008, 0.9379822315278135, 0.9705966993660095, 0.9721402893592601, 0.9846196062341086, 0.065781698720065, 0.52625358976052, 0.3289084936003249, 0.9413661030820845, 0.11308933752373485, 0.8293218085073889, 0.03769644584124495, 0.38635078364701597, 0.5580622430456897, 0.9338629666880769, 0.25435399793064256, 0.593492661838166, 0.12717699896532128, 0.9601444161772479, 0.9705966993660095, 0.9967128160308514, 0.9812375224613258, 0.9561037204572339, 0.9409044545882218, 0.21797242571811112, 0.6054789603280865, 0.1695341088918642, 0.9201375466603051, 0.9048703254288949, 0.9744324274054394, 0.9588352513424224, 0.1503445841836032, 0.8519526437070847, 0.9138135086683807, 0.20817997807182967, 0.7633265862633755, 0.9875481439848494, 0.6589755071782732, 0.3294877535891366, 0.93697138871149, 0.9138068405231506, 0.89340619982591, 0.9077612594053817, 0.9278959036798314, 0.9875481439848494, 0.9523059865429817, 0.8276338277544907, 0.9704186624472978, 0.951155354710705, 0.8716085810283802, 0.9894114751338426, 0.9218344350738511, 0.9289284230733418, 0.9743099066154074, 0.9167086486447331, 0.4371794992505097, 0.5522267358953806, 0.9717618968217068, 0.9038167522083596, 0.9167086486447331, 0.9845377178757397, 0.9381926519516697, 0.9654654992280441, 0.9757737213779433, 0.9751684537989425, 0.9500470736495747, 0.9863850635850061, 0.9142882719787065, 0.12297267564821544, 0.12297267564821544, 0.16908742901629623, 0.5841202093290233, 0.9440632540484153, 0.8721885747201537, 0.9693320738868405, 0.9048703254288949, 0.9400178303282358, 0.39553435356934413, 0.5933015303540162, 0.9954390054554073, 0.9523383223913977, 0.920137522925803, 0.825151955790295, 0.9877821398998917, 0.8262408926843496, 0.9490008965642734, 0.9611889484597083, 0.9790638290868979, 0.9771540440302956, 0.9671175525252269, 0.9782740127440369, 0.9492152645967156, 0.9781460895829419, 0.981237519143245, 0.9466653729905637, 0.9379822315278135, 0.962699419192091, 0.9531129553552026, 0.19099018420965413, 0.13742836133166994, 0.11839981899343872, 0.16702831608002963, 0.07963797348963438, 0.02748567226633399, 0.09091414672710474, 0.06695227859748024, 0.10641888492862647, 0.016209499028863636, 0.956545800892205, 0.9379822315278135, 0.9756043082530683, 0.9694190967659091, 0.9037381304940698, 0.9754750664582161, 0.9743099066154074, 0.9313627286729361, 0.9417798416493275, 0.40869468747165344, 0.24521681248299207, 0.08173893749433069, 0.24521681248299207, 0.9256367205654541, 0.8209323950498654, 0.15962574348191827, 0.9275034092385469, 0.07230589792104448, 0.9158747069998969, 0.9526916299070162, 0.6260219482445217, 0.2981056896402484, 0.05962113792804968, 0.9417798416493275, 0.12447000505430687, 0.33192001347815164, 0.518625021059612, 0.0720518687051192, 0.0720518687051192, 0.6844927526986324, 0.1441037374102384, 0.8465061213324911, 0.9275034092385469, 0.9176421334069106, 0.8683356587158955, 0.09648173985732172, 0.9678607534765804, 0.9850720650244799, 0.9218359044715069, 0.9888591613847802, 0.9649035944496598, 0.6710185487704105, 0.29823046612018245, 0.8055708377903927, 0.6954787894573862, 0.22354675375415986, 0.049677056389813304, 0.927863910656916, 0.9261731691025169, 0.9379822315278135, 0.978233270889138, 0.9823781359262782, 0.9838044978636858, 0.9104011324306521, 0.9972719706658663, 0.9436073747935001, 0.21163893557908856, 0.7054631185969619, 0.9854720357410018, 0.7337495543952773, 0.18343738859881933, 0.9863113299826664, 0.9862885840307392, 0.9817730822118851, 0.9022859721747477, 0.9444385165583886, 0.06065857379005436, 0.9341420363668372, 0.9540198515012617, 0.08378038252735087, 0.048871889807621346, 0.041890191263675436, 0.027926794175783625, 0.3421032286533494, 0.3211581330215117, 0.06283528689551315, 0.05585358835156725, 0.013963397087891813, 0.9581752778380841, 0.8412613303279554, 0.15423124389345846, 0.1203799656140021, 0.2273843794931151, 0.08025331040933474, 0.5751487246002323, 0.9754750664582161, 0.9167086486447331, 0.9337920573659594, 0.902481382378102, 0.9904066160274436, 0.9489219786090133], \"Term\": [\"absence\", \"abused\", \"access\", \"across\", \"across\", \"action\", \"activist\", \"activity\", \"actually\", \"adamantly\", \"afri\", \"afric\", \"africa\", \"africa\", \"africa\", \"africa\", \"africa\", \"africa\", \"africa\", \"africa\", \"africa\", \"african\", \"african\", \"african\", \"african\", \"afriforum\", \"afriforum\", \"afterparty\", \"aggression\", \"agony\", \"airport\", \"algeria\", \"almost\", \"already\", \"amapiano\", \"amazon\", \"america\", \"america\", \"america\", \"american\", \"among\", \"anxiety\", \"anything\", \"anything\", \"apartheid\", \"apartheid\", \"apartheidisrael\", \"apply\", \"arab\", \"argentina\", \"articulated\", \"asia\", \"aware\", \"away\", \"away\", \"baby\", \"bank\", \"bank\", \"bank\", \"behind\", \"bell\", \"better\", \"biggboss\", \"bigger\", \"black\", \"black\", \"black\", \"blame\", \"blocked\", \"born\", \"botswana\", \"botswana\", \"brand\", \"brazil\", \"brazil\", \"breaking\", \"breaking\", \"bridge\", \"brother\", \"bulgaria\", \"burnt\", \"buying\", \"call\", \"call\", \"came\", \"cancer\", \"cant\", \"cape\", \"cape\", \"cape\", \"caribbean\", \"centre\", \"chart\", \"child\", \"china\", \"china\", \"chitja\", \"citizen\", \"citizen\", \"city\", \"closing\", \"coal\", \"cold\", \"colombia\", \"coloured\", \"come\", \"come\", \"coming\", \"compromise\", \"condemn\", \"conference\", \"constitution\", \"continue\", \"convention\", \"corruption\", \"costing\", \"country\", \"country\", \"country\", \"country\", \"court\", \"court\", \"court\", \"covid\", \"covid\", \"covid\", \"covid\", \"covid\", \"crime\", \"cure\", \"currently\", \"cyril\", \"daily\", \"dangerous\", \"debt\", \"debut\", \"depe\", \"dependent\", \"depression\", \"direct\", \"distribut\", \"disturbing\", \"draining\", \"drinkabl\", \"drug\", \"drug\", \"drug\", \"drug\", \"dstv\", \"dudula\", \"dudula\", \"dump\", \"dying\", \"east\", \"ecstasy\", \"education\", \"egypt\", \"emirate\", \"enhypen\", \"entertain\", \"entrepreneur\", \"epic\", \"equipment\", \"europe\", \"ever\", \"ever\", \"ever\", \"every\", \"every\", \"every\", \"evidence\", \"exclusive\", \"experience\", \"express\", \"fact\", \"factory\", \"failure\", \"farm\", \"father\", \"figh\", \"fighter\", \"fighti\", \"fighting\", \"fighting\", \"final\", \"final\", \"finale\", \"financial\", \"first\", \"first\", \"first\", \"flower\", \"force\", \"foreign\", \"foreigner\", \"foreigner\", \"forgotten\", \"found\", \"found\", \"foundiougne\", \"france\", \"france\", \"friend\", \"friendly\", \"fuck\", \"fund\", \"fund\", \"gift\", \"girl\", \"global\", \"global\", \"globe\", \"go\", \"good\", \"good\", \"government\", \"government\", \"government\", \"great\", \"group\", \"happy\", \"harm\", \"harmful\", \"harvey\", \"headquarters\", \"hear\", \"heard\", \"held\", \"help\", \"help\", \"hemisphere\", \"hockey\", \"home\", \"host\", \"host\", \"http\", \"huge\", \"impact\", \"impose\", \"india\", \"india\", \"india\", \"indian\", \"indigenous\", \"international\", \"international\", \"investment\", \"investment\", \"israel\", \"johannes\", \"johannesburg\", \"join\", \"join\", \"join\", \"junior\", \"khatronkekhiladi\", \"khatronkekhiladi\", \"know\", \"know\", \"know\", \"know\", \"korea\", \"latest\", \"launched\", \"lawlessness\", \"league\", \"league\", \"leaked\", \"left\", \"life\", \"life\", \"life\", \"linking\", \"long\", \"long\", \"long\", \"longer\", \"look\", \"looking\", \"love\", \"love\", \"lupita\", \"majete\", \"major\", \"majority\", \"make\", \"malema\", \"malema\", \"mande\", \"mandela\", \"manufacturing\", \"manufacturing\", \"manufacturing\", \"many\", \"many\", \"medicalaidracialprofiling\", \"medium\", \"medium\", \"medium\", \"meet\", \"meter\", \"mexico\", \"middle\", \"middle\", \"mile\", \"million\", \"million\", \"minority\", \"monday\", \"month\", \"month\", \"month\", \"morning\", \"morning\", \"mozambique\", \"mozambique\", \"music\", \"must\", \"must\", \"name\", \"name\", \"namibia\", \"nation\", \"nation\", \"nato\", \"ndarari\", \"ndrama\", \"neck\", \"need\", \"need\", \"nelson\", \"never\", \"news\", \"nhlanhla\", \"nhlanhla\", \"nhlanhla\", \"nigeria\", \"nigeria\", \"njikjin\", \"nmexico\", \"northern\", \"note\", \"nothing\", \"nothing\", \"nothing\", \"nread\", \"nthe\", \"nthe\", \"nthe\", \"operation\", \"operation\", \"operationdudula\", \"opportunity\", \"opportunity\", \"opportunity\", \"organized\", \"origi\", \"oscar\", \"palestine\", \"park\", \"patrick\", \"people\", \"people\", \"people\", \"photo\", \"picture\", \"plant\", \"play\", \"please\", \"please\", \"police\", \"power\", \"power\", \"premiership\", \"president\", \"president\", \"problem\", \"produce\", \"professor\", \"protect\", \"protecting\", \"providing\", \"publicly\", \"putin\", \"qualified\", \"racist\", \"rank\", \"rare\", \"rather\", \"realized\", \"refusing\", \"regional\", \"reject\", \"reject\", \"remember\", \"reminds\", \"removi\", \"report\", \"resource\", \"result\", \"return\", \"revealed\", \"rise\", \"rohitshetty\", \"rule\", \"russia\", \"russia\", \"russia\", \"russia\", \"russian\", \"sabc\", \"sanction\", \"sandton\", \"sap\", \"say\", \"say\", \"scene\", \"school\", \"sent\", \"served\", \"shall\", \"shark\", \"shift\", \"shion\", \"show\", \"showed\", \"side\", \"similarly\", \"sister\", \"skill\", \"solidarity\", \"someone\", \"song\", \"soon\", \"sout\", \"south\", \"south\", \"south\", \"south\", \"south\", \"south\", \"south\", \"south\", \"south\", \"south\", \"speaking\", \"spotify\", \"stand\", \"state\", \"stop\", \"streaming\", \"stuck\", \"study\", \"superb\", \"support\", \"support\", \"support\", \"support\", \"table\", \"take\", \"take\", \"tape\", \"team\", \"team\", \"text\", \"thing\", \"thing\", \"thing\", \"thriller\", \"time\", \"time\", \"time\", \"today\", \"today\", \"today\", \"today\", \"tonight\", \"tough\", \"tour\", \"town\", \"town\", \"trip\", \"truck\", \"twala\", \"ukrai\", \"ukraine\", \"united\", \"united\", \"update\", \"vaccine\", \"vaccine\", \"vaccine\", \"video\", \"vigilantism\", \"viral\", \"visited\", \"waiver\", \"walk\", \"wall\", \"watch\", \"weak\", \"week\", \"week\", \"weekend\", \"well\", \"well\", \"western\", \"wheat\", \"white\", \"wild\", \"wildlife\", \"woman\", \"woman\", \"work\", \"world\", \"world\", \"world\", \"world\", \"world\", \"world\", \"world\", \"world\", \"world\", \"worst\", \"would\", \"would\", \"year\", \"year\", \"year\", \"year\", \"youtube\", \"zanu\", \"zealand\", \"zero\", \"zimbabwe\", \"zimpapers\"]}, \"R\": 30, \"lambda.step\": 0.01, \"plot.opts\": {\"xlab\": \"PC1\", \"ylab\": \"PC2\"}, \"topic.order\": [7, 10, 5, 2, 8, 3, 9, 6, 4, 1]};\n",
              "\n",
              "function LDAvis_load_lib(url, callback){\n",
              "  var s = document.createElement('script');\n",
              "  s.src = url;\n",
              "  s.async = true;\n",
              "  s.onreadystatechange = s.onload = callback;\n",
              "  s.onerror = function(){console.warn(\"failed to load library \" + url);};\n",
              "  document.getElementsByTagName(\"head\")[0].appendChild(s);\n",
              "}\n",
              "\n",
              "if(typeof(LDAvis) !== \"undefined\"){\n",
              "   // already loaded: just create the visualization\n",
              "   !function(LDAvis){\n",
              "       new LDAvis(\"#\" + \"ldavis_el591404052190324002356603842\", ldavis_el591404052190324002356603842_data);\n",
              "   }(LDAvis);\n",
              "}else if(typeof define === \"function\" && define.amd){\n",
              "   // require.js is available: use it to load d3/LDAvis\n",
              "   require.config({paths: {d3: \"https://d3js.org/d3.v5\"}});\n",
              "   require([\"d3\"], function(d3){\n",
              "      window.d3 = d3;\n",
              "      LDAvis_load_lib(\"https://cdn.jsdelivr.net/gh/bmabey/pyLDAvis@3.3.1/pyLDAvis/js/ldavis.v3.0.0.js\", function(){\n",
              "        new LDAvis(\"#\" + \"ldavis_el591404052190324002356603842\", ldavis_el591404052190324002356603842_data);\n",
              "      });\n",
              "    });\n",
              "}else{\n",
              "    // require.js not available: dynamically load d3 & LDAvis\n",
              "    LDAvis_load_lib(\"https://d3js.org/d3.v5.js\", function(){\n",
              "         LDAvis_load_lib(\"https://cdn.jsdelivr.net/gh/bmabey/pyLDAvis@3.3.1/pyLDAvis/js/ldavis.v3.0.0.js\", function(){\n",
              "                 new LDAvis(\"#\" + \"ldavis_el591404052190324002356603842\", ldavis_el591404052190324002356603842_data);\n",
              "            })\n",
              "         });\n",
              "}\n",
              "</script>"
            ]
          },
          "metadata": {},
          "execution_count": 36
        }
      ]
    },
    {
      "cell_type": "code",
      "source": [
        "# Compute Perplexity\n",
        "# a measure of how good the model is. lower the better\n",
        "%%capture\n",
        "base_perplexity = base_model.log_perplexity(corpus)\n",
        " \n",
        "# Compute Coherence Score\n",
        "coherence_model = CoherenceModel(model=lda_model, texts=lemming_tweets, \n",
        "                                   dictionary=id2word, coherence='c_v')\n",
        "coherence_lda_model_base = coherence_model.get_coherence()\n"
      ],
      "metadata": {
        "id": "2c3OoOi7CEYu"
      },
      "execution_count": 37,
      "outputs": []
    },
    {
      "cell_type": "code",
      "source": [
        "print('\\nPerplexity: ', base_perplexity)\n",
        "print('\\nCoherence Score: ', coherence_lda_model_base)"
      ],
      "metadata": {
        "colab": {
          "base_uri": "https://localhost:8080/"
        },
        "id": "RpgMMA5L_2ZC",
        "outputId": "1fe34111-78da-4bf1-822d-74b653b0f32b"
      },
      "execution_count": 38,
      "outputs": [
        {
          "output_type": "stream",
          "name": "stdout",
          "text": [
            "\n",
            "Perplexity:  -6.51592199107685\n",
            "\n",
            "Coherence Score:  0.3445004717085379\n"
          ]
        }
      ]
    },
    {
      "cell_type": "markdown",
      "source": [
        "*Based on the values, model two did better***"
      ],
      "metadata": {
        "id": "HplclOSlAmJD"
      }
    }
  ]
}